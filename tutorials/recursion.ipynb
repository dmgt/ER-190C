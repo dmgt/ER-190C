{
 "cells": [
  {
   "cell_type": "markdown",
   "metadata": {},
   "source": [
    "# Tutorial on recursion and memoization\n",
    "\n",
    "ER190, Fall 2018\n",
    "<br>GSI: Seigi Karasaki\n",
    "\n",
    "\n",
    "-----"
   ]
  },
  {
   "cell_type": "markdown",
   "metadata": {},
   "source": [
    "<img src = \"https://imgs.xkcd.com/comics/tabletop_roleplaying.png\" style = \"width:350px\">\n",
    "\n",
    "Source: <a href =\"https://xkcd.com/244/\">xkcd</a>"
   ]
  },
  {
   "cell_type": "markdown",
   "metadata": {},
   "source": [
    "### recursion!\n",
    "\n"
   ]
  },
  {
   "cell_type": "markdown",
   "metadata": {},
   "source": [
    "Recursion can be a tough concept to wrap your mind around. In essense, a function that is recursive is one that is designed to loop through a specified process until a desired outcome is reached. "
   ]
  },
  {
   "cell_type": "markdown",
   "metadata": {},
   "source": [
    "<img src = \"recur.PNG\" style = \"width:500px\">"
   ]
  },
  {
   "cell_type": "markdown",
   "metadata": {},
   "source": [
    "Above is a simplistic representation of how a recursive function might run.\n",
    "\n",
    "<a href=\"https://realpython.com/python-thinking-recursively/\">Realpython</a> uses a great analogy to explain recursion, which I encourage you to go read. For the purposes of this tutorial, I'm going to adapt it to better fit ER190.\n",
    "\n",
    "----"
   ]
  },
  {
   "cell_type": "markdown",
   "metadata": {},
   "source": [
    "Last weekend, Duncan and Seigi went on a bike ride together. Unfortunately for Seigi, Duncan, who offered to take charge in planning the ride, planned a bike-venture much longer than what Seigi was interested in. Coincidentally, Duncan happens to be in much better shape than Seigi.\n",
    "\n",
    "The result was a 50 mile ride from Barrows Hall to the Main Quad on Stanford's campus. Seigi caught an abdominal cramp the moment he saddled up, and started asking Duncan if they're there yet (\"are we there yet?\") every five miles afterward. Duncan, in an impressive demonstration of patience and dishonesty that only comes with a second child, replied with a simple \"no, just five more miles to go\" until they reached Stanford.\n",
    "\n",
    "Lets try to code this."
   ]
  },
  {
   "cell_type": "code",
   "execution_count": 1,
   "metadata": {},
   "outputs": [],
   "source": [
    "def ER190_ride(miles_left):\n",
    "    # Seigi is always asking if they're there yet.\n",
    "    print('Seigi asks: \\'are we there yet?\\'')\n",
    "    \n",
    "    # This is the condition for termination (arrive @ Stanford\n",
    "    if miles_left <= 0:\n",
    "        print('Duncan says: \\'we\\'re here!')\n",
    "    \n",
    "    # If they haven't arrived yet, subtract another 5 miles\n",
    "    else:\n",
    "        print('Duncan says: \\'just five more miles to go.\\'')\n",
    "        print('Reality: {} miles to go.'.format(miles_left))\n",
    "        return ER190_ride(miles_left-5)\n",
    "    \n",
    "    # note how the original function, ER190_ride(), is called again, but with a slightly different input."
   ]
  },
  {
   "cell_type": "code",
   "execution_count": 2,
   "metadata": {},
   "outputs": [
    {
     "name": "stdout",
     "output_type": "stream",
     "text": [
      "Seigi asks: 'are we there yet?'\n",
      "Duncan says: 'just five more miles to go.'\n",
      "Reality: 50 miles to go.\n",
      "Seigi asks: 'are we there yet?'\n",
      "Duncan says: 'just five more miles to go.'\n",
      "Reality: 45 miles to go.\n",
      "Seigi asks: 'are we there yet?'\n",
      "Duncan says: 'just five more miles to go.'\n",
      "Reality: 40 miles to go.\n",
      "Seigi asks: 'are we there yet?'\n",
      "Duncan says: 'just five more miles to go.'\n",
      "Reality: 35 miles to go.\n",
      "Seigi asks: 'are we there yet?'\n",
      "Duncan says: 'just five more miles to go.'\n",
      "Reality: 30 miles to go.\n",
      "Seigi asks: 'are we there yet?'\n",
      "Duncan says: 'just five more miles to go.'\n",
      "Reality: 25 miles to go.\n",
      "Seigi asks: 'are we there yet?'\n",
      "Duncan says: 'just five more miles to go.'\n",
      "Reality: 20 miles to go.\n",
      "Seigi asks: 'are we there yet?'\n",
      "Duncan says: 'just five more miles to go.'\n",
      "Reality: 15 miles to go.\n",
      "Seigi asks: 'are we there yet?'\n",
      "Duncan says: 'just five more miles to go.'\n",
      "Reality: 10 miles to go.\n",
      "Seigi asks: 'are we there yet?'\n",
      "Duncan says: 'just five more miles to go.'\n",
      "Reality: 5 miles to go.\n",
      "Seigi asks: 'are we there yet?'\n",
      "Duncan says: 'we're here!\n"
     ]
    }
   ],
   "source": [
    "ER190_ride(50)"
   ]
  },
  {
   "cell_type": "markdown",
   "metadata": {},
   "source": [
    "### the fibonacci sequence"
   ]
  },
  {
   "cell_type": "markdown",
   "metadata": {},
   "source": [
    "The fibonacci sequence is a sequence of integers, constructed by adding the two preceding numbers. A fibonacci number is any number in this sequence. \n",
    "\n",
    "Beginning with 0 and 1, the sequence continues infinitely: 0, 1, 1, 2, 3, 5, 8, 13 ...\n",
    "\n",
    "It can be written out as: \n",
    "\n",
    "$$x_n = x_{n-1} + x_{n-2}$$\n",
    "\n",
    "In other words, if we want to know what the <i>n</i><sup>th</sup> term is in the sequence, it is necessary to know the (<i>n</i>-1)<sup>th</sup> and (<i>n</i>-2)<sup>th</sup> terms as well. \n",
    "\n",
    "Luckily, the function to calculate the <i>n</i><sup>th</sup> term of the fibonacci sequence is fairly straightforward."
   ]
  },
  {
   "cell_type": "code",
   "execution_count": 1,
   "metadata": {},
   "outputs": [],
   "source": [
    "def fib(n):\n",
    "    if n == 1:\n",
    "        return 0\n",
    "    elif n == 2:\n",
    "        return 1\n",
    "    elif n == 3:\n",
    "        return 1\n",
    "    elif n > 3:\n",
    "        return fib(n-1) + fib(n-2)"
   ]
  },
  {
   "cell_type": "code",
   "execution_count": 2,
   "metadata": {},
   "outputs": [
    {
     "data": {
      "text/plain": [
       "5"
      ]
     },
     "execution_count": 2,
     "metadata": {},
     "output_type": "execute_result"
    }
   ],
   "source": [
    "fib(6)"
   ]
  },
  {
   "cell_type": "markdown",
   "metadata": {},
   "source": [
    "Now, what is actually happening in the function we wrote?\n",
    "\n",
    "It is first presenting us with one of three terminating conditions: if n == 1, `return` 0 (the first term of the fibonacci sequence is zero). The other two are that if n == 1 or n == 2, `return` 1. The last `elif` tells us that, if n > 2, we should (recursively) call fib(<i>n</i>-1) and fib(<i>n</i>-2).\n",
    "\n",
    "Lets try drawing this sequence out, taking fib(6) as an example:"
   ]
  },
  {
   "cell_type": "markdown",
   "metadata": {},
   "source": [
    "<img src = \"fib.PNG\" style = \"float:left;width:500px\">"
   ]
  },
  {
   "cell_type": "markdown",
   "metadata": {},
   "source": [
    "What's hard to tell from just looking at this example of recursive code is that it is pretty inefficient due to redundancies in its calculations. We can make it more apparent by including a print() function."
   ]
  },
  {
   "cell_type": "code",
   "execution_count": 3,
   "metadata": {},
   "outputs": [],
   "source": [
    "def fib_track(n):\n",
    "    \n",
    "    print(\"Calculating the {}th term\".format(n))\n",
    "    \n",
    "    if n == 1:\n",
    "        return 0\n",
    "    elif n == 2:\n",
    "        return 1\n",
    "    elif n == 3:\n",
    "        return 1\n",
    "    elif n > 3:\n",
    "        return fib_track(n-1) + fib_track(n-2)"
   ]
  },
  {
   "cell_type": "code",
   "execution_count": 4,
   "metadata": {},
   "outputs": [
    {
     "name": "stdout",
     "output_type": "stream",
     "text": [
      "Calculating the 6th term\n",
      "Calculating the 5th term\n",
      "Calculating the 4th term\n",
      "Calculating the 3th term\n",
      "Calculating the 2th term\n",
      "Calculating the 3th term\n",
      "Calculating the 4th term\n",
      "Calculating the 3th term\n",
      "Calculating the 2th term\n"
     ]
    },
    {
     "data": {
      "text/plain": [
       "5"
      ]
     },
     "execution_count": 4,
     "metadata": {},
     "output_type": "execute_result"
    }
   ],
   "source": [
    "fib_track(6)"
   ]
  },
  {
   "cell_type": "markdown",
   "metadata": {},
   "source": [
    "If we use the graph above, our fib_track() function is following the calculation sequence below:"
   ]
  },
  {
   "cell_type": "markdown",
   "metadata": {},
   "source": [
    "<img src = \"fib2.PNG\" style = \"float:left;width:500px\">"
   ]
  },
  {
   "cell_type": "markdown",
   "metadata": {},
   "source": [
    "While calculations 1-4 are new, 5-9 are clearly repetitive! \n",
    "\n",
    "Luckily, we can cut down on computation time by using something called <i>memoization</i>, a technique to cache (memorize/store) values of interest for future use."
   ]
  },
  {
   "cell_type": "code",
   "execution_count": 5,
   "metadata": {},
   "outputs": [],
   "source": [
    "# create a cache (dictionary - you can tell by the curly brackets) to store our calculations for n.\n",
    "fib_cache = {}"
   ]
  },
  {
   "cell_type": "code",
   "execution_count": 6,
   "metadata": {},
   "outputs": [],
   "source": [
    "def fib_fast(n): \n",
    "    # step 0: create a cache (dictionary - you can tell by the curly brackets) to store our calculations for n.\n",
    "    fib_cache = {}\n",
    "    \n",
    "    x = fib_fast_(n)\n",
    "    return x"
   ]
  },
  {
   "cell_type": "code",
   "execution_count": 7,
   "metadata": {},
   "outputs": [],
   "source": [
    "def fib_fast_(n):\n",
    "    # step 1: check that input is a positive integer\n",
    "    # note: this step isn't necessary, but it returns an informative error message for the user.\n",
    "    if type(n) != int:\n",
    "        raise TypeError(\"n must be a positive integer\")\n",
    "\n",
    "    if n < 1:\n",
    "        raise ValueError(\"n must be a positive integer\")\n",
    "\n",
    "    # step 2: check if we've already done this calculation. if we have, pull it from the cache.\n",
    "    if n in fib_cache:\n",
    "        return fib_cache[n]\n",
    "\n",
    "    # step 3: compute the n-th term\n",
    "    if n == 1:\n",
    "        value = 0\n",
    "    elif n == 2:\n",
    "        value = 1\n",
    "    elif n == 3:\n",
    "        value = 1\n",
    "    elif n > 3:\n",
    "        value = fib_fast_(n-1) + fib_fast_(n-2)\n",
    "\n",
    "    # step 4: cache the value and return it\n",
    "    fib_cache[n] = value\n",
    "    return value"
   ]
  },
  {
   "cell_type": "code",
   "execution_count": 8,
   "metadata": {},
   "outputs": [],
   "source": [
    "# this is identical to fib_fast(), but with a print function to track progress\n",
    "\n",
    "def fib_fast_track(n):    \n",
    "    global fib_cache\n",
    "    # step 1: check that input is a positive integer\n",
    "    # note: this step isn't necessary, but it returns an informative error message for the user.\n",
    "    if type(n) != int:\n",
    "        raise TypeError(\"n must be a positive integer\")\n",
    "\n",
    "    if n < 1:\n",
    "        raise ValueError(\"n must be a positive integer\")\n",
    "\n",
    "    # step 2: check if we've already done this calculation. if we have, pull it from the cache.\n",
    "    if n in fib_cache:\n",
    "        return fib_cache[n]\n",
    "    \n",
    "    print(\"Calculating {}th term\".format(n))\n",
    "\n",
    "    # step 3: compute the n-th term\n",
    "    if n == 1:\n",
    "        value = 0\n",
    "    elif n == 2:\n",
    "        value = 1\n",
    "    elif n == 3:\n",
    "        value = 1\n",
    "    elif n > 3:\n",
    "        value = fib_fast_track(n-1) + fib_fast_track(n-2)\n",
    "\n",
    "    # step 4: cache the value and return it\n",
    "    fib_cache[n] = value\n",
    "    return value"
   ]
  },
  {
   "cell_type": "markdown",
   "metadata": {},
   "source": [
    "Now, if we repeat our calculation for the 6th term in the fibonacci sequence, we shouldn't see any repeats."
   ]
  },
  {
   "cell_type": "code",
   "execution_count": 9,
   "metadata": {},
   "outputs": [
    {
     "name": "stdout",
     "output_type": "stream",
     "text": [
      "Calculating 10th term\n",
      "Calculating 9th term\n",
      "Calculating 8th term\n",
      "Calculating 7th term\n",
      "Calculating 6th term\n",
      "Calculating 5th term\n",
      "Calculating 4th term\n",
      "Calculating 3th term\n",
      "Calculating 2th term\n"
     ]
    },
    {
     "data": {
      "text/plain": [
       "34"
      ]
     },
     "execution_count": 9,
     "metadata": {},
     "output_type": "execute_result"
    }
   ],
   "source": [
    "fib_cache.clear()\n",
    "\n",
    "fib_fast_track(10)"
   ]
  },
  {
   "cell_type": "markdown",
   "metadata": {},
   "source": [
    "Let's take this opportunity to get a little fancy. \n",
    "\n",
    "In theory, recursive functions are more efficient with memoization. We can test this by measuring and comparing computation speeds."
   ]
  },
  {
   "cell_type": "code",
   "execution_count": 10,
   "metadata": {},
   "outputs": [],
   "source": [
    "import time\n",
    "\n",
    "# lets define another function that calculates how long a given function takes to finish its computations\n",
    "\n",
    "def func_timer(func, x):\n",
    "    time_start = time.time()\n",
    "    \n",
    "    result = func(x)\n",
    "    \n",
    "    time_end = time.time()\n",
    "    \n",
    "    print(result)\n",
    "    return time_end-time_start\n",
    "\n",
    "# we'll use this function below - ignore it for now\n",
    "def func_timer_noprint(func, x):\n",
    "    time_start = time.time()\n",
    "    \n",
    "    result = func(x)\n",
    "    \n",
    "    time_end = time.time()\n",
    "    \n",
    "    return time_end-time_start"
   ]
  },
  {
   "cell_type": "markdown",
   "metadata": {},
   "source": [
    "Note: every time you run `func_time(fib_fast, x)`, you'll want to wipe fib_cache (the dictionary where everything is stored), by re-running its cell. Otherwise, the function will be relying on results from previous executions, and you won't be getting accurate measurements of calculation time."
   ]
  },
  {
   "cell_type": "code",
   "execution_count": 11,
   "metadata": {},
   "outputs": [
    {
     "name": "stdout",
     "output_type": "stream",
     "text": [
      "63245986\n"
     ]
    },
    {
     "data": {
      "text/plain": [
       "37.031025886535645"
      ]
     },
     "execution_count": 11,
     "metadata": {},
     "output_type": "execute_result"
    }
   ],
   "source": [
    "func_timer(fib, 40)"
   ]
  },
  {
   "cell_type": "code",
   "execution_count": 26,
   "metadata": {},
   "outputs": [
    {
     "name": "stdout",
     "output_type": "stream",
     "text": [
      "63245986\n"
     ]
    },
    {
     "data": {
      "text/plain": [
       "0.000997304916381836"
      ]
     },
     "execution_count": 26,
     "metadata": {},
     "output_type": "execute_result"
    }
   ],
   "source": [
    "fib_cache.clear()\n",
    "\n",
    "func_timer(fib_fast, 40)"
   ]
  },
  {
   "cell_type": "markdown",
   "metadata": {},
   "source": [
    "That's an insane difference - fib_fast() is ~37,000 times faster at calculating the 40th fibonacci number than fib()! Play around with this if you have the time. The gap in computational time becomes exponentially larger as the number goes up."
   ]
  },
  {
   "cell_type": "markdown",
   "metadata": {},
   "source": [
    "### string_splosion()\n",
    "\n",
    "OK. Now let's take an the example from our first homework: "
   ]
  },
  {
   "cell_type": "code",
   "execution_count": 1,
   "metadata": {},
   "outputs": [],
   "source": [
    "def string_splosion(string): \n",
    "    if string == '': \n",
    "        return '' \n",
    "    return string_splosion(string[:-1]) + string"
   ]
  },
  {
   "cell_type": "code",
   "execution_count": 2,
   "metadata": {},
   "outputs": [
    {
     "name": "stdout",
     "output_type": "stream",
     "text": [
      "ddudunduncduncaduncan\n"
     ]
    }
   ],
   "source": [
    "print(string_splosion('duncan'))"
   ]
  },
  {
   "cell_type": "markdown",
   "metadata": {},
   "source": [
    "<img src = \"batman.png\" style = \"float:left;width:250px\">"
   ]
  },
  {
   "cell_type": "markdown",
   "metadata": {},
   "source": [
    "(bonus points if you try singing that output to the batman theme song..)\n",
    "\n",
    "So, what's happening here?\n",
    "\n",
    "This is probably easiest understood if we break the logic down with an example.\n",
    "\n",
    "Let's take \"hello\" to be our example string. If string = \"hello\", then string[:-1] = \"hell\". \n",
    "\n",
    "Calling [:-1] omits the last character of the string. Think of it as selecting the indices 0 to one-before-the-end."
   ]
  },
  {
   "cell_type": "code",
   "execution_count": 3,
   "metadata": {},
   "outputs": [
    {
     "name": "stdout",
     "output_type": "stream",
     "text": [
      "hello\n",
      "hell\n"
     ]
    }
   ],
   "source": [
    "print('hello')\n",
    "print('hello'[:-1])"
   ]
  },
  {
   "cell_type": "markdown",
   "metadata": {},
   "source": [
    "So: let's go back to our original function. What is happening via the last return of string_splosion()?\n",
    "\n",
    "We return string_splosion(\"hell\") + \"hello\". We can verify that this is true pretty easily."
   ]
  },
  {
   "cell_type": "code",
   "execution_count": 4,
   "metadata": {},
   "outputs": [
    {
     "data": {
      "text/plain": [
       "True"
      ]
     },
     "execution_count": 4,
     "metadata": {},
     "output_type": "execute_result"
    }
   ],
   "source": [
    "string_splosion(\"hell\") + \"hello\" == string_splosion(\"hello\")"
   ]
  },
  {
   "cell_type": "markdown",
   "metadata": {},
   "source": [
    "There's nothing left to do for \"hello\" (it's in its 'final form' if you will), but we still need to solve for string_splosion(\"hell\").\n",
    "\n",
    "Following the same logic as above, for the last line of string_splosion(\"hell\"), we get:\n",
    "return string_splosion(\"hel\") + \"hell\"\".\n",
    "\n",
    "In other words, string_splosion(\"hello\") = string_splosion(\"hel\") + \"hell\" + \"hello\"."
   ]
  },
  {
   "cell_type": "code",
   "execution_count": 5,
   "metadata": {},
   "outputs": [
    {
     "data": {
      "text/plain": [
       "True"
      ]
     },
     "execution_count": 5,
     "metadata": {},
     "output_type": "execute_result"
    }
   ],
   "source": [
    "string_splosion(\"hel\") + \"hell\" + \"hello\" == string_splosion(\"hello\")"
   ]
  },
  {
   "cell_type": "markdown",
   "metadata": {},
   "source": [
    "If we continue this, we eventually get \"h\" + \"he\" + \"hel\" + \"hell\" + \"hello\", or \"hhehelhellhello\".\n",
    "\n",
    "Easy!\n",
    "\n",
    "At this point, the function terminates, because string == '' (a blank; refer back to lines 2 and 3 of the original function). \n",
    "\n",
    "Remember, [:-1] keeps subtracting from the string."
   ]
  },
  {
   "cell_type": "markdown",
   "metadata": {},
   "source": [
    "<img src = \"https://imgs.xkcd.com/comics/fixing_problems.png\" style = \"width:350px\">\n",
    "\n",
    "Source: <a href =\"https://www.xkcd.com/1739/\">xkcd</a>"
   ]
  },
  {
   "cell_type": "markdown",
   "metadata": {},
   "source": [
    "-----\n",
    "\n",
    "Thanks for taking the time to go through these notes. I hope they helped! <br>\n",
    "I drew inspiration from the following resources. Wouldn't have been able to do it without 'em.\n",
    "\n",
    "References:\n",
    "- <a href = \"https://realpython.com/python-thinking-recursively/\">thinking recursively in python</a>, @ realpython.com\n",
    "- <a href = \"https://www.youtube.com/watch?v=Qk0zUZW-U_M\">Recursion, the Fibonacci Sequence and Memoization</a>, @ Learn Python Programming"
   ]
  }
 ],
 "metadata": {
  "kernelspec": {
   "display_name": "Python 3",
   "language": "python",
   "name": "python3"
  },
  "language_info": {
   "codemirror_mode": {
    "name": "ipython",
    "version": 3
   },
   "file_extension": ".py",
   "mimetype": "text/x-python",
   "name": "python",
   "nbconvert_exporter": "python",
   "pygments_lexer": "ipython3",
   "version": "3.6.5"
  }
 },
 "nbformat": 4,
 "nbformat_minor": 2
}
