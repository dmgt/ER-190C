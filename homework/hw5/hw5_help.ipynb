{
 "cells": [
  {
   "cell_type": "markdown",
   "metadata": {
    "collapsed": true
   },
   "source": [
    "# [ERG 190C] Homework 5: helpful code\n",
    "\n",
    "\n",
    "---\n",
    "\n",
    "Hey everyone,\n",
    "\n",
    "Here is some code that should prove helpful for you on the homework. We encourage you to try to solve the homework without this first, though! \n",
    "\n",
    "- Duncan & Seigi"
   ]
  },
  {
   "cell_type": "markdown",
   "metadata": {},
   "source": [
    "### Extra help\n",
    "Here are some functions we asked you to write for Section 1"
   ]
  },
  {
   "cell_type": "code",
   "execution_count": null,
   "metadata": {},
   "outputs": [],
   "source": [
    "def get_hour_data(hour):\n",
    "    hour_data = oct_13[oct_13['Time Local'] == hour]\n",
    "    hour_data['Type'] = np.repeat('Observed', len(hour_data))\n",
    "    \n",
    "    return hour_data\n",
    "\n",
    "def create_grid(seed):\n",
    "    grid = ca_locations.sample(150, random_state = seed)\n",
    "    grid['Type'] = np.repeat('Predicted', len(grid))\n",
    "    \n",
    "    return grid"
   ]
  },
  {
   "cell_type": "code",
   "execution_count": null,
   "metadata": {},
   "outputs": [],
   "source": [
    "def predict_measurements(hour_data, grid, k):\n",
    "    predicted_measurements = []\n",
    "    \n",
    "    for i in np.arange(0, len(grid)):\n",
    "        distances = []\n",
    "        \n",
    "        for j in np.arange(0, len(hour_data)):\n",
    "            distance = find_distance(grid.iloc[i]['Latitude'], grid.iloc[i]['Longitude'],\n",
    "                                     hour_data.iloc[j]['Latitude'], hour_data.iloc[j]['Longitude'])\n",
    "            distances.append(distance)\n",
    "            \n",
    "        hour_data['Distances'] = distances\n",
    "        nearest_neighbors = hour_data.sort_values(by='Distances').iloc[0:k]\n",
    "        average_measurement = np.mean(nearest_neighbors['Sample Measurement'])\n",
    "        predicted_measurements.append(average_measurement)\n",
    "        \n",
    "    grid['Sample Measurement'] = predicted_measurements\n",
    "    return grid"
   ]
  }
 ],
 "metadata": {
  "kernelspec": {
   "display_name": "Python 3",
   "language": "python",
   "name": "python3"
  },
  "language_info": {
   "codemirror_mode": {
    "name": "ipython",
    "version": 3
   },
   "file_extension": ".py",
   "mimetype": "text/x-python",
   "name": "python",
   "nbconvert_exporter": "python",
   "pygments_lexer": "ipython3",
   "version": "3.6.5"
  }
 },
 "nbformat": 4,
 "nbformat_minor": 2
}
