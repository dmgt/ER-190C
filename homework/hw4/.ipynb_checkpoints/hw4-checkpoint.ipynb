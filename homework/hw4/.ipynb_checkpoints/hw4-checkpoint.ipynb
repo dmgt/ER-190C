{
 "cells": [
  {
   "cell_type": "markdown",
   "metadata": {},
   "source": [
    "# [ERG-190C] Homework 4: Data Visualization"
   ]
  },
  {
   "cell_type": "markdown",
   "metadata": {},
   "source": [
    "So far we have learned how to use numpy and pandas to manipulate and explore datasets. Now, we are going to learn how to use Python libraries matplotlib and seaborn to explore datasets visually.\n",
    "In this homework, we will explore:\n",
    "+ How to plot and customize graphs with matplotlib and seaborn\n",
    "+ How to visualize distributions with histograms, kernel density estimators, box-and-whisker plots, and violin plots, and how to determine when to use which type of plot\n",
    "+ How to create basic scatter plots\n",
    "+ Analyze and interpret plots\n",
    "+ How to apply best practices when creating visualizations, including labeling titles, axes, legends, adjusting the font size, and choosing a color palette\n",
    "\n",
    "## Table of Contents\n",
    "1 - [Plotting Basics](#section basics)<br>\n",
    "2 - [The Data](#section 1)<br>\n",
    "3 - [Visual EDA - Histograms, KDEs, Box Plots, Violin Plots](#section 2)<br>\n",
    "4 - [Scatter Plots](#section 3)<br>\n",
    "\n",
    "**Dependencies:**"
   ]
  },
  {
   "cell_type": "code",
   "execution_count": null,
   "metadata": {},
   "outputs": [],
   "source": [
    "import pandas as pd\n",
    "import numpy as np\n",
    "import matplotlib.pyplot as plt\n",
    "import seaborn as sns\n",
    "import warnings \n",
    "warnings.filterwarnings('ignore')\n",
    "plt.style.use('fivethirtyeight') "
   ]
  },
  {
   "cell_type": "markdown",
   "metadata": {},
   "source": [
    "<u>Reminder</u>: whenever you plot a graph for a lab or hw assignment, always include the basic elements of a graph: axis labels, title, legend (if necessary), etc."
   ]
  },
  {
   "cell_type": "markdown",
   "metadata": {},
   "source": [
    "\n",
    "----\n",
    "\n",
    "## Section 1: Plotting Basics <a id='section basics'></a>\n",
    "\n",
    "Before we work with the data, we are going to go over some basic plotting basics using trig functions. Take a look at the sample code below that plots a sine wave."
   ]
  },
  {
   "cell_type": "code",
   "execution_count": null,
   "metadata": {
    "scrolled": true
   },
   "outputs": [],
   "source": [
    "# Sample code to plot a sine wave\n",
    "x = np.arange(0, 10, 0.1) # This generates a set of numbers to plug into the sine function\n",
    "y = np.sin(x) # Outputs y values from the sine function\n",
    "plt.figure(figsize=(8,6)) #a\n",
    "plt.plot(x, y) #b\n",
    "plt.title(\"Sine Wave\") #c\n",
    "plt.xlabel(\"x\") #d\n",
    "plt.ylabel(\"y\") #e\n",
    "plt.axhline(y=0, color=\"k\") #f\n",
    "plt.grid(True, which='both') #g\n",
    "plt.show()"
   ]
  },
  {
   "cell_type": "markdown",
   "metadata": {},
   "source": [
    "**Question 1.1:** Certain lines of codes are denoted by a comment, like \"#1a\". Label what each commented line does, replacing the '...'. Feel free to modify the sample code to see what changes. You can also look up matplotlib.pyplot documentation [here](https://matplotlib.org/api/pyplot_summary.html): <br>\n",
    "**a.** ... <br>\n",
    "**b.** ... <br>\n",
    "**c.** ... <br>\n",
    "**d.** ... <br>\n",
    "**e.** ... <br>\n",
    "**f.** ... <br>\n",
    "**g.** ... <br>"
   ]
  },
  {
   "cell_type": "code",
   "execution_count": null,
   "metadata": {},
   "outputs": [],
   "source": [
    "# your code here"
   ]
  },
  {
   "cell_type": "markdown",
   "metadata": {},
   "source": [
    "Next, run and observe the code below."
   ]
  },
  {
   "cell_type": "code",
   "execution_count": null,
   "metadata": {},
   "outputs": [],
   "source": [
    "x = np.arange(0, 10, 0.1)\n",
    "y = np.sin(x) \n",
    "plt.figure(figsize=(8,6))\n",
    "plt.plot(x, y) \n",
    "plt.title(\"Sine Wave\", fontsize=13) \n",
    "plt.xlabel(\"x\") \n",
    "plt.ylabel(\"y\") \n",
    "plt.axhline(y=0, color=\"k\") \n",
    "plt.grid(True, which='both') \n",
    "plt.show()"
   ]
  },
  {
   "cell_type": "markdown",
   "metadata": {},
   "source": [
    "**Question 1.2:** There is one difference between this plot and the first one. What is the difference, and where in the code produces it? Which plot is better?"
   ]
  },
  {
   "cell_type": "markdown",
   "metadata": {},
   "source": [
    "Answer: ..."
   ]
  },
  {
   "cell_type": "markdown",
   "metadata": {},
   "source": [
    "**Question 1.3:** In some cases, it would be better to create multiple subplots at once rather than in succession, especially if we want to compare the graphs side-bye-side. Take a look at the code below. Change the ellipses so that a sine wave, a cosine wave, and a tangent wave are created. Remember to change the titles!"
   ]
  },
  {
   "cell_type": "code",
   "execution_count": null,
   "metadata": {},
   "outputs": [],
   "source": [
    "# Replace the '...' with your code\n",
    "plt.figure(figsize=(12, 11))\n",
    "plt.subplot(2, 2, 1)\n",
    "\n",
    "x = np.arange(0, 10, 0.1)\n",
    "y = ...\n",
    "plt.plot(x, y) \n",
    "plt.title(\"...\") \n",
    "plt.xlabel(\"x\") \n",
    "plt.ylabel(\"y\") \n",
    "plt.axhline(y=0, color=\"k\") \n",
    "plt.grid(True, which='both') \n",
    "\n",
    "plt.subplot(2, 2, 2)\n",
    "\n",
    "x = np.arange(0, 10, 0.1)\n",
    "y = ...\n",
    "plt.plot(x, y) \n",
    "plt.title(\"...\") \n",
    "plt.xlabel(\"x\") \n",
    "plt.ylabel(\"y\") \n",
    "plt.axhline(y=0, color=\"k\") \n",
    "plt.grid(True, which='both') \n",
    "\n",
    "plt.subplot(2, 2, 3)\n",
    "\n",
    "x = np.arange(0, 10, 0.1)\n",
    "y = ...\n",
    "plt.plot(x, y) \n",
    "plt.title(\"...\") \n",
    "plt.xlabel(\"x\") \n",
    "plt.ylabel(\"y\") \n",
    "plt.axhline(y=0, color=\"k\") \n",
    "plt.grid(True, which='both') \n",
    "\n",
    "plt.show()"
   ]
  },
  {
   "cell_type": "markdown",
   "metadata": {},
   "source": [
    "<br>\n",
    "\n",
    "----\n",
    "## Section 2: The Data<a id='section 1'></a>"
   ]
  },
  {
   "cell_type": "markdown",
   "metadata": {},
   "source": [
    "In this notebook, you'll be working with data from the World Bank on electricity access, electricity consumption, and total energy consumption for different countries and regions around the world. \n",
    "\n",
    "Feel free to visit the links below to play around with the visualizations on the World Bank website: <br>\n",
    "- [Electricity access data](https://data.worldbank.org/indicator/EG.ELC.ACCS.ZS):  <br>\n",
    "This table gives the percentage of the population that has access to electricity from years 1990 to 2014 for each country. <br>\n",
    "- [Electricity consumption data](https://data.worldbank.org/indicator/EG.USE.ELEC.KH.PC): <br>\n",
    "This table gives the electric power consumption (kWh per capita) from years 1990 to 2014 for each country. Note that some countries' data are missing. <br>\n",
    "- [Total energy consumption data](https://data.worldbank.org/indicator/EG.USE.PCAP.KG.OE): <br>\n",
    "This table gives the total energy use (kg of oil equivalent per capita) from years 1990 to 2014 for each country. Note that some countries' data are missing."
   ]
  },
  {
   "cell_type": "code",
   "execution_count": null,
   "metadata": {},
   "outputs": [],
   "source": [
    "# Read in Electricity Access data\n",
    "access = pd.read_csv(\"data/access.csv\")\n",
    "access.head()"
   ]
  },
  {
   "cell_type": "code",
   "execution_count": null,
   "metadata": {},
   "outputs": [],
   "source": [
    "# Read in Electricity Consumption data\n",
    "consumption = pd.read_csv(\"data/consumption.csv\")\n",
    "consumption.head()"
   ]
  },
  {
   "cell_type": "markdown",
   "metadata": {},
   "source": [
    "**Question 2.1:** Read in the the .csv file named \"total.csv\" and save it to a Pandas DataFrame variable called \"total\". Print the head of the data frame."
   ]
  },
  {
   "cell_type": "code",
   "execution_count": null,
   "metadata": {},
   "outputs": [],
   "source": [
    "# Replace the '...' with your code\n",
    "total = pd.read_csv(\"data/...\")\n",
    "total.head()"
   ]
  },
  {
   "cell_type": "markdown",
   "metadata": {},
   "source": [
    "<br>\n",
    "\n",
    "----\n",
    "\n",
    "## Section 3: Visual EDA - Histograms, KDEs, Box Plots, Violin Plots <a id='section 2'></a>\n",
    "\n",
    "There are four different types of plots that are commonly used to visualize the distribution of data: histograms, kernel density estimator plots, box-and-whisker plots, and violin plots. We're going to plot all four types and discuss the differences between them. <br>\n",
    "\n",
    "For this homework assignment, we're going to look specifically at the electricity access rates in the year 2000. Before we start graphing, let's remove the rows with NaN values in the dataframe.\n",
    "\n",
    "### Histograms"
   ]
  },
  {
   "cell_type": "code",
   "execution_count": null,
   "metadata": {},
   "outputs": [],
   "source": [
    "# Plotting a histogram of electricity access in 2000\n",
    "plt.hist(access[\"2000\"].dropna())\n",
    "plt.title(\"Electricity Access in 2000\")\n",
    "plt.ylabel(\"Frequency\")\n",
    "plt.xlabel(\"% of Country Population\")\n",
    "plt.show()"
   ]
  },
  {
   "cell_type": "markdown",
   "metadata": {},
   "source": [
    "**Question 3.1:** It may be more informative if we graphed the 2000 data per region. Let's create 6 subplots for the 6 regions. (Omitting Latin America & Carribbean due to lack of data). Since all the subplots are graphed in the same way, use a for loop. Do not copy and paste your code six times.<br><br>\n",
    "The regions are: \"East Asia & Pacific\", \"Europe & Central Asia\", \"Middle East & North Africa\", \"North America\", \"South Asia\", \"Sub-Saharan Africa\". <br><br>We have provided these in the form of a list with the variable name of 'regions'. Think about how you can use this 'regions' list in your code within the for loop. Make sure to add titles and labels for both axes."
   ]
  },
  {
   "cell_type": "code",
   "execution_count": null,
   "metadata": {},
   "outputs": [],
   "source": [
    "# Replace the '...' with your code\n",
    "plt.figure(figsize=(15, 10))\n",
    "regions = np.unique(access['Region'].values)\n",
    "for i in range(6):\n",
    "    plt.subplot(4, 2, i+1)\n",
    "\n",
    "    plt.hist(...)\n",
    "    ...\n",
    "\n",
    "plt.show()"
   ]
  },
  {
   "cell_type": "markdown",
   "metadata": {},
   "source": [
    "**Question 3.2a:** What can you observe from the histograms?"
   ]
  },
  {
   "cell_type": "markdown",
   "metadata": {},
   "source": [
    "Answer: ..."
   ]
  },
  {
   "cell_type": "markdown",
   "metadata": {},
   "source": [
    "** Question 3.2b:** Are there any interesting patterns seen in each region?"
   ]
  },
  {
   "cell_type": "markdown",
   "metadata": {},
   "source": [
    "Answer: ..."
   ]
  },
  {
   "cell_type": "markdown",
   "metadata": {},
   "source": [
    "**Question 3.2c:** What is a possible explanation for the difference in distribution seen in the 6 regions?"
   ]
  },
  {
   "cell_type": "markdown",
   "metadata": {},
   "source": [
    "Answer: ..."
   ]
  },
  {
   "cell_type": "markdown",
   "metadata": {},
   "source": [
    "### Seaborn and KDEs\n",
    "**Seaborn** is a Python data visualization library that is built on top of matplotlib. It offers a higher level of abstraction, and arguably more attractive-looking graphics. Below is a histogram plotted using seaborn. Because of its higher level of abstraction, seaborn can plot elements on a graph that would usually require extra calculation using our usual libraries (e.g., a linear regression line; or the kernel density estimation curve overlayed on the top of this histogram). A great option for plotting a univariate distribution of observations is seaborn [distplot](https://seaborn.pydata.org/generated/seaborn.distplot.html), which combines matplotlib histogram with seaborn kde and rugplot. \n",
    "\n",
    "Note that the KDE plot normalizes the data so that it is between 0 and 1. It also represents the distribution of a set of data, with [kernel smoothing](https://en.wikipedia.org/wiki/Kernel_smoother)."
   ]
  },
  {
   "cell_type": "code",
   "execution_count": null,
   "metadata": {},
   "outputs": [],
   "source": [
    "# Run this example seaborn plot\n",
    "sns.distplot(access[\"2000\"].dropna())\n",
    "plt.title(\"Electricity Access Rates in 2000\")\n",
    "plt.xlabel(\"% of Country Population\")\n",
    "plt.ylabel(\"Density\")\n",
    "plt.show()"
   ]
  },
  {
   "cell_type": "markdown",
   "metadata": {},
   "source": [
    "**Question 3.3:** Use sns.distplot() to plot only the KDEs of the global access rates in 1990, 2000, and 2014 on top of each other (no need to separate by region). \n",
    "\n",
    "Make sure to include a legend. Consult the [documentation](https://seaborn.pydata.org/generated/seaborn.distplot.html) and include a title. Make sure to label the two axes.<br>\n",
    "\n",
    "Hint: You will need to use sns.distplot(label=\"...\") for your legend to show up properly. Also, by default, some of the curves may be cut off. Use plt.ylim() to adjust the limits on the y-scale so that this doesn't happen."
   ]
  },
  {
   "cell_type": "code",
   "execution_count": null,
   "metadata": {},
   "outputs": [],
   "source": [
    "# Replace the '...' with your code\n",
    "plt.figure(figsize=(10, 7))\n",
    "sns.distplot(...)\n",
    "sns.distplot(...)\n",
    "sns.distplot(...)\n",
    "...\n",
    "plt.legend()\n",
    "plt.show()"
   ]
  },
  {
   "cell_type": "markdown",
   "metadata": {},
   "source": [
    "**Question 3.4**: What do you observe about the distributions for the different years? Does this visualization make sense? Why or why not?"
   ]
  },
  {
   "cell_type": "markdown",
   "metadata": {},
   "source": [
    "Answer: ..."
   ]
  },
  {
   "cell_type": "markdown",
   "metadata": {},
   "source": [
    "**Question 3.5:** Why would it be advantageous to only plot the KDE instead of the histogram?"
   ]
  },
  {
   "cell_type": "markdown",
   "metadata": {},
   "source": [
    "Answer: ..."
   ]
  },
  {
   "cell_type": "markdown",
   "metadata": {},
   "source": [
    "### Box Plots and Violin Plots\n",
    "\n",
    "**Question 3.6:** Back to matplotlib! Using the [documentation](https://matplotlib.org/api/_as_gen/matplotlib.pyplot.boxplot.html) for plt.boxplot(), plot the electricity consumption rates for each region in 2000, side by side. <br><br>\n",
    "Note: We are now using the \"consumption\" dataframe. We have provided skeleton code to faciliate the plotting of side-by-side boxplots. Your mission is to append arrays of data from the year 2000 for each of the 6 regions onto the list \"data_to_plot\". Make sure to remove any rows containing NaN values and label titles and axes.<br>\n",
    "\n",
    "Hint: Remember how we plotted the electricity access histogram subplots for the different regions."
   ]
  },
  {
   "cell_type": "code",
   "execution_count": null,
   "metadata": {},
   "outputs": [],
   "source": [
    "# Replace the '...' with your code\n",
    "consumption = consumption.dropna() # Drop rows with NaN values\n",
    "regions = [\"East Asia & Pacific\", \"Europe & Central Asia\", \"Middle East & North Africa\", \"North America\", \"South Asia\", \"Sub-Saharan Africa\"]\n",
    "data_to_plot = list()\n",
    "for i in range(6):\n",
    "    data_to_plot.append(np.array(...)) # Obtain region data as array, append to list\n",
    "# Plotting code, study to use for violin plots later\n",
    "fig = plt.figure(1, figsize=(9, 6))\n",
    "ax = fig.add_subplot(111)\n",
    "ax.boxplot(data_to_plot)\n",
    "ax.set_xticklabels([\"EA&P\", \"Eu&CA\", \"ME&NAf\", \"NAm\", \"SA\", \"SSA\"])\n",
    "...\n",
    "plt.show()"
   ]
  },
  {
   "cell_type": "markdown",
   "metadata": {
    "collapsed": true
   },
   "source": [
    "<br>\n",
    "**Question 3.7:** Now, using the [documentation](https://matplotlib.org/api/_as_gen/matplotlib.pyplot.violinplot.html) for plt.violinplot(), plot the total energy consumption rates for each region, side by side. <br>\n",
    "\n",
    "Note: Use the \"total\" dataframe. Make sure to remove any rows containing NaN values and label titles and axes. Reference the skeleton code used to plot the boxplots above."
   ]
  },
  {
   "cell_type": "code",
   "execution_count": null,
   "metadata": {},
   "outputs": [],
   "source": [
    "# Your code here\n",
    "..."
   ]
  },
  {
   "cell_type": "markdown",
   "metadata": {},
   "source": [
    "**Question 3.8**: The above two plots allow you to compare the distributions of electricity consumption and energy consumption rates. What are the similarities and/or differences between the two distributions? What factors can you think of that could possibly account for this similarity/difference?"
   ]
  },
  {
   "cell_type": "markdown",
   "metadata": {},
   "source": [
    "Answer: ..."
   ]
  },
  {
   "cell_type": "markdown",
   "metadata": {},
   "source": [
    "**Question 3.9**: Compare and contrast the four different types of plots above, discussing the pros and cons of each of them. What can see in one type of plot that you can't see in the others? In what situations would use you use one type of plot over another?"
   ]
  },
  {
   "cell_type": "markdown",
   "metadata": {
    "collapsed": true
   },
   "source": [
    "Answer: ..."
   ]
  },
  {
   "cell_type": "markdown",
   "metadata": {},
   "source": [
    "<br>\n",
    "\n",
    "---\n",
    "\n",
    "## Section 4: Scatter Plots<a id='section 3'></a>\n",
    "\n",
    "In this section, we will compare how electricity access and consumption rates grew over time (from 1990 to 2014) using scatter plots.\n",
    "\n",
    "**Question 4.1:** Create a scatter plot of for Angola, with the electricity access rate on the x-axis and the electricity consumption rate on the y-axis. Make sure to label the title and axes. You can find the documentation for plt.scatter() [here](https://matplotlib.org/api/_as_gen/matplotlib.pyplot.scatter.html). \n",
    "\n",
    "Hint: use .columns.get_iloc(-column name-) to get the index range for years 1990-2014."
   ]
  },
  {
   "cell_type": "code",
   "execution_count": null,
   "metadata": {},
   "outputs": [],
   "source": [
    "# Replace the '...' with your code\n",
    "plt.scatter(np.array(access.iloc[...]), np.array(consumption.iloc[...]))\n",
    "...\n",
    "plt.show()"
   ]
  },
  {
   "cell_type": "markdown",
   "metadata": {},
   "source": [
    "<br>**Question 4.2:** Now, plot the average electricity consumption (y-axis) vs. the average electricity access (x-axis) from 1990 to 2014 *for each region*. We recommend making two temporary dataframes, 'region_access' and 'region_consumption', to isolate the data for each region being worked on. Make sure to label titles, axes, and include a legend."
   ]
  },
  {
   "cell_type": "code",
   "execution_count": null,
   "metadata": {},
   "outputs": [],
   "source": [
    "# Replace the '...' with your code\n",
    "regions = [\"East Asia & Pacific\", \"Europe & Central Asia\", \"Middle East & North Africa\", \"North America\", \"South Asia\", \"Sub-Saharan Africa\"]\n",
    "plt.figure(figsize=(10, 7))\n",
    "for i in range(6):\n",
    "    region_access = ...\n",
    "    region_consumption = ...\n",
    "    plt.scatter(np.array(region_access.iloc[...].mean()), np.array(region_consumption.iloc[...].mean()), label=regions[i])\n",
    "...\n",
    "plt.show()"
   ]
  },
  {
   "cell_type": "markdown",
   "metadata": {},
   "source": [
    "<br>\n",
    "**Question 4.3:** What is the relationship between electricity access and consumption? Is it reasonable to assume that there is causality between access and consumption? What other factors can be influencing consumption?"
   ]
  },
  {
   "cell_type": "markdown",
   "metadata": {},
   "source": [
    "Answer: ..."
   ]
  },
  {
   "cell_type": "markdown",
   "metadata": {},
   "source": [
    "----\n",
    "\n",
    "## Submission\n",
    "\n",
    "Congrats, you're done with homework 4!\n",
    "\n",
    "In order to turn in this assignment, go to the toolbar and click **File** -> **Download as** -> **.html** and submit the file through bCourses.\n",
    "\n",
    "----\n",
    "\n",
    "## Bibilography\n",
    "+ World Bank - Data. https://data.worldbank.org\n",
    "+ Seaborn - Distplot. https://seaborn.pydata.org/generated/seaborn.distplot.html\n",
    "+ Matplotlib. https://matplotlib.org\n",
    "+ Knowledge Stockpile - Creating boxplots with Matplotlib. http://blog.bharatbhole.com/creating-boxplots-with-matplotlib/\n",
    "\n",
    "<hr/>\n",
    "Notebook developed by: Rebekah Tang\n",
    "\n",
    "Data Science Modules: http://data.berkeley.edu/education/modules"
   ]
  }
 ],
 "metadata": {
  "kernelspec": {
   "display_name": "Python 3",
   "language": "python",
   "name": "python3"
  },
  "language_info": {
   "codemirror_mode": {
    "name": "ipython",
    "version": 3
   },
   "file_extension": ".py",
   "mimetype": "text/x-python",
   "name": "python",
   "nbconvert_exporter": "python",
   "pygments_lexer": "ipython3",
   "version": "3.6.4"
  }
 },
 "nbformat": 4,
 "nbformat_minor": 2
}
