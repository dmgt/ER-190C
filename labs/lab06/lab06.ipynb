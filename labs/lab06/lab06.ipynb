{
 "cells": [
  {
   "cell_type": "markdown",
   "metadata": {},
   "source": [
    "## Lab 6\n",
    "\n",
    "ER190 | Fall 2018\n",
    "\n",
    "Duncan Callaway\n",
    "<br>GSI: Seigi Karasaki"
   ]
  },
  {
   "cell_type": "markdown",
   "metadata": {},
   "source": [
    "Your name:\n",
    "<br>Collaborators:\n",
    "\n",
    "---"
   ]
  },
  {
   "cell_type": "markdown",
   "metadata": {},
   "source": [
    "Today in lab, we'll have some dedicated time to work on homework 5! <cheer\\>\n",
    "\n",
    "Don't hate me for this, but we're going to play musical chairs (kind of). Let's scramble and consolidate the seating arrangement for today. Make some new friends.\n",
    "\n",
    "We'll wrap up this lab with a group discussion before moving on to the homework."
   ]
  },
  {
   "cell_type": "markdown",
   "metadata": {},
   "source": [
    "### Homework 5  breakout session (30 min)"
   ]
  },
  {
   "cell_type": "markdown",
   "metadata": {},
   "source": [
    "Spend some time working out the homework together as a table. If you happen to have already completed and/or submitted the homework, this will be a good opportunity for you to *really* solidify these concepts through the art of teaching (you're welcome!). Try your best to be constructive in your feedback and help. Read: don't give away the answers, please. "
   ]
  },
  {
   "cell_type": "markdown",
   "metadata": {},
   "source": [
    "**Q1)** What are some common problems or questions that came up frequently at your table? "
   ]
  },
  {
   "cell_type": "code",
   "execution_count": null,
   "metadata": {},
   "outputs": [],
   "source": []
  },
  {
   "cell_type": "markdown",
   "metadata": {},
   "source": [
    "**Q2)** Share one neat trick or tip that you learned through this session. Demonstrate it below, if possible."
   ]
  },
  {
   "cell_type": "code",
   "execution_count": null,
   "metadata": {},
   "outputs": [],
   "source": []
  },
  {
   "cell_type": "markdown",
   "metadata": {},
   "source": [
    "### Critical considerations regarding k-nearest neighbors (30 min)"
   ]
  },
  {
   "cell_type": "markdown",
   "metadata": {},
   "source": [
    "At this point, we're hopefully all somewhere around the same page on homework 5. "
   ]
  },
  {
   "cell_type": "markdown",
   "metadata": {},
   "source": [
    "**Q3)** Examine our k-NN model and exercise. <br>\n",
    "<br>(a) In words: what exactly is our implementation of k-NN trying to achieve, and how? \n",
    "<br>(b) What worked well? \n",
    "<br>(c) What didn't work well? "
   ]
  },
  {
   "cell_type": "code",
   "execution_count": null,
   "metadata": {},
   "outputs": [],
   "source": []
  },
  {
   "cell_type": "markdown",
   "metadata": {},
   "source": [
    "**Q4)** Compare and contrast the implementation, methods, and results of k-NN and linear regression. Which do you find more compelling? Why? "
   ]
  },
  {
   "cell_type": "code",
   "execution_count": null,
   "metadata": {},
   "outputs": [],
   "source": []
  },
  {
   "cell_type": "markdown",
   "metadata": {},
   "source": [
    "**Q5)** If we define 'winning' to mean, 'to be accurately and adequately represented': Who are the potential 'winners' and 'losers' of these results? Why?"
   ]
  },
  {
   "cell_type": "code",
   "execution_count": null,
   "metadata": {},
   "outputs": [],
   "source": []
  },
  {
   "cell_type": "markdown",
   "metadata": {},
   "source": [
    "**Q6**) What might you be able to do to even the playing field for the 'losers' above? Feel free to approach this question from a coding or policy perspective. "
   ]
  },
  {
   "cell_type": "code",
   "execution_count": null,
   "metadata": {},
   "outputs": [],
   "source": []
  }
 ],
 "metadata": {
  "kernelspec": {
   "display_name": "Python 3",
   "language": "python",
   "name": "python3"
  },
  "language_info": {
   "codemirror_mode": {
    "name": "ipython",
    "version": 3
   },
   "file_extension": ".py",
   "mimetype": "text/x-python",
   "name": "python",
   "nbconvert_exporter": "python",
   "pygments_lexer": "ipython3",
   "version": "3.6.5"
  }
 },
 "nbformat": 4,
 "nbformat_minor": 2
}
