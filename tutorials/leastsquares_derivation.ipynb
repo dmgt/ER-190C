{
 "cells": [
  {
   "cell_type": "markdown",
   "metadata": {},
   "source": [
    "## Deriving Coefficients for Least Squares Regression\n",
    "\n",
    "<br>\n",
    "\n",
    "I had some questions re: the derivation of $\\hat{\\beta}_0$ and $\\hat{\\beta}_1$, so I decided to create a notebook outlining the derivation for you."
   ]
  },
  {
   "cell_type": "markdown",
   "metadata": {},
   "source": [
    "Here's our baseline: we want to...<br><br>\n",
    "$\\min\\limits_{\\hat{\\beta}_0, \\hat{\\beta}_1} \\sum_{i=1}^n (e_i)^2 = \n",
    "\\min\\limits_{\\hat{\\beta}_0, \\hat{\\beta}_1} \\sum_{i=1}^n(y_i-\\hat{y})^2 =\n",
    "\\min\\limits_{\\hat{\\beta}_0, \\hat{\\beta}_1} \\sum_{i=1}^n(y_i-\\hat{\\beta_0}-\\hat{\\beta_1}x_i)^2$"
   ]
  },
  {
   "cell_type": "markdown",
   "metadata": {},
   "source": [
    "### Solving for $\\hat{\\beta_0}$"
   ]
  },
  {
   "cell_type": "markdown",
   "metadata": {},
   "source": [
    "Solving for $\\hat{\\beta}_0$ is fairly straight-forward."
   ]
  },
  {
   "cell_type": "markdown",
   "metadata": {},
   "source": [
    "We want $\\frac{\\partial}{\\partial\\beta_0} \\sum_{i=1}^n(y_i-\\hat{\\beta_0}-\\hat{\\beta_1}x_i)^2= 0$."
   ]
  },
  {
   "cell_type": "markdown",
   "metadata": {},
   "source": [
    "$\\frac{\\partial}{\\partial\\beta_0}=\\sum_{i=1}^n2(y_i-\\hat{\\beta_0}-\\hat{\\beta_1}x_i)*(-1)=0$<br><br>"
   ]
  },
  {
   "cell_type": "markdown",
   "metadata": {},
   "source": [
    "Remember: we can drop constants."
   ]
  },
  {
   "cell_type": "markdown",
   "metadata": {},
   "source": [
    "$\\sum_{i=1}^n(y_i-\\hat{\\beta_0}-\\hat{\\beta_1}x_i)=0$ <br><br>"
   ]
  },
  {
   "cell_type": "markdown",
   "metadata": {},
   "source": [
    "Separate the sums, then solve for $\\hat{\\beta_0}$."
   ]
  },
  {
   "cell_type": "markdown",
   "metadata": {},
   "source": [
    "$\\sum_{i=1}^n(y_i)-\\sum_{i=1}^n(\\hat{\\beta_0})-\\sum_{i=1}^n(\\hat{\\beta_1}x_i)=0$ <br><br>\n",
    "$n\\bar{y}-n\\hat{\\beta_0}-n\\hat{\\beta_1}\\bar{x}=0$ <br><br>\n",
    "$\\bar{y}-\\hat{\\beta_0}-\\hat{\\beta_1}\\bar{x}=0$<br><br>\n",
    "$\\hat{\\beta_0}=\\bar{y}-\\hat{\\beta_1}\\bar{x}$"
   ]
  },
  {
   "cell_type": "markdown",
   "metadata": {},
   "source": [
    "### Solving for $\\hat{\\beta_1}$"
   ]
  },
  {
   "cell_type": "markdown",
   "metadata": {},
   "source": [
    "We want $\\frac{\\partial}{\\partial\\beta_1} \\sum_{i=1}^n(y_i-\\hat{\\beta_0}-\\hat{\\beta_1}x_i)^2= 0$."
   ]
  },
  {
   "cell_type": "markdown",
   "metadata": {},
   "source": [
    "$\\frac{\\partial}{\\partial\\beta_1}=\\sum_{i=1}^n2(y_i-\\hat{\\beta_0}-\\hat{\\beta_1}x_i)*(-x_i)=0$<br><br>\n",
    "$\\sum_{i=1}^n(y_i-\\hat{\\beta_0}-\\hat{\\beta_1}x_i)*(x_i)=0$<br><br>\n",
    "$\\sum_{i=1}^n(y_ix_i-\\hat{\\beta_0}x_i-\\hat{\\beta_1}x_i^2)=0$<br><br>"
   ]
  },
  {
   "cell_type": "markdown",
   "metadata": {},
   "source": [
    "Now substitute $\\hat{\\beta_0}$ for the value we derived above."
   ]
  },
  {
   "cell_type": "markdown",
   "metadata": {},
   "source": [
    "$\\sum_{i=1}^n(y_ix_i-(\\bar{y}-\\hat{\\beta_1}\\bar{x})x_i-\\hat{\\beta_1}x_i^2)=0$<br><br>\n",
    "$\\sum_{i=1}^n(y_ix_i-\\bar{y}x_i+\\hat{\\beta_1}\\bar{x}x_i-\\hat{\\beta_1}x_i^2)=0$<br><br>"
   ]
  },
  {
   "cell_type": "markdown",
   "metadata": {},
   "source": [
    "Factor $x_i$ out."
   ]
  },
  {
   "cell_type": "markdown",
   "metadata": {},
   "source": [
    "$\\sum_{i=1}^n(y_i-\\bar{y}+\\hat{\\beta_1}\\bar{x}-\\hat{\\beta_1}x_i)(x_i)=0$<br><br>\n",
    "$\\sum_{i=1}^n(y_i-\\bar{y}+\\hat{\\beta_1}\\bar{x}-\\hat{\\beta_1}x_i)=0$<br><br>"
   ]
  },
  {
   "cell_type": "markdown",
   "metadata": {},
   "source": [
    "Now we begin our process to solve for $\\hat{\\beta_1}$."
   ]
  },
  {
   "cell_type": "markdown",
   "metadata": {},
   "source": [
    "$\\sum_{i=1}^ny_i-\\bar{y}+\\hat{\\beta_1}(\\bar{x}-x_i)=0$<br><br>"
   ]
  },
  {
   "cell_type": "markdown",
   "metadata": {},
   "source": [
    "$\\sum_{i=1}^ny_i-\\bar{y}+\\hat{\\beta_1}\\sum_{i=1}^n(\\bar{x}-x_i)=0$<br><br>\n",
    "$\\sum_{i=1}^ny_i-\\bar{y}=-\\hat{\\beta_1}\\sum_{i=1}^n(\\bar{x}-x_i)$<br><br>"
   ]
  },
  {
   "cell_type": "markdown",
   "metadata": {},
   "source": [
    "Divide by $-\\sum_{i=1}^n(\\bar{x}-x_i)$ on both sides."
   ]
  },
  {
   "cell_type": "markdown",
   "metadata": {},
   "source": [
    "$\\hat{\\beta_1}=\\frac{\\sum_{i=1}^ny_i-\\bar{y}}{\\sum_{i=1}^n\\bar{x}-x_i}=\\frac{\\sum_{i=1}^n(y_i-\\bar{y})(x_i-\\bar{x})}{\\sum_{i=1}^n(x_i-\\bar{x})^2}$<br><br>"
   ]
  },
  {
   "cell_type": "markdown",
   "metadata": {},
   "source": [
    "I hope this helps! "
   ]
  }
 ],
 "metadata": {
  "kernelspec": {
   "display_name": "Python 3",
   "language": "python",
   "name": "python3"
  },
  "language_info": {
   "codemirror_mode": {
    "name": "ipython",
    "version": 3
   },
   "file_extension": ".py",
   "mimetype": "text/x-python",
   "name": "python",
   "nbconvert_exporter": "python",
   "pygments_lexer": "ipython3",
   "version": "3.6.5"
  }
 },
 "nbformat": 4,
 "nbformat_minor": 2
}
