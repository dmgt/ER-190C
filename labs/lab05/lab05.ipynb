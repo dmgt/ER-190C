{
 "cells": [
  {
   "cell_type": "markdown",
   "metadata": {},
   "source": [
    "## Lab 5\n",
    "\n",
    "ER190 | Fall 2018\n",
    "\n",
    "Duncan Callaway\n",
    "<br>GSI: Seigi Karasaki"
   ]
  },
  {
   "cell_type": "markdown",
   "metadata": {},
   "source": [
    "Your name:\n",
    "<br>Collaborators:"
   ]
  },
  {
   "cell_type": "markdown",
   "metadata": {},
   "source": [
    "### Section 1: Linear algebra with Numpy\n",
    "The purpose of this section is to give you a chance to do a little more work with numpy before tackling the homework."
   ]
  },
  {
   "cell_type": "markdown",
   "metadata": {},
   "source": [
    "#### Q1.1) Load the numpy library."
   ]
  },
  {
   "cell_type": "code",
   "execution_count": null,
   "metadata": {},
   "outputs": [],
   "source": [
    "### Your answer here"
   ]
  },
  {
   "cell_type": "markdown",
   "metadata": {},
   "source": [
    "#### Q1.2a) Create a 100x1 numpy array with normally distributed random entries.\n",
    "Call the array $a$. If you can't remember the numpy syntax, [this might help](https://docs.scipy.org/doc/numpy-1.14.0/reference/routines.random.html)."
   ]
  },
  {
   "cell_type": "code",
   "execution_count": null,
   "metadata": {},
   "outputs": [],
   "source": [
    "### Your answer here\n",
    "a = ...\n",
    "print(a)"
   ]
  },
  {
   "cell_type": "markdown",
   "metadata": {},
   "source": [
    "#### Q1.2b) Print the first 5 entries and the last 5 entries of the array."
   ]
  },
  {
   "cell_type": "code",
   "execution_count": null,
   "metadata": {},
   "outputs": [],
   "source": [
    "### Your answer here"
   ]
  },
  {
   "cell_type": "markdown",
   "metadata": {},
   "source": [
    "#### Q1.3) Plot the distribution of $a$ to give a visual verification that it's normal.  "
   ]
  },
  {
   "cell_type": "code",
   "execution_count": null,
   "metadata": {},
   "outputs": [],
   "source": [
    "### Your answer here"
   ]
  },
  {
   "cell_type": "markdown",
   "metadata": {},
   "source": [
    "#### Q1.4) Now make a matrix of random entries that you can multiply by the vector you just created.\n",
    "We'll call the matrix $X$, and after this we're going to find the product $Xa$.  You can choose what the dimensions of $X$ will be.  "
   ]
  },
  {
   "cell_type": "code",
   "execution_count": null,
   "metadata": {},
   "outputs": [],
   "source": [
    "### Your solution here."
   ]
  },
  {
   "cell_type": "markdown",
   "metadata": {},
   "source": [
    "#### Q1.5) Now multiply $a$ by $X$, that is, compute $Xa$.  \n",
    "If numpy gives you an error, diagnose and fix it, and write comments on what happened in the markdown cell below your solution."
   ]
  },
  {
   "cell_type": "code",
   "execution_count": null,
   "metadata": {},
   "outputs": [],
   "source": [
    "### your solution here"
   ]
  },
  {
   "cell_type": "markdown",
   "metadata": {},
   "source": [
    "(enter comments here on any problems you encountered and how you fixed them)"
   ]
  },
  {
   "cell_type": "markdown",
   "metadata": {},
   "source": [
    "#### Q1.6) Preparing to invert a matrix: define a matrix you'd like to invert.  \n",
    "You can choose the size and how to populate the entries in the matrix.  Note, one thing you'll need to be careful about is the potential for a \"singular matrix\".  This happens when you can write down one row as a linear transformation of one or more other rows.  For example\n",
    "\n",
    "$\\begin{bmatrix}\n",
    " x&y\\\\\n",
    " 2x&2y\\\\\n",
    " \\end{bmatrix}$\n",
    " \n",
    "is singular because the second row is just two times the first.  But \n",
    "\n",
    "$\\begin{bmatrix}\n",
    " x&y&z\\\\\n",
    " 2x&2y&0\\\\\n",
    " 0&0&z\\\\\n",
    " \\end{bmatrix}$\n",
    " \n",
    " is also singular because the first row equals half of the second plus the third.  "
   ]
  },
  {
   "cell_type": "code",
   "execution_count": null,
   "metadata": {},
   "outputs": [],
   "source": [
    "### Your solution here\n",
    "B = ...\n",
    "print(B)"
   ]
  },
  {
   "cell_type": "markdown",
   "metadata": {},
   "source": [
    "Here is a function to check if the matrix is singular. "
   ]
  },
  {
   "cell_type": "code",
   "execution_count": null,
   "metadata": {},
   "outputs": [],
   "source": [
    "### Run this cell; don't change it\n",
    "def is_invertible(a):\n",
    "    return a.shape[0] == a.shape[1] and np.linalg.matrix_rank(a) == a.shape[0]"
   ]
  },
  {
   "cell_type": "markdown",
   "metadata": {},
   "source": [
    "#### Q1.7) What two things is the function `is_invertible` checking?"
   ]
  },
  {
   "cell_type": "markdown",
   "metadata": {},
   "source": [
    "(enter your answer here in markdown)"
   ]
  },
  {
   "cell_type": "markdown",
   "metadata": {},
   "source": [
    "#### Q1.8) Is your matrix invertible?\n",
    "Use `is_invertible` from the cell above to verify invertibility.  If your matrix isn't invertible, make adjustments until it is."
   ]
  },
  {
   "cell_type": "code",
   "execution_count": null,
   "metadata": {},
   "outputs": [],
   "source": [
    "### Your solution here"
   ]
  },
  {
   "cell_type": "markdown",
   "metadata": {},
   "source": [
    "#### Q1.9) Use numpy to invert your matrix"
   ]
  },
  {
   "cell_type": "code",
   "execution_count": null,
   "metadata": {},
   "outputs": [],
   "source": [
    "### Your solution\n",
    "Binv = ...\n",
    "print(Binv)"
   ]
  },
  {
   "cell_type": "markdown",
   "metadata": {},
   "source": [
    "#### Q1.10) Verify $Binv$ is the inverse of $B$.\n",
    "To do this you may need to go back to the lecture slides to get the definition of an inverse matrix.  "
   ]
  },
  {
   "cell_type": "code",
   "execution_count": null,
   "metadata": {},
   "outputs": [],
   "source": [
    "### Your solution here"
   ]
  },
  {
   "cell_type": "markdown",
   "metadata": {},
   "source": [
    "#### Q1.11) Time to invert matrices.\n",
    "The next cell will report the time numpy takes to invert matrices of different sizes.  Run the cell and watch the output.  In the following markdown cell, discuss what you see happening to the time to compute the inverse as the matrix grows."
   ]
  },
  {
   "cell_type": "code",
   "execution_count": null,
   "metadata": {},
   "outputs": [],
   "source": [
    "### Don't modify this cell, just run it.\n",
    "A_small = np.random.randn(100).reshape([10,10])\n",
    "print('Inverting small matrix')\n",
    "%timeit np.linalg.inv(A_small)\n",
    "\n",
    "A_med = np.random.randn(10000).reshape([100,100])\n",
    "print('Inverting medium matrix')\n",
    "%timeit np.linalg.inv(A_med)\n",
    "\n",
    "A_realbig = np.random.randn(1000000).reshape([1000,1000])\n",
    "print('Inverting real big matrix')\n",
    "%timeit np.linalg.inv(A_realbig)"
   ]
  },
  {
   "cell_type": "markdown",
   "metadata": {},
   "source": [
    "(Your answer here)"
   ]
  },
  {
   "cell_type": "markdown",
   "metadata": {},
   "source": [
    "### Section 2: Solving least squares regression.\n",
    "In lecture we went over formulas for the coefficients $\\beta_0$ and $\\beta_1$ to the single variable least squares problem:\n",
    "\n",
    "$y_i = \\beta_0 + \\beta_1 x_i + e_i$.\n",
    "\n",
    "Those formulas are:\n",
    "\n",
    "$\n",
    "\\hat{\\beta}_0  =\\bar{y} - \\hat{\\beta}_1\\bar{x}\\\\\n",
    "\\hat{\\beta}_1 = \\frac{ \\sum_{i=1}^n(x_i-\\bar{x})(y_i-\\bar{y})}{\\sum_{i=1}^n (x_i-\\bar{x})^2}\n",
    "$"
   ]
  },
  {
   "cell_type": "markdown",
   "metadata": {},
   "source": [
    "#### Q2.1) Load in data.csv (in this directory) to a dataframe called `df`\n",
    "The dataframe should have just two columns, 'x' and 'y'"
   ]
  },
  {
   "cell_type": "code",
   "execution_count": null,
   "metadata": {},
   "outputs": [],
   "source": [
    "### Your solution here."
   ]
  },
  {
   "cell_type": "markdown",
   "metadata": {},
   "source": [
    "#### Q2.2) Write a function that returns $\\beta_0$ and $\\beta_1$ using the summation formulas from class (i.e., the formulas above; not the normal equations)"
   ]
  },
  {
   "cell_type": "code",
   "execution_count": null,
   "metadata": {},
   "outputs": [],
   "source": [
    "### Your solution here."
   ]
  },
  {
   "cell_type": "markdown",
   "metadata": {},
   "source": [
    "#### Q2.3) Use your function to compute $\\beta_0$ and $\\beta_1$ for the data you loaded.  "
   ]
  },
  {
   "cell_type": "code",
   "execution_count": null,
   "metadata": {},
   "outputs": [],
   "source": [
    "### Your solution here.\n",
    "...\n",
    "print('Beta values are', b0, 'and', b1)"
   ]
  },
  {
   "cell_type": "markdown",
   "metadata": {},
   "source": [
    "#### Q2.4) Stretch question:  Interpret the coefficients.\n",
    "The data you loaded in are a simulation of a rock being launched vertically into the air.  'y' is the height of the rock in meters and 'x' is the time the recording was made.  All recordings happened at the very beginning of the rock's flight through the air -- so it hasn't been slowed down much by gravity.  There is noise in the measurements.  \n",
    "\n",
    "Based on the coefficients you estimated, what is the initial height and velocity of the rock?"
   ]
  },
  {
   "cell_type": "code",
   "execution_count": null,
   "metadata": {},
   "outputs": [],
   "source": [
    "### Your solution here.\n",
    "print('Initial height is', ...,'meters.')\n",
    "print('Initial velocity is', ..., 'meters per second')"
   ]
  }
 ],
 "metadata": {
  "kernelspec": {
   "display_name": "Python 3",
   "language": "python",
   "name": "python3"
  },
  "language_info": {
   "codemirror_mode": {
    "name": "ipython",
    "version": 3
   },
   "file_extension": ".py",
   "mimetype": "text/x-python",
   "name": "python",
   "nbconvert_exporter": "python",
   "pygments_lexer": "ipython3",
   "version": "3.6.5"
  }
 },
 "nbformat": 4,
 "nbformat_minor": 2
}
