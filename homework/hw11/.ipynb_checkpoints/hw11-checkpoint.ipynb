{
 "cells": [
  {
   "cell_type": "markdown",
   "metadata": {},
   "source": [
    "# [ERG-190C] Homework 11: Support Vector Machines\n",
    "\n",
    "---\n",
    "\n",
    "This homework will use support vector machines to classify CalEnviroScreen data. \n",
    "\n",
    "### Homework Objectives\n",
    "1. Learn about the intuition behind the Perceptron Algorithm and Maximal Margin Classifiers\n",
    "2. Learn about the intuition behind support vector machines: classifiers, features and more\n",
    "3. Learn to apply Support Vector Machines using Real-Life Data, in the form of CalEnviroScreen data\n",
    "4. Learn about making our own classifiers for Support Vector Machines\n",
    "\n",
    "The **main** take-away from this homework is a strong intuition of how SVM works, as well as the ability to tweak SVM in dealing with other real-life data that do not always conform to \"nice\" kernels. \n",
    "\n",
    "We will take gradual steps in this homework, starting from recalling key information from lectures and textbook, to creating our own classifiers. \n",
    "\n",
    "### Table of Contents\n",
    "\n",
    "[CalEnviroScreen Data](#data)<br>\n",
    "1 - [Section 1 - Perceptron Algorithm and MMC](#section 1)<br>\n",
    "2 - [Section 2 - SVM Intuition](#section 2)<br>\n",
    "3 - [Section 3 - Using SVM to Classify CalEnviroScreen Data](#section 3) <br>\n",
    "4 - [Section 4 - Custom Margins](#section 4)<br>\n",
    "\n",
    "**Dependencies:**"
   ]
  },
  {
   "cell_type": "code",
   "execution_count": 1,
   "metadata": {
    "collapsed": true
   },
   "outputs": [],
   "source": [
    "# Import Packages\n",
    "import numpy as np\n",
    "import pandas as pd\n",
    "from matplotlib import style\n",
    "from matplotlib import pyplot as plt\n",
    "\n",
    "# Import Samples Generator\n",
    "from sklearn.datasets.samples_generator import make_circles\n",
    "from sklearn.datasets.samples_generator import make_blobs\n",
    "from sklearn.svm import SVC\n",
    "from sklearn.model_selection import train_test_split\n",
    "from sklearn.linear_model import Perceptron\n",
    "\n",
    "# Color Scheme for SVM!\n",
    "colormap = np.array(['blue', 'gold']) # Go bears!\n",
    "\n",
    "# Allows us to plot SVC decision functions\n",
    "def plot_svc_decision_function(model, ax=None, plot_support=True):\n",
    "    \"\"\"Plot the decision function for a 2D SVC\n",
    "    \n",
    "    Variables: \n",
    "        model: classifier\n",
    "    \n",
    "    Usage:\n",
    "    >>> from sklearn.svm import SVC\n",
    "    >>> clf = SVC(kernel='linear')\n",
    "    >>> clf.fit(X, y)\n",
    "    >>> plt.scatter(X[:, 0], X[:, 1], c=y, s=50, cmap='spring')\n",
    "    >>> plot_svc_decision_function(clf) # Draw the decision boundary\n",
    "    >>> plt.scatter(clf.support_vectors_[:, 0], clf.support_vectors_[:, 1],\n",
    "            s=200, facecolors='none');\n",
    "    \"\"\"\n",
    "    # You don't have to understand this block of code!\n",
    "    if ax is None:\n",
    "        ax = plt.gca()\n",
    "    xlim = ax.get_xlim()\n",
    "    ylim = ax.get_ylim()\n",
    "    \n",
    "    # create grid to evaluate model\n",
    "    x = np.linspace(xlim[0], xlim[1], 30)\n",
    "    y = np.linspace(ylim[0], ylim[1], 30)\n",
    "    Y, X = np.meshgrid(y, x)\n",
    "    xy = np.vstack([X.ravel(), Y.ravel()]).T\n",
    "    P = model.decision_function(xy).reshape(X.shape)\n",
    "    \n",
    "    # plot decision boundary and margins\n",
    "    ax.contour(X, Y, P, colors='k',\n",
    "               levels=[-1, 0, 1], alpha=0.5,\n",
    "               linestyles=['--', '-', '--'])\n",
    "    \n",
    "    # plot support vectors\n",
    "    if plot_support:\n",
    "        ax.scatter(model.support_vectors_[:, 0],\n",
    "                   model.support_vectors_[:, 1],\n",
    "                   s=300, linewidth=1, facecolors='none');\n",
    "    ax.set_xlim(xlim)\n",
    "    ax.set_ylim(ylim)"
   ]
  },
  {
   "cell_type": "markdown",
   "metadata": {},
   "source": [
    "---\n",
    "\n",
    "## CalEnviroScreen Dataset <a id='data'></a>\n",
    "Carrying on from the previous homework, we will be using the CalEnviroScreen dataset. CalEnviroScreen 3.0 is a comprehensive documentation of the environmental and the demographic conditions of each county in California. Following the collection of these data, CalEnviroScreen 3.0 gives a CES Score, which is the Pollution Score multiplied by Population Characteristics Score. \n",
    "\n",
    "In this homework, while the CES Score gives us a good indication of the environmental conditions of counties (although CalEnviroScreen does not tell us how they calculated the score!), we are interested in seeing how different demographic conditions affect environmental conditions. \n",
    "\n",
    "Please note that the Excel file can be downloaded from [here](https://oehha.ca.gov/calenviroscreen/report/calenviroscreen-30). However, for this homework, the Excel file has already been compiled into CSV files using the [xlsx2csv](https://github.com/dilshod/xlsx2csv) library. If you are interested in how this was done, take a look at the [xlsx2csv](https://github.com/dilshod/xlsx2csv) Github repository as linked!"
   ]
  },
  {
   "cell_type": "markdown",
   "metadata": {},
   "source": [
    "---\n",
    "## Section 1: Perceptron Algorithm and Maximal Margin Classification  <a id='section 1'></a>"
   ]
  },
  {
   "cell_type": "markdown",
   "metadata": {},
   "source": [
    "#### Reminder on the Perceptron Algorithm:\n",
    "\n",
    "The perceptron algorithm is a simpler model of the SVM algorithm. It assumes that all the data points are __linearly separable__ and is thus unsuitable for use in many datasets. Given a training dataset of $n$ points, $D = \\{(x_i, y_i)\\}_{i = 1}^{n}$, where $x_i \\in R^d$ and $y_i \\in \\{-1 , +1\\}$, the perceptron algorithm finds a $d - 1$ hyperplane that perfectly seperates $+1$ and $-1$. "
   ]
  },
  {
   "cell_type": "markdown",
   "metadata": {},
   "source": [
    "**Question 1.1:**\n",
    "In this question, we are going to use `make_blobs` and `make_circles` extensively. These are sample generators made by `scikit-learn` package, which will allow us to randomly generate blobs and circles! \n",
    "\n",
    "The following cell is an example of how we might call `make_blobs`.\n",
    "\n",
    "*Note that `make_blobs` sometimes does not work as intended. Re-run the cell if you do not see a clear distinction between the two blobs*"
   ]
  },
  {
   "cell_type": "code",
   "execution_count": 3,
   "metadata": {
    "scrolled": true
   },
   "outputs": [
    {
     "data": {
      "image/png": "[encoded data removed]",
      "text/plain": [
       "<Figure size 432x288 with 1 Axes>"
      ]
     },
     "metadata": {},
     "output_type": "display_data"
    }
   ],
   "source": [
    "# RE-RUN ME IF BLOBS ARE NOT VISIBLY SEPARABLE\n",
    "\n",
    "# Generating blobs of data with 2 centers\n",
    "X, y = make_blobs(n_samples=100, centers=2, cluster_std=0.50, center_box=(-4, 4))\n",
    "\n",
    "# Plotting the blobs of data\n",
    "plt.title(\"Data of Two Randomly Generated Clusters\")\n",
    "plt.scatter(X[:, 0], X[:, 1], c=colormap[y], s=50)\n",
    "plt.show()"
   ]
  },
  {
   "cell_type": "markdown",
   "metadata": {},
   "source": [
    "There are a lot of hyperplanes that can separate these two clusters of data. Give 3 possible examples in the code below by calculating by hand, where first item should be the gradient and second item should be the y-intercept. In other words, `first/second/third = (gradient, y-intercept)`: "
   ]
  },
  {
   "cell_type": "code",
   "execution_count": null,
   "metadata": {
    "collapsed": true
   },
   "outputs": [],
   "source": [
    "first = (...)\n",
    "second = (...)\n",
    "third = (...)"
   ]
  },
  {
   "cell_type": "markdown",
   "metadata": {},
   "source": [
    "Run the following cell to double-check that your answers are right and reasonable"
   ]
  },
  {
   "cell_type": "code",
   "execution_count": null,
   "metadata": {
    "collapsed": true
   },
   "outputs": [],
   "source": [
    "# Plotting \n",
    "xfit = np.linspace(-4, 4)\n",
    "plt.scatter(X[:, 0], X[:, 1], c=y, s=50)\n",
    "\n",
    "for m, c in [first, second, third]:\n",
    "    plt.plot(xfit, m * xfit + c, '-k')\n",
    "\n",
    "plt.title(\"Two Randomly Generated Clusters and Hyperplanes Separating Them\")\n",
    "plt.xlim(-4, 4)\n",
    "plt.show()"
   ]
  },
  {
   "cell_type": "markdown",
   "metadata": {},
   "source": [
    "<b> Question 1.2: </b> There are multiple answers (we definitely know there is 3!) to Question 1.1. Explain why. "
   ]
  },
  {
   "cell_type": "markdown",
   "metadata": {},
   "source": [
    "Answer: ..."
   ]
  },
  {
   "cell_type": "markdown",
   "metadata": {},
   "source": [
    "__Question 1.3:__ Because of issues as explored in Questions 1.2 and 1.3, in practical usage, we default to using maximal margin classification or __hard-margin SVM__. What makes hard-margin SVMs different to the perceptron algorithm that we have been exposed to so far? "
   ]
  },
  {
   "cell_type": "markdown",
   "metadata": {},
   "source": [
    "Answer: ..."
   ]
  },
  {
   "cell_type": "markdown",
   "metadata": {},
   "source": [
    "#### Question 1.4: \n",
    "\n",
    "We are now going to examine how to code Perceptrons, especially since this process is very similar to that of coding SVMs (which we will see in later sections). First, we import the necessary library: "
   ]
  },
  {
   "cell_type": "code",
   "execution_count": 4,
   "metadata": {
    "collapsed": true
   },
   "outputs": [],
   "source": [
    "from sklearn.linear_model import Perceptron"
   ]
  },
  {
   "cell_type": "markdown",
   "metadata": {},
   "source": [
    "Next, we create our artificial dataset, and it has been hard-coded below. Later, we will use `scikit-learn`'s `samples_generator` to create our datasets. But, for now, let's try to develop a better understanding of the kind of data that we need to classify information"
   ]
  },
  {
   "cell_type": "code",
   "execution_count": 5,
   "metadata": {
    "collapsed": true
   },
   "outputs": [],
   "source": [
    "x = np.array([\n",
    "[2, 1, 2, 5, 8, 2, 3, 6, 1, 2, 5, 5, 3, 5, 6],\n",
    "[2, 3, 3, 3, 3, 4, 4, 4, 5, 5, 5, 7, 3, 7, 3]\n",
    "])\n",
    "\n",
    "y = np.array([0, 0, 0, 1, 1, 0, 0, 1, 0, 0, 1, 1, 1, 1, 1])"
   ]
  },
  {
   "cell_type": "markdown",
   "metadata": {},
   "source": [
    "**Question 1.4.1:** What is the purpose of `x` and `y` in the above block of code? Following the question, what will the coordinate $(5, 5)$ be labelled as?"
   ]
  },
  {
   "cell_type": "markdown",
   "metadata": {},
   "source": [
    "Answer: ..."
   ]
  },
  {
   "cell_type": "markdown",
   "metadata": {},
   "source": [
    "Now that we have developed an understanding of what our data is, let's graph the data out, to gain a even better understanding of the data!"
   ]
  },
  {
   "cell_type": "code",
   "execution_count": 6,
   "metadata": {},
   "outputs": [
    {
     "data": {
      "image/png": "[encoded data removed]",
      "text/plain": [
       "<Figure size 432x288 with 1 Axes>"
      ]
     },
     "metadata": {},
     "output_type": "display_data"
    }
   ],
   "source": [
    "plt.title(\"Data and Labels Colored\")\n",
    "plt.scatter(x[0], x[1], c=colormap[y], s=40)\n",
    "plt.show()"
   ]
  },
  {
   "cell_type": "markdown",
   "metadata": {},
   "source": [
    "**Question 1.4.2:** Based on the graph, is this dataset linearly separable, or not? If not, name the possible coordinates that makes the graph not linearly separable. "
   ]
  },
  {
   "cell_type": "markdown",
   "metadata": {},
   "source": [
    "Answer: ..."
   ]
  },
  {
   "cell_type": "markdown",
   "metadata": {},
   "source": [
    "Now, we are going to try coding out for ourselves the Perceptron algorithm, using a modified dataset, as in the following block of code: "
   ]
  },
  {
   "cell_type": "code",
   "execution_count": 7,
   "metadata": {},
   "outputs": [
    {
     "data": {
      "image/png": "[encoded data removed]",
      "text/plain": [
       "<Figure size 432x288 with 1 Axes>"
      ]
     },
     "metadata": {},
     "output_type": "display_data"
    }
   ],
   "source": [
    "data = np.array([\n",
    "[2, 1, 2, 5, 7, 2, 3, 6, 1, 2, 5, 4, 6, 5],\n",
    "[2, 3, 3, 3, 3, 4, 4, 4, 5, 5, 5, 6, 6, 7]\n",
    "])\n",
    "\n",
    "label = np.array([0, 0, 0, 1, 1, 0, 0, 1, 0, 0, 1, 1, 1, 1])\n",
    "plt.title(\"Data and Labels Colored\")\n",
    "plt.scatter(data[0], data[1], c=colormap[label], s=40)\n",
    "plt.show()"
   ]
  },
  {
   "cell_type": "markdown",
   "metadata": {},
   "source": [
    "**Question 1.4.3:** In the following block, set up our classifier, using `Perceptron`. Look at the following [link](http://scikit-learn.org/stable/modules/generated/sklearn.linear_model.Perceptron.html) for more information on setting up a classifier. We want the model to have the following parameters:\n",
    "1. `n_iter` = 100\n",
    "2. `verbose` = 0\n",
    "3. `eta` = 0.002 "
   ]
  },
  {
   "cell_type": "code",
   "execution_count": null,
   "metadata": {
    "collapsed": true
   },
   "outputs": [],
   "source": [
    "classifier = ..."
   ]
  },
  {
   "cell_type": "markdown",
   "metadata": {},
   "source": [
    "**Question 1.4.4:** In the following block, we are going to use the Perceptron classifier that we have set-up and fit the data in. Again, please refer to the following [link](http://scikit-learn.org/stable/modules/generated/sklearn.linear_model.Perceptron.html) for more information on using the classifier. \n",
    "\n",
    "Please note that we are going to rotate our `data` by 180 degrees, to allow fitting of data (`data` was made with graphing in mind, not classifying)\n",
    "\n",
    "*Hint: `.fit` takes in two parameters, data and labels*"
   ]
  },
  {
   "cell_type": "code",
   "execution_count": null,
   "metadata": {
    "collapsed": true
   },
   "outputs": [],
   "source": [
    "# rotate the data 180 degrees\n",
    "data90 = np.rot90(data)\n",
    "data90 = np.rot90(data90)\n",
    "data90 = np.rot90(data90)\n",
    "\n",
    "# YOUR CODE HERE - Create the Model\n",
    "..."
   ]
  },
  {
   "cell_type": "markdown",
   "metadata": {},
   "source": [
    "Finally, let's run the following cell to see what kind of decision boundary we have come up with! If it does not look right / separates two datasets completely, there must have been some mistake above. Look carefully at the parameters for the Perceptron classifier. "
   ]
  },
  {
   "cell_type": "code",
   "execution_count": 10,
   "metadata": {},
   "outputs": [
    {
     "data": {
      "image/png": "[encoded data removed]",
      "text/plain": [
       "<Figure size 432x288 with 1 Axes>"
      ]
     },
     "metadata": {},
     "output_type": "display_data"
    }
   ],
   "source": [
    "# Plot the original data\n",
    "plt.scatter(data[0], data[1], c=colormap[label], s=40)\n",
    "\n",
    "# Calc the hyperplane (decision boundary)\n",
    "ymin, ymax = plt.ylim()\n",
    "w = classifier.coef_[0]\n",
    "a = -w[0] / w[1]\n",
    "xx = np.linspace(ymin, ymax)\n",
    "yy = a * xx - (classifier.intercept_[0]) / w[1]\n",
    "\n",
    "# Plot the line\n",
    "plt.plot(yy,xx, 'k-')\n",
    "plt.show()"
   ]
  },
  {
   "cell_type": "markdown",
   "metadata": {},
   "source": [
    "**Question 1.4.5:** Name one coordinate, when added, will **NOT** change the decision boundary and name one coordinate, when added, **WILL** change the decision boundary."
   ]
  },
  {
   "cell_type": "markdown",
   "metadata": {},
   "source": [
    "Answer: ..."
   ]
  },
  {
   "cell_type": "markdown",
   "metadata": {},
   "source": [
    "---\n",
    "## Section 2: SVM Intuition <a id='section 2'></a>\n",
    "\n",
    "### Question 2.1: Word Problems!\n",
    "Before we start classifying CalEnviroScreen Dataset, let's recap about the intuitions behind using Support Vector Machines. \n",
    "\n",
    "<img src=\"img/svd.png\" width=\"400\">\n",
    "\n",
    "This is an example of an artificially created data-set to be classified, where red $+$ data points and green $O$ data points are to be classified frome each other. In the following questions, assume the following: \n",
    "1. Training data comes from error-prone sensors, so we should not trust any specific points too much\n",
    "2. We are training our SVM using a __quadratic__ kernel. The slack penalty $C$ will determine the location of the separating hyperplane.\n",
    "\n",
    "Answer the following questions with a True / False and a one line justification."
   ]
  },
  {
   "cell_type": "markdown",
   "metadata": {},
   "source": [
    "__Question 2.1.1__: Given the potential decision boundaries below, which one will have a large slack penalty $C$ (i.e. $C \\to \\infty$) and which one will have a small slack penalty $C$ (i.e. $C \\to 0$)?\n",
    "<img src=\"img/svd2.png\" width=\"400\">"
   ]
  },
  {
   "cell_type": "markdown",
   "metadata": {},
   "source": [
    "Answer: ..."
   ]
  },
  {
   "cell_type": "markdown",
   "metadata": {},
   "source": [
    "<br>\n",
    "__Question 2.1.2__: In this particular dataset, would it be more advantageous to use a small slack penalty $C$ or a large slack penalty $C$?"
   ]
  },
  {
   "cell_type": "markdown",
   "metadata": {},
   "source": [
    "Answer: ..."
   ]
  },
  {
   "cell_type": "markdown",
   "metadata": {},
   "source": [
    "<br>\n",
    "__Question 2.1.3__: Name one coordinate that will __not change__ the decision boundary learned for\n",
    "very large values of C. Justify your answer."
   ]
  },
  {
   "cell_type": "markdown",
   "metadata": {},
   "source": [
    "Answer: ..."
   ]
  },
  {
   "cell_type": "markdown",
   "metadata": {},
   "source": [
    "<br>\n",
    "__Question 2.1.4__: Name one coordinate that __will__ change the decision boundary learned for very large values of $C$. Justify your answer."
   ]
  },
  {
   "cell_type": "markdown",
   "metadata": {},
   "source": [
    "Answer: ..."
   ]
  },
  {
   "cell_type": "markdown",
   "metadata": {},
   "source": [
    "<br>\n",
    "**Question 2.1.5:** In general, would we have more support vectors with higher $C$ or lower $C$. Explain."
   ]
  },
  {
   "cell_type": "markdown",
   "metadata": {},
   "source": [
    "Answer: ..."
   ]
  },
  {
   "cell_type": "markdown",
   "metadata": {},
   "source": [
    "### Question 2.2: Intuition from Pictures & Learning to Use `Scikit-learn`'s `svm` Models\n",
    "Before we begin the question formally, run the following cell to unlock the ability to run SVM using `scikit-learn`. We will also call the different libraries that we will be using in this question, namely `samples_generator`.\n",
    "\n",
    "In this question, we are going to use `make_blobs` and `make_circles` extensively. These are sample generators made by `scikit-learn` package, which will allow us to randomly generate blobs and circles! \n",
    "\n",
    "The following cell is an example of how we might call `make_blobs`, and feel free to play around with the parameters! Keep this in mind as you will later be asked to call `make_circles`. \n",
    "\n",
    "*Note that `make_blobs` sometimes does not work as intended. Re-run the cell if you do not see a clear distinction between the two blobs*"
   ]
  },
  {
   "cell_type": "code",
   "execution_count": null,
   "metadata": {
    "scrolled": true
   },
   "outputs": [],
   "source": [
    "# Generating blobs of data with 2 centers\n",
    "X, y = make_blobs(n_samples=50, centers=2, cluster_std=0.60, center_box=(-4, 4))\n",
    "\n",
    "# Plotting the blobs of data\n",
    "plt.title(\"Data of Two Randomly Generated Clusters\")\n",
    "plt.scatter(X[:, 0], X[:, 1], c=colormap[y], s=50)\n",
    "plt.xlim(-4, 4)\n",
    "plt.show()"
   ]
  },
  {
   "cell_type": "markdown",
   "metadata": {},
   "source": [
    "From *Question 1.1*, we saw that there are many hyperplanes that could separate these data. We do not want these issues arising, so for linearly separable data, we have previously explored using Maximum Margin Classifiers, or hard-margin SVMs. Let's now actually try to use support vector machines to classify our data. \n",
    "\n",
    "**Question 2.2.1:** Make the Support Vector Machine Classifier in the following cell, with the following parameters: \n",
    "1. `kernel` should be linear\n",
    "2. Set the slack variable `C` to be a large number, like `1E10`\n",
    "\n",
    "*Hint: Use `SVC` to create your model and refer to this [link](http://scikit-learn.org/stable/modules/generated/sklearn.svm.SVC.html#sklearn.svm.SVC) for more information*"
   ]
  },
  {
   "cell_type": "code",
   "execution_count": null,
   "metadata": {
    "collapsed": true
   },
   "outputs": [],
   "source": [
    "clf = ... # clf is short for classifier"
   ]
  },
  {
   "cell_type": "markdown",
   "metadata": {},
   "source": [
    "**Question 2.2.2:** Why did we have to set the slack variable $C$ to be a large number in Question *2.2.1*? "
   ]
  },
  {
   "cell_type": "markdown",
   "metadata": {},
   "source": [
    "Answer: ..."
   ]
  },
  {
   "cell_type": "markdown",
   "metadata": {},
   "source": [
    "**Question 2.2.3:** Having created the classifier as `clf`, we can start training our data. In the following cell, train our data (of randomly generated blobs) using the classifier we have just created. \n",
    "\n",
    "*Hints: data for blobs are `X` and labels are `y` and the function `fit` may come in handy*"
   ]
  },
  {
   "cell_type": "code",
   "execution_count": null,
   "metadata": {
    "collapsed": true
   },
   "outputs": [],
   "source": [
    "..."
   ]
  },
  {
   "cell_type": "markdown",
   "metadata": {},
   "source": [
    "Now, let's have a look at what we have made by running the following cell! If it does not look right, look back at your `clf` and training codes!"
   ]
  },
  {
   "cell_type": "code",
   "execution_count": 16,
   "metadata": {},
   "outputs": [
    {
     "data": {
      "image/png": "[encoded data removed]",
      "text/plain": [
       "<Figure size 432x288 with 1 Axes>"
      ]
     },
     "metadata": {},
     "output_type": "display_data"
    }
   ],
   "source": [
    "# Graphing SVM and Data\n",
    "plt.scatter(X[:, 0], X[:, 1], c=colormap[y], s=50)\n",
    "plot_svc_decision_function(clf)\n",
    "\n",
    "plt.title(\"SVM on the Blobs of Data\")\n",
    "plt.xlim(-4, 4)\n",
    "plt.show()"
   ]
  },
  {
   "cell_type": "markdown",
   "metadata": {},
   "source": [
    "So far, we have only really dealt with linearly separable data. What happens if the data is not linearly separable? Let's examine these cases in the following questions. \n",
    "\n",
    "**Question 2.2.4:** Just as we have created our dataset for blobs of data, make a new dataset for circles below. \n",
    "\n",
    "*Hint: Refer to the code above and the function `make_circles` may come in handy*"
   ]
  },
  {
   "cell_type": "code",
   "execution_count": null,
   "metadata": {
    "collapsed": true
   },
   "outputs": [],
   "source": [
    "X, y = ..."
   ]
  },
  {
   "cell_type": "markdown",
   "metadata": {},
   "source": [
    "**Question 2.2.5**: Train this new dataset using a linear kernel. Adjust the slack variable `C` accordingly. The code will graph the results out immediately for you.\n",
    "\n",
    "*Hint: If training takes too long, your slack variable is probably too high!*"
   ]
  },
  {
   "cell_type": "code",
   "execution_count": null,
   "metadata": {
    "collapsed": true
   },
   "outputs": [],
   "source": [
    "clf = ...\n",
    "...\n",
    "\n",
    "# Graphing decision boundaries\n",
    "plt.scatter(X[:, 0], X[:, 1], c=colormap[y], s=50)\n",
    "plot_svc_decision_function(clf)\n",
    "plt.title(\"SVM (Linear) on Circles of Data\")\n",
    "plt.show()"
   ]
  },
  {
   "cell_type": "markdown",
   "metadata": {},
   "source": [
    "We cannot really see a hyper-plane that distinguishes these two data points, so let's move up a dimension and see if we can find a hyperplane separating these two clusters of data"
   ]
  },
  {
   "cell_type": "code",
   "execution_count": 22,
   "metadata": {},
   "outputs": [
    {
     "data": {
      "image/png": "[encoded data removed]",
      "text/plain": [
       "<Figure size 432x288 with 1 Axes>"
      ]
     },
     "metadata": {},
     "output_type": "display_data"
    }
   ],
   "source": [
    "from mpl_toolkits import mplot3d\n",
    "\n",
    "ax = plt.subplot(projection='3d')\n",
    "ax.scatter3D(X[:, 0], \n",
    "             X[:, 1], \n",
    "             np.exp(-(X ** 2).sum(1)), \n",
    "             c=colormap[y], \n",
    "             s=50)\n",
    "\n",
    "ax.view_init(elev=30, azim=30)\n",
    "ax.set_xlabel('x')\n",
    "ax.set_ylabel('y')\n",
    "ax.set_zlabel('r')\n",
    "    \n",
    "plt.title(\"3-D Representation of Circles of Data\")\n",
    "plt.show()"
   ]
  },
  {
   "cell_type": "markdown",
   "metadata": {},
   "source": [
    "**Question 2.2.6:** Yay! We have found a hyper-plane. These data points are definitely not linearly separable. But, we can see a clear distinction between the two classes of data. What kernel might we use to run SVM on this data-set? "
   ]
  },
  {
   "cell_type": "markdown",
   "metadata": {},
   "source": [
    "Answer: ..."
   ]
  },
  {
   "cell_type": "markdown",
   "metadata": {},
   "source": [
    "**Question 2.2.7:** Follow the processes we have taken to firstly create a classifier model and then train the data,  to use your answer to *Question 2.2.6* to generate and train a classifier for this particular dataset. Unlike previous quesions, there will be no starting code, but feel free to refer to your answers to previous questions to gain insight!\n",
    "\n",
    "*Hint: You may need to specify slack variables to generate a good answer*"
   ]
  },
  {
   "cell_type": "code",
   "execution_count": null,
   "metadata": {
    "collapsed": true
   },
   "outputs": [],
   "source": [
    "# Graphing decision boundaries\n",
    "plt.scatter(X[:, 0], X[:, 1], c=colormap[y], s=50)\n",
    "plot_svc_decision_function(clf)\n",
    "plt.title(\"SVM on Circles of Data\")\n",
    "plt.show()"
   ]
  },
  {
   "cell_type": "markdown",
   "metadata": {},
   "source": [
    "---\n",
    "## Section 3: Using SVM to Classify CalEnviroScreen Data <a id='section 3'></a>\n",
    "\n",
    "<br>\n",
    "Now that we have a solid understanding of how SVM works, let's begin applying our classroom knowledge on real-life data. "
   ]
  },
  {
   "cell_type": "code",
   "execution_count": 8,
   "metadata": {},
   "outputs": [],
   "source": [
    "env = pd.read_csv('data/ces3results_environment.csv')\n",
    "demog = pd.read_csv('data/ces3results_demographics.csv')"
   ]
  },
  {
   "cell_type": "markdown",
   "metadata": {},
   "source": [
    "Second, let's have a look at what each of these data entails: "
   ]
  },
  {
   "cell_type": "code",
   "execution_count": 7,
   "metadata": {},
   "outputs": [
    {
     "data": {
      "text/html": [
       "<div>\n",
       "<style scoped>\n",
       "    .dataframe tbody tr th:only-of-type {\n",
       "        vertical-align: middle;\n",
       "    }\n",
       "\n",
       "    .dataframe tbody tr th {\n",
       "        vertical-align: top;\n",
       "    }\n",
       "\n",
       "    .dataframe thead th {\n",
       "        text-align: right;\n",
       "    }\n",
       "</style>\n",
       "<table border=\"1\" class=\"dataframe\">\n",
       "  <thead>\n",
       "    <tr style=\"text-align: right;\">\n",
       "      <th></th>\n",
       "      <th>Census Tract</th>\n",
       "      <th>Total Population</th>\n",
       "      <th>California County</th>\n",
       "      <th>ZIP</th>\n",
       "      <th>Nearby City \n",
       "(to help approximate location only)</th>\n",
       "      <th>Longitude</th>\n",
       "      <th>Latitude</th>\n",
       "      <th>CES 3.0 Score</th>\n",
       "      <th>CES 3.0 Percentile</th>\n",
       "      <th>CES 3.0 \n",
       "Percentile Range</th>\n",
       "      <th>...</th>\n",
       "      <th>Linguistic Isolation Pctl</th>\n",
       "      <th>Poverty</th>\n",
       "      <th>Poverty Pctl</th>\n",
       "      <th>Unemployment</th>\n",
       "      <th>Unemployment Pctl</th>\n",
       "      <th>Housing Burden</th>\n",
       "      <th>Housing Burden Pctl</th>\n",
       "      <th>Pop. Char.</th>\n",
       "      <th>Pop. Char. Score</th>\n",
       "      <th>Pop. Char. Pctl</th>\n",
       "    </tr>\n",
       "  </thead>\n",
       "  <tbody>\n",
       "    <tr>\n",
       "      <th>0</th>\n",
       "      <td>6019001100</td>\n",
       "      <td>3174</td>\n",
       "      <td>Fresno</td>\n",
       "      <td>93706</td>\n",
       "      <td>Fresno</td>\n",
       "      <td>-119.781696</td>\n",
       "      <td>36.709695</td>\n",
       "      <td>94.09</td>\n",
       "      <td>100.00</td>\n",
       "      <td>95-100% (highest scores)</td>\n",
       "      <td>...</td>\n",
       "      <td>77.51</td>\n",
       "      <td>76.3</td>\n",
       "      <td>97.12</td>\n",
       "      <td>17.6</td>\n",
       "      <td>91.72</td>\n",
       "      <td>26.0</td>\n",
       "      <td>79.40</td>\n",
       "      <td>92.12</td>\n",
       "      <td>9.55</td>\n",
       "      <td>99.70</td>\n",
       "    </tr>\n",
       "    <tr>\n",
       "      <th>1</th>\n",
       "      <td>6071001600</td>\n",
       "      <td>6133</td>\n",
       "      <td>San Bernardino</td>\n",
       "      <td>91761</td>\n",
       "      <td>Ontario</td>\n",
       "      <td>-117.618013</td>\n",
       "      <td>34.057780</td>\n",
       "      <td>90.68</td>\n",
       "      <td>99.99</td>\n",
       "      <td>95-100% (highest scores)</td>\n",
       "      <td>...</td>\n",
       "      <td>96.25</td>\n",
       "      <td>72.5</td>\n",
       "      <td>94.63</td>\n",
       "      <td>12.3</td>\n",
       "      <td>71.82</td>\n",
       "      <td>34.1</td>\n",
       "      <td>93.75</td>\n",
       "      <td>87.44</td>\n",
       "      <td>9.07</td>\n",
       "      <td>98.11</td>\n",
       "    </tr>\n",
       "    <tr>\n",
       "      <th>2</th>\n",
       "      <td>6019000200</td>\n",
       "      <td>3167</td>\n",
       "      <td>Fresno</td>\n",
       "      <td>93706</td>\n",
       "      <td>Fresno</td>\n",
       "      <td>-119.805504</td>\n",
       "      <td>36.735491</td>\n",
       "      <td>85.97</td>\n",
       "      <td>99.97</td>\n",
       "      <td>95-100% (highest scores)</td>\n",
       "      <td>...</td>\n",
       "      <td>78.39</td>\n",
       "      <td>86.8</td>\n",
       "      <td>99.56</td>\n",
       "      <td>16.1</td>\n",
       "      <td>87.98</td>\n",
       "      <td>40.1</td>\n",
       "      <td>97.85</td>\n",
       "      <td>94.58</td>\n",
       "      <td>9.81</td>\n",
       "      <td>99.99</td>\n",
       "    </tr>\n",
       "    <tr>\n",
       "      <th>3</th>\n",
       "      <td>6077000801</td>\n",
       "      <td>6692</td>\n",
       "      <td>San Joaquin</td>\n",
       "      <td>95203</td>\n",
       "      <td>Stockton</td>\n",
       "      <td>-121.314524</td>\n",
       "      <td>37.940517</td>\n",
       "      <td>82.49</td>\n",
       "      <td>99.96</td>\n",
       "      <td>95-100% (highest scores)</td>\n",
       "      <td>...</td>\n",
       "      <td>75.14</td>\n",
       "      <td>61.3</td>\n",
       "      <td>85.57</td>\n",
       "      <td>19.6</td>\n",
       "      <td>94.97</td>\n",
       "      <td>21.1</td>\n",
       "      <td>63.54</td>\n",
       "      <td>86.70</td>\n",
       "      <td>8.99</td>\n",
       "      <td>97.72</td>\n",
       "    </tr>\n",
       "    <tr>\n",
       "      <th>4</th>\n",
       "      <td>6019001500</td>\n",
       "      <td>2206</td>\n",
       "      <td>Fresno</td>\n",
       "      <td>93725</td>\n",
       "      <td>Fresno</td>\n",
       "      <td>-119.717843</td>\n",
       "      <td>36.681600</td>\n",
       "      <td>82.03</td>\n",
       "      <td>99.95</td>\n",
       "      <td>95-100% (highest scores)</td>\n",
       "      <td>...</td>\n",
       "      <td>73.72</td>\n",
       "      <td>66.4</td>\n",
       "      <td>90.23</td>\n",
       "      <td>18.6</td>\n",
       "      <td>93.65</td>\n",
       "      <td>28.1</td>\n",
       "      <td>83.98</td>\n",
       "      <td>80.08</td>\n",
       "      <td>8.30</td>\n",
       "      <td>92.76</td>\n",
       "    </tr>\n",
       "  </tbody>\n",
       "</table>\n",
       "<p>5 rows × 57 columns</p>\n",
       "</div>"
      ],
      "text/plain": [
       "   Census Tract  Total Population California County    ZIP  \\\n",
       "0    6019001100              3174           Fresno   93706   \n",
       "1    6071001600              6133    San Bernardino  91761   \n",
       "2    6019000200              3167           Fresno   93706   \n",
       "3    6077000801              6692       San Joaquin  95203   \n",
       "4    6019001500              2206           Fresno   93725   \n",
       "\n",
       "  Nearby City \\n(to help approximate location only)   Longitude   Latitude  \\\n",
       "0                                            Fresno -119.781696  36.709695   \n",
       "1                                           Ontario -117.618013  34.057780   \n",
       "2                                            Fresno -119.805504  36.735491   \n",
       "3                                          Stockton -121.314524  37.940517   \n",
       "4                                            Fresno -119.717843  36.681600   \n",
       "\n",
       "   CES 3.0 Score   CES 3.0 Percentile CES 3.0 \\nPercentile Range  \\\n",
       "0          94.09               100.00   95-100% (highest scores)   \n",
       "1          90.68                99.99   95-100% (highest scores)   \n",
       "2          85.97                99.97   95-100% (highest scores)   \n",
       "3          82.49                99.96   95-100% (highest scores)   \n",
       "4          82.03                99.95   95-100% (highest scores)   \n",
       "\n",
       "        ...        Linguistic Isolation Pctl  Poverty  Poverty Pctl  \\\n",
       "0       ...                            77.51     76.3         97.12   \n",
       "1       ...                            96.25     72.5         94.63   \n",
       "2       ...                            78.39     86.8         99.56   \n",
       "3       ...                            75.14     61.3         85.57   \n",
       "4       ...                            73.72     66.4         90.23   \n",
       "\n",
       "   Unemployment  Unemployment Pctl  Housing Burden  Housing Burden Pctl  \\\n",
       "0          17.6              91.72            26.0                79.40   \n",
       "1          12.3              71.82            34.1                93.75   \n",
       "2          16.1              87.98            40.1                97.85   \n",
       "3          19.6              94.97            21.1                63.54   \n",
       "4          18.6              93.65            28.1                83.98   \n",
       "\n",
       "   Pop. Char.   Pop. Char. Score  Pop. Char. Pctl  \n",
       "0        92.12              9.55            99.70  \n",
       "1        87.44              9.07            98.11  \n",
       "2        94.58              9.81            99.99  \n",
       "3        86.70              8.99            97.72  \n",
       "4        80.08              8.30            92.76  \n",
       "\n",
       "[5 rows x 57 columns]"
      ]
     },
     "execution_count": 7,
     "metadata": {},
     "output_type": "execute_result"
    }
   ],
   "source": [
    "env.head()"
   ]
  },
  {
   "cell_type": "code",
   "execution_count": 27,
   "metadata": {},
   "outputs": [
    {
     "data": {
      "text/html": [
       "<div>\n",
       "<style>\n",
       "    .dataframe thead tr:only-child th {\n",
       "        text-align: right;\n",
       "    }\n",
       "\n",
       "    .dataframe thead th {\n",
       "        text-align: left;\n",
       "    }\n",
       "\n",
       "    .dataframe tbody tr th {\n",
       "        vertical-align: top;\n",
       "    }\n",
       "</style>\n",
       "<table border=\"1\" class=\"dataframe\">\n",
       "  <thead>\n",
       "    <tr style=\"text-align: right;\">\n",
       "      <th></th>\n",
       "      <th>Census Tract</th>\n",
       "      <th>CES 3.0 Score</th>\n",
       "      <th>CES 3.0 Percentile</th>\n",
       "      <th>CES 3.0 \n",
       "Percentile Range</th>\n",
       "      <th>Total Population</th>\n",
       "      <th>California \n",
       "County</th>\n",
       "      <th>Children &lt; 10 (%)</th>\n",
       "      <th>Pop 11-64 years (%)</th>\n",
       "      <th>Elderly &gt; 65 (%)</th>\n",
       "      <th>Hispanic (%)</th>\n",
       "      <th>White (%)</th>\n",
       "      <th>African American (%)</th>\n",
       "      <th>Native American (%)</th>\n",
       "      <th>Asian American (%)</th>\n",
       "      <th>Other (%)</th>\n",
       "    </tr>\n",
       "  </thead>\n",
       "  <tbody>\n",
       "    <tr>\n",
       "      <th>0</th>\n",
       "      <td>6019001100</td>\n",
       "      <td>94.09</td>\n",
       "      <td>100.00</td>\n",
       "      <td>95-100% (highest scores)</td>\n",
       "      <td>3174</td>\n",
       "      <td>Fresno</td>\n",
       "      <td>18.8</td>\n",
       "      <td>73.6</td>\n",
       "      <td>7.6</td>\n",
       "      <td>65.3</td>\n",
       "      <td>4.2</td>\n",
       "      <td>24.6</td>\n",
       "      <td>0.5</td>\n",
       "      <td>3.5</td>\n",
       "      <td>1.8</td>\n",
       "    </tr>\n",
       "    <tr>\n",
       "      <th>1</th>\n",
       "      <td>6071001600</td>\n",
       "      <td>90.68</td>\n",
       "      <td>99.99</td>\n",
       "      <td>95-100% (highest scores)</td>\n",
       "      <td>6133</td>\n",
       "      <td>San Bernardino</td>\n",
       "      <td>19.7</td>\n",
       "      <td>76.1</td>\n",
       "      <td>4.2</td>\n",
       "      <td>91.1</td>\n",
       "      <td>5.8</td>\n",
       "      <td>0.7</td>\n",
       "      <td>0.3</td>\n",
       "      <td>1.4</td>\n",
       "      <td>0.7</td>\n",
       "    </tr>\n",
       "    <tr>\n",
       "      <th>2</th>\n",
       "      <td>6019000200</td>\n",
       "      <td>85.97</td>\n",
       "      <td>99.97</td>\n",
       "      <td>95-100% (highest scores)</td>\n",
       "      <td>3167</td>\n",
       "      <td>Fresno</td>\n",
       "      <td>21.5</td>\n",
       "      <td>72.5</td>\n",
       "      <td>6.0</td>\n",
       "      <td>63.6</td>\n",
       "      <td>5.3</td>\n",
       "      <td>18.9</td>\n",
       "      <td>0.6</td>\n",
       "      <td>9.8</td>\n",
       "      <td>1.8</td>\n",
       "    </tr>\n",
       "    <tr>\n",
       "      <th>3</th>\n",
       "      <td>6077000801</td>\n",
       "      <td>82.49</td>\n",
       "      <td>99.96</td>\n",
       "      <td>95-100% (highest scores)</td>\n",
       "      <td>6692</td>\n",
       "      <td>San Joaquin</td>\n",
       "      <td>18.7</td>\n",
       "      <td>74.5</td>\n",
       "      <td>6.8</td>\n",
       "      <td>57.4</td>\n",
       "      <td>6.0</td>\n",
       "      <td>12.5</td>\n",
       "      <td>0.3</td>\n",
       "      <td>20.9</td>\n",
       "      <td>2.8</td>\n",
       "    </tr>\n",
       "    <tr>\n",
       "      <th>4</th>\n",
       "      <td>6019001500</td>\n",
       "      <td>82.03</td>\n",
       "      <td>99.95</td>\n",
       "      <td>95-100% (highest scores)</td>\n",
       "      <td>2206</td>\n",
       "      <td>Fresno</td>\n",
       "      <td>14.8</td>\n",
       "      <td>72.1</td>\n",
       "      <td>13.1</td>\n",
       "      <td>71.8</td>\n",
       "      <td>21.4</td>\n",
       "      <td>1.2</td>\n",
       "      <td>0.5</td>\n",
       "      <td>4.5</td>\n",
       "      <td>0.6</td>\n",
       "    </tr>\n",
       "  </tbody>\n",
       "</table>\n",
       "</div>"
      ],
      "text/plain": [
       "   Census Tract    CES 3.0 Score  CES 3.0 Percentile  \\\n",
       "0     6019001100           94.09              100.00   \n",
       "1     6071001600           90.68               99.99   \n",
       "2     6019000200           85.97               99.97   \n",
       "3     6077000801           82.49               99.96   \n",
       "4     6019001500           82.03               99.95   \n",
       "\n",
       "   CES 3.0 \\nPercentile Range  Total Population California \\nCounty  \\\n",
       "0    95-100% (highest scores)              3174             Fresno    \n",
       "1    95-100% (highest scores)              6133      San Bernardino   \n",
       "2    95-100% (highest scores)              3167             Fresno    \n",
       "3    95-100% (highest scores)              6692         San Joaquin   \n",
       "4    95-100% (highest scores)              2206             Fresno    \n",
       "\n",
       "   Children < 10 (%)  Pop 11-64 years (%)  Elderly > 65 (%)  Hispanic (%)  \\\n",
       "0               18.8                 73.6               7.6          65.3   \n",
       "1               19.7                 76.1               4.2          91.1   \n",
       "2               21.5                 72.5               6.0          63.6   \n",
       "3               18.7                 74.5               6.8          57.4   \n",
       "4               14.8                 72.1              13.1          71.8   \n",
       "\n",
       "   White (%)  African American (%)  Native American (%)  Asian American (%)  \\\n",
       "0        4.2                  24.6                  0.5                 3.5   \n",
       "1        5.8                   0.7                  0.3                 1.4   \n",
       "2        5.3                  18.9                  0.6                 9.8   \n",
       "3        6.0                  12.5                  0.3                20.9   \n",
       "4       21.4                   1.2                  0.5                 4.5   \n",
       "\n",
       "   Other (%)  \n",
       "0        1.8  \n",
       "1        0.7  \n",
       "2        1.8  \n",
       "3        2.8  \n",
       "4        0.6  "
      ]
     },
     "execution_count": 27,
     "metadata": {},
     "output_type": "execute_result"
    }
   ],
   "source": [
    "demog.head()"
   ]
  },
  {
   "cell_type": "markdown",
   "metadata": {},
   "source": [
    "**Question 3.1:** These datasets are huge and we want to limit our classification for the purposes of this homework. Use `pandas` to select data if they are `95-100% (highest scores)` or `1-5% (lowest scores)` in `CES 3.0 \\nPercentile Range` for the `env` dataframe. \n",
    "\n",
    "*Hint: Use `.loc` and `.isin` functions to select rows from Dataframe based on conditions*"
   ]
  },
  {
   "cell_type": "code",
   "execution_count": null,
   "metadata": {
    "collapsed": true
   },
   "outputs": [],
   "source": [
    "new_env = ..."
   ]
  },
  {
   "cell_type": "markdown",
   "metadata": {},
   "source": [
    "**Question 3.2:** Remember that CES 3.0 scores are generated from demographic and environmental data. From `env` dataframe, create test data and our label data. \n",
    "\n",
    "Let `X` be the test data consisting of `Census Tract`, `Unemployment` and `PM2.5` and `y` be the label data consisting of `Census Tract` and `CES 3.0 \\nPercentile Range`. \n",
    "\n",
    "*Note: `Census Tract` is not necessary but we include it for later purposes. *"
   ]
  },
  {
   "cell_type": "code",
   "execution_count": null,
   "metadata": {
    "collapsed": true
   },
   "outputs": [],
   "source": [
    "X = new_env...\n",
    "y = new_env..."
   ]
  },
  {
   "cell_type": "markdown",
   "metadata": {},
   "source": [
    "**Question 3.3:** Uh-oh, some of the data in `X` contain Null or `np.nan` values. Yikes! We need to fix this issue. In the cell below, change `X` by dropping any `np.nan` values\n",
    "\n",
    "*Hint: Use `.dropna()` function*"
   ]
  },
  {
   "cell_type": "code",
   "execution_count": null,
   "metadata": {
    "collapsed": true
   },
   "outputs": [],
   "source": [
    "X = ..."
   ]
  },
  {
   "cell_type": "markdown",
   "metadata": {},
   "source": [
    "**Question 3.4:** Now, our Null values our gone. But, we have come to another issue - the number of rows in `X` and `y` are different (we have dropped rows in `X`!). To fix this issue, let's merge `X` and `y` into a single dataframe on `Census Tract`. "
   ]
  },
  {
   "cell_type": "code",
   "execution_count": null,
   "metadata": {
    "collapsed": true
   },
   "outputs": [],
   "source": [
    "df = ..."
   ]
  },
  {
   "cell_type": "markdown",
   "metadata": {},
   "source": [
    "**Question 3.5:** We previously included `Census Tract` data for the purpose of merging `X` and `y`. We do not need this data anymore for the classification. Select `X` and `y` from `df` such that we only have `PM2.5`, `Unemployment` data in `X` and only `CES 3.0 \\nPercentile Range` in `y`. "
   ]
  },
  {
   "cell_type": "code",
   "execution_count": null,
   "metadata": {
    "collapsed": true
   },
   "outputs": [],
   "source": [
    "X = ...\n",
    "y = ..."
   ]
  },
  {
   "cell_type": "markdown",
   "metadata": {
    "collapsed": true
   },
   "source": [
    "**Question 3.6:** Now let's split `X` and `y` into four different sets: \n",
    "1. `X` Training Data: 80% of Environment data\n",
    "2. `X` Testing Data: 20% of Environment data\n",
    "3. `y` Training Data: 80% of Demographics data\n",
    "4. `y` Testing Data: 20% of Demographics Data\n",
    "\n",
    "*Hint: `train_test_split` function will come in handy!*"
   ]
  },
  {
   "cell_type": "code",
   "execution_count": null,
   "metadata": {
    "collapsed": true
   },
   "outputs": [],
   "source": [
    "X_train, X_test = ... \n",
    "Y_train, Y_test = ..."
   ]
  },
  {
   "cell_type": "markdown",
   "metadata": {},
   "source": [
    "**Question 3.7:** Whew, that was a lot of clean-up of data. Let's start classifying information now. Below, like *Question 2.2.7*, make a SVM classifier with a linear kernel (choose $C$ of your choice! Remember, if it takes too long, it is probably too high) and train the data. \n",
    "\n",
    "*Hint: If you get the error,* \n",
    "\n",
    ">`DataConversionWarning`: A column-vector ?? was passed when a `1d` array was expected. Please change the shape of ?? to (n_samples, ), for example using `ravel()`\n",
    "\n",
    "*use ??.values.ravel() to override this issue*"
   ]
  },
  {
   "cell_type": "code",
   "execution_count": null,
   "metadata": {
    "collapsed": true
   },
   "outputs": [],
   "source": [
    "svclassifier = ...\n",
    "..."
   ]
  },
  {
   "cell_type": "markdown",
   "metadata": {},
   "source": [
    "**Question 3.8:** Use the classifier to predict the outcome of our `X_test`. "
   ]
  },
  {
   "cell_type": "code",
   "execution_count": null,
   "metadata": {
    "collapsed": true
   },
   "outputs": [],
   "source": [
    "y_pred = ..."
   ]
  },
  {
   "cell_type": "markdown",
   "metadata": {},
   "source": [
    "Congratulations! You have completed training a data-set. Run the box below to see if you are getting a reasonable percentage of correct matches (~90%) "
   ]
  },
  {
   "cell_type": "code",
   "execution_count": 36,
   "metadata": {},
   "outputs": [
    {
     "name": "stdout",
     "output_type": "stream",
     "text": [
      "[[71  1]\n",
      " [ 5 80]]\n",
      "                          precision    recall  f1-score   support\n",
      "\n",
      "    1-5% (lowest scores)       0.93      0.99      0.96        72\n",
      "95-100% (highest scores)       0.99      0.94      0.96        85\n",
      "\n",
      "             avg / total       0.96      0.96      0.96       157\n",
      "\n"
     ]
    }
   ],
   "source": [
    "from sklearn.metrics import classification_report, confusion_matrix  \n",
    "print(confusion_matrix(y_test,y_pred))  \n",
    "print(classification_report(y_test,y_pred))  "
   ]
  },
  {
   "cell_type": "markdown",
   "metadata": {},
   "source": [
    "---\n",
    "## Section 4: Custom Kernels <a id='section 4'></a>"
   ]
  },
  {
   "cell_type": "markdown",
   "metadata": {},
   "source": [
    "In this section, we will learn to create our own kernels for SVM. So far, we have relied predominantly on: \n",
    "1. Our intuition of how different kernels look and behave\n",
    "2. Scikit-learn's implementation of SVM and kernels. \n",
    "\n",
    "But, suppose we are given a scenario where we have to come up with something completely **novel**. Therefore, the goal of this section is to reduce our reliance on the abstractions provided by Scikit-learn, so that we may move forward, even in cases where we have to create something new. Because the implementation of SVM itself is very difficult to emulate in a homework set, we will resort to defining our own kernels. \n",
    "\n",
    "\n",
    "First, to utilize support vector machines, we import SVM from Scikit-learn and Numpy."
   ]
  },
  {
   "cell_type": "code",
   "execution_count": 37,
   "metadata": {
    "collapsed": true
   },
   "outputs": [],
   "source": [
    "from sklearn import svm\n",
    "import numpy as np "
   ]
  },
  {
   "cell_type": "markdown",
   "metadata": {},
   "source": [
    "**Question 4.1:** Define linear kernel below. \n",
    "\n",
    "*Hint: Linear kernel has the formula: $<x, y>$*"
   ]
  },
  {
   "cell_type": "code",
   "execution_count": null,
   "metadata": {
    "collapsed": true
   },
   "outputs": [],
   "source": [
    "def linear_kernel(x, y): \n",
    "    \"\"\" \n",
    "    This is the function for linear margin, which is \n",
    "    defined as a dot product between vectors:\n",
    "    \n",
    "    linear_margin(x, y) = <x, y> \n",
    "    \"\"\"\n",
    "    # YOUR CODE HERE\n",
    "    return "
   ]
  },
  {
   "cell_type": "markdown",
   "metadata": {},
   "source": [
    "**Question 4.2:** A key component of data analysis is spotchecking. Let's test that our new, not-reliant-on-scikit-learn kernel truly functions! Fill in the missing code boxes below (in doubt, refer to [Section 2](#section 2)) and run it to test if our linear kernel functions the same way (or better!) than scikit-learn's implementation.\n",
    "\n",
    "*Hint: Specify kernel to be `linear_kernel` in SVC*\n",
    "\n",
    "We will begin with making our own blob of data:"
   ]
  },
  {
   "cell_type": "code",
   "execution_count": 41,
   "metadata": {},
   "outputs": [
    {
     "data": {
      "image/png": "[encoded data removed]",
      "text/plain": [
       "<Figure size 432x288 with 1 Axes>"
      ]
     },
     "metadata": {},
     "output_type": "display_data"
    }
   ],
   "source": [
    "# Generating blobs of data with 2 centers\n",
    "X, y = make_blobs(n_samples=50, centers=2, cluster_std=0.60, center_box=(-4, 4))\n",
    "\n",
    "# Plotting the blobs of data\n",
    "plt.title(\"Data of Two Randomly Generated Clusters\")\n",
    "plt.scatter(X[:, 0], X[:, 1], c=colormap[y], s=50)\n",
    "plt.xlim(-4, 4)\n",
    "plt.show()"
   ]
  },
  {
   "cell_type": "code",
   "execution_count": null,
   "metadata": {},
   "outputs": [],
   "source": [
    "clf = ...\n",
    "...\n",
    "\n",
    "# Graphing decision boundaries\n",
    "plt.scatter(X[:, 0], X[:, 1], c=colormap[y], s=50)\n",
    "plot_svc_decision_function(clf, plot_support=False)\n",
    "plt.title(\"SVM (Linear) on Circles of Data\")\n",
    "plt.show()"
   ]
  },
  {
   "cell_type": "markdown",
   "metadata": {},
   "source": [
    "**Question 4.3:** Linear kernels are interesting and very intuitive, but can we make kernels for something more? Define a radial-basis function. \n",
    "\n",
    "*Hints:* \n",
    "\n",
    "1. \n",
    "$$K(x, y) = e^{-g ||x - y||^2}$$\n",
    "\n",
    "2. In the code below, ``dists_sq`` refers to the distance between x and y, squared"
   ]
  },
  {
   "cell_type": "code",
   "execution_count": null,
   "metadata": {
    "collapsed": true
   },
   "outputs": [],
   "source": [
    "def radial_kernel(x, y, gamma):\n",
    "    \"\"\"\n",
    "    This is the function for Radial Basis Function kernel, defined as:\n",
    "        K(x, y) = e^(-gamma * ||x - y||^2)\n",
    "    \"\"\"\n",
    "    # YOUR CODE HERE\n",
    "    dists_sq = ...\n",
    "    return ..."
   ]
  },
  {
   "cell_type": "markdown",
   "metadata": {},
   "source": [
    "**Question 4.4**: So far, we have created kernels for linear and the radial functions. Let's try to create a kernel for something we have not encountered yet. The following [paper](http://citeseerx.ist.psu.edu/viewdoc/download?doi=10.1.1.214.3092&rep=rep1&type=pdf), *A Least Square Kernel Machine with Box Constraints* by Jayanta Basak of IBM India Research Lab, presents us with some new kernels. \n",
    "\n",
    "In this question, we will look specifically at the *Cauchy kernel* that Basak describes in the paper. \n",
    "\n",
    "The Cauchy Kernel is described as:\n",
    "\n",
    "$$K(x, y) = \\frac{1}{1 + \\frac{||x + y||^2}{\\sigma^2}}$$\n",
    "\n",
    "Implement the Cauchy Kernel below."
   ]
  },
  {
   "cell_type": "code",
   "execution_count": null,
   "metadata": {
    "collapsed": true
   },
   "outputs": [],
   "source": [
    "def cauchy_kernel(x, y, sigma):\n",
    "    \"\"\"\n",
    "    This is the function for Cauchy kernel, defined as:\n",
    "        K(x, y) = 1 / (1 + ||x - y||^2 / sigma ^ 2)\n",
    "                \n",
    "    as defined in:\n",
    "    \"A least square kernel machine with box constraints\"\n",
    "    Jayanta Basak, International Conference on Pattern Recognition 2008\n",
    "    \"\"\"\n",
    "    # YOUR CODE HERE\n",
    "    dists_sq = ...\n",
    "    return ..."
   ]
  },
  {
   "cell_type": "markdown",
   "metadata": {},
   "source": [
    "---\n",
    "## Submission\n",
    "\n",
    "Congrats, you finished the final homework!\n",
    "\n",
    "Before you submit, click **Kernel** --> **Restart & Clear Output**. Then, click **Cell** --> **Run All**. Then, go to the toolbar and click **File** -> **Download as** -> **.html** and submit the file through bCourses.\n",
    "\n",
    "---\n",
    "\n",
    "## Bibliography\n",
    "\n",
    "Carnegie Mellon University's Machine Learning Course (10 - 701) - Images on Question 2 - http://www.cs.cmu.edu/~ninamf/courses/601sp15/lectures.shtml\n",
    "\n",
    "Jayanta Basak, *A Least Square Kernel Machine with Box Constraints* - Inspiration and Formula for Question 4.4 - http://www.jprr.org/index.php/jprr/article/viewfile/181/57\n",
    "\n",
    "Jake VanderPlas - Function for Drawing SVC Decision Boundaries - *Python Data Science Handbook*\n",
    "\n",
    "---\n",
    "Notebook developed by: Beom Jin Lee (Brian)\n",
    "\n",
    "Data Science Modules: http://data.berkeley.edu/education/modules\n"
   ]
  }
 ],
 "metadata": {
  "anaconda-cloud": {},
  "kernelspec": {
   "display_name": "Python 3",
   "language": "python",
   "name": "python3"
  },
  "language_info": {
   "codemirror_mode": {
    "name": "ipython",
    "version": 3
   },
   "file_extension": ".py",
   "mimetype": "text/x-python",
   "name": "python",
   "nbconvert_exporter": "python",
   "pygments_lexer": "ipython3",
   "version": "3.6.5"
  }
 },
 "nbformat": 4,
 "nbformat_minor": 1
}
