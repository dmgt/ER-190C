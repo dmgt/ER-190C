{
 "cells": [
  {
   "cell_type": "markdown",
   "metadata": {},
   "source": [
    "# [ERG 190C] Homework 6"
   ]
  },
  {
   "cell_type": "markdown",
   "metadata": {},
   "source": [
    "<u>Learning Objectives</u>\n",
    "1. Understand the basic structure of this land-use regression dataset\n",
    "2. Learn how to run multiple linear regression with scikit learn and interpret coefficients\n",
    "3. Learn how to interpret p-values, and the pitfalls of p-hacking\n",
    "4. Learn how to use a model selection criterion like AIC\n",
    "5. Address some of the potential problems that arise in linear regression models\n",
    "\n",
    "This homework uses a data set used for the study in Novotny et al ES&T (2011). We'll use it as a basis for exploring multiple linear regression and the important questions one has to ask when running and interpreting results.\n",
    "\n",
    "We'll be using two different libraries: scikit-learn, and StatsModels. Scikit-learn is preferred in the machine-learning community, and is easier to use for methods concerning prediction(e.g., cross validation). StatsModels is preferred in the statistics and econometrics communities, shares syntax closer to R, and generally provides more statistical information."
   ]
  },
  {
   "cell_type": "markdown",
   "metadata": {},
   "source": [
    "### 1. Land Use Regression Dataset  <a id='section1'></a>\n",
    "\n",
    "In this homework, we are going to use the Land Use Regression Dataset to do basic multiple linear regression using scikit-learn and StatsModels."
   ]
  },
  {
   "cell_type": "code",
   "execution_count": 1,
   "metadata": {},
   "outputs": [],
   "source": [
    "import pandas as pd\n",
    "import numpy as np\n",
    "import matplotlib.pyplot as plt"
   ]
  },
  {
   "cell_type": "markdown",
   "metadata": {},
   "source": [
    "To understand the basic structure of the dataset, read in the .csv file named \"BechleLUR_2006_finalmodel.csv\" as a Pandas dataframe. Print its first few rows."
   ]
  },
  {
   "cell_type": "code",
   "execution_count": 2,
   "metadata": {},
   "outputs": [
    {
     "data": {
      "text/html": [
       "<div>\n",
       "<style scoped>\n",
       "    .dataframe tbody tr th:only-of-type {\n",
       "        vertical-align: middle;\n",
       "    }\n",
       "\n",
       "    .dataframe tbody tr th {\n",
       "        vertical-align: top;\n",
       "    }\n",
       "\n",
       "    .dataframe thead th {\n",
       "        text-align: right;\n",
       "    }\n",
       "</style>\n",
       "<table border=\"1\" class=\"dataframe\">\n",
       "  <thead>\n",
       "    <tr style=\"text-align: right;\">\n",
       "      <th></th>\n",
       "      <th>Monitor_ID</th>\n",
       "      <th>Latitude</th>\n",
       "      <th>Longitude</th>\n",
       "      <th>State</th>\n",
       "      <th>Location_type</th>\n",
       "      <th>Observed_NO2_ppb</th>\n",
       "      <th>Predicted_NO2_ppb</th>\n",
       "      <th>WRF+DOMINO</th>\n",
       "      <th>800m_Impervious_%</th>\n",
       "      <th>Elevation_truncated_km</th>\n",
       "      <th>800m_MajorRoads_km</th>\n",
       "      <th>100m_MinorRoads_km</th>\n",
       "      <th>Distance_to_coast_km</th>\n",
       "    </tr>\n",
       "  </thead>\n",
       "  <tbody>\n",
       "    <tr>\n",
       "      <th>0</th>\n",
       "      <td>04-013-0019-42602-1</td>\n",
       "      <td>33.48385</td>\n",
       "      <td>-112.14257</td>\n",
       "      <td>Arizona</td>\n",
       "      <td>Suburban</td>\n",
       "      <td>23.884706</td>\n",
       "      <td>20.986643</td>\n",
       "      <td>11.615223</td>\n",
       "      <td>58.9488</td>\n",
       "      <td>0.304</td>\n",
       "      <td>1.35858</td>\n",
       "      <td>0.61637</td>\n",
       "      <td>313.0</td>\n",
       "    </tr>\n",
       "    <tr>\n",
       "      <th>1</th>\n",
       "      <td>04-013-3002-42602-6</td>\n",
       "      <td>33.45793</td>\n",
       "      <td>-112.04601</td>\n",
       "      <td>Arizona</td>\n",
       "      <td>Urban And Center City</td>\n",
       "      <td>25.089886</td>\n",
       "      <td>20.990096</td>\n",
       "      <td>11.472677</td>\n",
       "      <td>71.4093</td>\n",
       "      <td>0.304</td>\n",
       "      <td>1.55566</td>\n",
       "      <td>0.26126</td>\n",
       "      <td>323.8</td>\n",
       "    </tr>\n",
       "    <tr>\n",
       "      <th>2</th>\n",
       "      <td>04-013-3003-42602-1</td>\n",
       "      <td>33.47968</td>\n",
       "      <td>-111.91721</td>\n",
       "      <td>Arizona</td>\n",
       "      <td>Suburban</td>\n",
       "      <td>19.281969</td>\n",
       "      <td>18.088153</td>\n",
       "      <td>8.990372</td>\n",
       "      <td>53.5480</td>\n",
       "      <td>0.304</td>\n",
       "      <td>1.59508</td>\n",
       "      <td>0.39460</td>\n",
       "      <td>308.4</td>\n",
       "    </tr>\n",
       "    <tr>\n",
       "      <th>3</th>\n",
       "      <td>04-013-3010-42602-1</td>\n",
       "      <td>33.46093</td>\n",
       "      <td>-112.11748</td>\n",
       "      <td>Arizona</td>\n",
       "      <td>Suburban</td>\n",
       "      <td>30.645138</td>\n",
       "      <td>20.358009</td>\n",
       "      <td>11.919268</td>\n",
       "      <td>63.1760</td>\n",
       "      <td>0.304</td>\n",
       "      <td>2.42445</td>\n",
       "      <td>0.07244</td>\n",
       "      <td>309.0</td>\n",
       "    </tr>\n",
       "    <tr>\n",
       "      <th>4</th>\n",
       "      <td>04-013-4011-42602-1</td>\n",
       "      <td>33.37005</td>\n",
       "      <td>-112.62070</td>\n",
       "      <td>Arizona</td>\n",
       "      <td>Rural</td>\n",
       "      <td>11.070412</td>\n",
       "      <td>8.549622</td>\n",
       "      <td>2.141366</td>\n",
       "      <td>7.7453</td>\n",
       "      <td>0.293</td>\n",
       "      <td>3.18936</td>\n",
       "      <td>0.00000</td>\n",
       "      <td>269.5</td>\n",
       "    </tr>\n",
       "  </tbody>\n",
       "</table>\n",
       "</div>"
      ],
      "text/plain": [
       "            Monitor_ID  Latitude  Longitude    State          Location_type  \\\n",
       "0  04-013-0019-42602-1  33.48385 -112.14257  Arizona               Suburban   \n",
       "1  04-013-3002-42602-6  33.45793 -112.04601  Arizona  Urban And Center City   \n",
       "2  04-013-3003-42602-1  33.47968 -111.91721  Arizona               Suburban   \n",
       "3  04-013-3010-42602-1  33.46093 -112.11748  Arizona               Suburban   \n",
       "4  04-013-4011-42602-1  33.37005 -112.62070  Arizona                  Rural   \n",
       "\n",
       "   Observed_NO2_ppb  Predicted_NO2_ppb  WRF+DOMINO  800m_Impervious_%  \\\n",
       "0         23.884706          20.986643   11.615223            58.9488   \n",
       "1         25.089886          20.990096   11.472677            71.4093   \n",
       "2         19.281969          18.088153    8.990372            53.5480   \n",
       "3         30.645138          20.358009   11.919268            63.1760   \n",
       "4         11.070412           8.549622    2.141366             7.7453   \n",
       "\n",
       "   Elevation_truncated_km  800m_MajorRoads_km  100m_MinorRoads_km  \\\n",
       "0                   0.304             1.35858             0.61637   \n",
       "1                   0.304             1.55566             0.26126   \n",
       "2                   0.304             1.59508             0.39460   \n",
       "3                   0.304             2.42445             0.07244   \n",
       "4                   0.293             3.18936             0.00000   \n",
       "\n",
       "   Distance_to_coast_km  \n",
       "0                 313.0  \n",
       "1                 323.8  \n",
       "2                 308.4  \n",
       "3                 309.0  \n",
       "4                 269.5  "
      ]
     },
     "execution_count": 2,
     "metadata": {},
     "output_type": "execute_result"
    }
   ],
   "source": [
    "# Solution\n",
    "df_final = pd.read_csv(\"BechleLUR_2006_finalmodel.csv\")\n",
    "df_final.head()"
   ]
  },
  {
   "cell_type": "markdown",
   "metadata": {},
   "source": [
    "**Q1)** If our purpose of using multiple regression is to predict NO2 levels, which column is our response variable? Which columns are our predictor variables? State in words what each represents, along with their units of measurement."
   ]
  },
  {
   "cell_type": "code",
   "execution_count": 3,
   "metadata": {},
   "outputs": [],
   "source": [
    "# your answer here"
   ]
  },
  {
   "cell_type": "markdown",
   "metadata": {},
   "source": [
    "**Sample answer format:** \n",
    "- The response variable is the \"Observed_NO2_ppb\" column, the directly measured $NO_2$ levels (ppb). \n",
    "- The predictor variables are the rest of the columns.\n",
    "- WRF+DOMINO is ... measured in ... (ctrl+f in the article works well)\n",
    "- (etc.)"
   ]
  },
  {
   "cell_type": "markdown",
   "metadata": {},
   "source": [
    "### 2. Basic Multiple Regression <a id='section2'></a>\n",
    "\n",
    "There are several variables that we will not use in our regression, specifically Monitor_ID, Latitude, Longitude, State and Predicted_NO2_ppb.\n",
    "\n",
    "**Q2.1)** Assign a dataframe without those columns to a new variable called df_final_clean."
   ]
  },
  {
   "cell_type": "code",
   "execution_count": 4,
   "metadata": {},
   "outputs": [
    {
     "data": {
      "text/html": [
       "<div>\n",
       "<style scoped>\n",
       "    .dataframe tbody tr th:only-of-type {\n",
       "        vertical-align: middle;\n",
       "    }\n",
       "\n",
       "    .dataframe tbody tr th {\n",
       "        vertical-align: top;\n",
       "    }\n",
       "\n",
       "    .dataframe thead th {\n",
       "        text-align: right;\n",
       "    }\n",
       "</style>\n",
       "<table border=\"1\" class=\"dataframe\">\n",
       "  <thead>\n",
       "    <tr style=\"text-align: right;\">\n",
       "      <th></th>\n",
       "      <th>Observed_NO2_ppb</th>\n",
       "      <th>WRF+DOMINO</th>\n",
       "      <th>800m_Impervious_%</th>\n",
       "      <th>Elevation_truncated_km</th>\n",
       "      <th>800m_MajorRoads_km</th>\n",
       "      <th>100m_MinorRoads_km</th>\n",
       "      <th>Distance_to_coast_km</th>\n",
       "    </tr>\n",
       "  </thead>\n",
       "  <tbody>\n",
       "    <tr>\n",
       "      <th>0</th>\n",
       "      <td>23.884706</td>\n",
       "      <td>11.615223</td>\n",
       "      <td>58.9488</td>\n",
       "      <td>0.304</td>\n",
       "      <td>1.35858</td>\n",
       "      <td>0.61637</td>\n",
       "      <td>313.0</td>\n",
       "    </tr>\n",
       "    <tr>\n",
       "      <th>1</th>\n",
       "      <td>25.089886</td>\n",
       "      <td>11.472677</td>\n",
       "      <td>71.4093</td>\n",
       "      <td>0.304</td>\n",
       "      <td>1.55566</td>\n",
       "      <td>0.26126</td>\n",
       "      <td>323.8</td>\n",
       "    </tr>\n",
       "    <tr>\n",
       "      <th>2</th>\n",
       "      <td>19.281969</td>\n",
       "      <td>8.990372</td>\n",
       "      <td>53.5480</td>\n",
       "      <td>0.304</td>\n",
       "      <td>1.59508</td>\n",
       "      <td>0.39460</td>\n",
       "      <td>308.4</td>\n",
       "    </tr>\n",
       "    <tr>\n",
       "      <th>3</th>\n",
       "      <td>30.645138</td>\n",
       "      <td>11.919268</td>\n",
       "      <td>63.1760</td>\n",
       "      <td>0.304</td>\n",
       "      <td>2.42445</td>\n",
       "      <td>0.07244</td>\n",
       "      <td>309.0</td>\n",
       "    </tr>\n",
       "    <tr>\n",
       "      <th>4</th>\n",
       "      <td>11.070412</td>\n",
       "      <td>2.141366</td>\n",
       "      <td>7.7453</td>\n",
       "      <td>0.293</td>\n",
       "      <td>3.18936</td>\n",
       "      <td>0.00000</td>\n",
       "      <td>269.5</td>\n",
       "    </tr>\n",
       "  </tbody>\n",
       "</table>\n",
       "</div>"
      ],
      "text/plain": [
       "   Observed_NO2_ppb  WRF+DOMINO  800m_Impervious_%  Elevation_truncated_km  \\\n",
       "0         23.884706   11.615223            58.9488                   0.304   \n",
       "1         25.089886   11.472677            71.4093                   0.304   \n",
       "2         19.281969    8.990372            53.5480                   0.304   \n",
       "3         30.645138   11.919268            63.1760                   0.304   \n",
       "4         11.070412    2.141366             7.7453                   0.293   \n",
       "\n",
       "   800m_MajorRoads_km  100m_MinorRoads_km  Distance_to_coast_km  \n",
       "0             1.35858             0.61637                 313.0  \n",
       "1             1.55566             0.26126                 323.8  \n",
       "2             1.59508             0.39460                 308.4  \n",
       "3             2.42445             0.07244                 309.0  \n",
       "4             3.18936             0.00000                 269.5  "
      ]
     },
     "execution_count": 4,
     "metadata": {},
     "output_type": "execute_result"
    }
   ],
   "source": [
    "# Solution\n",
    "df_final_clean = df_final.drop([\"Latitude\", \"Longitude\", \"State\", \"Predicted_NO2_ppb\", \n",
    "                                \"Location_type\", \"Monitor_ID\"], axis=1)\n",
    "df_final_clean.head()"
   ]
  },
  {
   "cell_type": "markdown",
   "metadata": {},
   "source": [
    "**Q2.2)** We will start off with scikit-learn. In order to use scikit-learn, we need to organize our data properly.\n",
    "\n",
    "- Assign X to a dataframe that contains all relevant columns *except for* the response variable.\n",
    "- Assign Y to only the response variable column."
   ]
  },
  {
   "cell_type": "code",
   "execution_count": 5,
   "metadata": {},
   "outputs": [],
   "source": [
    "# Solution\n",
    "X = df_final_clean.drop(\"Observed_NO2_ppb\", axis=1)\n",
    "Y = df_final_clean[\"Observed_NO2_ppb\"]"
   ]
  },
  {
   "cell_type": "markdown",
   "metadata": {},
   "source": [
    "**Q2.3)** Using [scikit-learn](http://scikit-learn.org/stable/modules/generated/sklearn.linear_model.LinearRegression.html), fit X and Y to a linear model."
   ]
  },
  {
   "cell_type": "code",
   "execution_count": 6,
   "metadata": {},
   "outputs": [
    {
     "data": {
      "text/plain": [
       "LinearRegression(copy_X=True, fit_intercept=True, n_jobs=1, normalize=False)"
      ]
     },
     "execution_count": 6,
     "metadata": {},
     "output_type": "execute_result"
    }
   ],
   "source": [
    "# Solution\n",
    "from sklearn import linear_model\n",
    "sk_model = linear_model.LinearRegression()\n",
    "sk_model.fit(X, Y)"
   ]
  },
  {
   "cell_type": "markdown",
   "metadata": {},
   "source": [
    "Run the cell below to print out the model's intercepts and coefficients."
   ]
  },
  {
   "cell_type": "code",
   "execution_count": 7,
   "metadata": {},
   "outputs": [
    {
     "name": "stdout",
     "output_type": "stream",
     "text": [
      "Intercept: 2.557225014332216\n",
      "Coefficients: [ 7.20408718e-01  9.42846187e-02  1.06405415e+01  3.21020598e-01\n",
      "  2.48321581e+00 -1.19248325e-03]\n"
     ]
    }
   ],
   "source": [
    "## RUN THIS CELL - do not edit\n",
    "\n",
    "# Intercept\n",
    "print(\"Intercept:\", sk_model.intercept_)\n",
    "# Coefficients\n",
    "print(\"Coefficients:\", sk_model.coef_)"
   ]
  },
  {
   "cell_type": "markdown",
   "metadata": {},
   "source": [
    "Notice how scikit-learn is very simple to use, but is not always informative - in this case, we aren't told which columns each these coefficients corresponds to. In order to get this information, we are going to run linear regression using Stats Models."
   ]
  },
  {
   "cell_type": "markdown",
   "metadata": {},
   "source": [
    "**Q2.4)** Using [StatsModels](https://www.statsmodels.org/dev/generated/statsmodels.regression.linear_model.OLS.html), fit X and Y to a linear model, and print out the model summary."
   ]
  },
  {
   "cell_type": "code",
   "execution_count": 8,
   "metadata": {},
   "outputs": [
    {
     "name": "stdout",
     "output_type": "stream",
     "text": [
      "                            OLS Regression Results                            \n",
      "==============================================================================\n",
      "Dep. Variable:       Observed_NO2_ppb   R-squared:                       0.778\n",
      "Model:                            OLS   Adj. R-squared:                  0.775\n",
      "Method:                 Least Squares   F-statistic:                     212.0\n",
      "Date:                Thu, 11 Oct 2018   Prob (F-statistic):          3.36e-115\n",
      "Time:                        15:31:20   Log-Likelihood:                -938.93\n",
      "No. Observations:                 369   AIC:                             1892.\n",
      "Df Residuals:                     362   BIC:                             1919.\n",
      "Df Model:                           6                                         \n",
      "Covariance Type:            nonrobust                                         \n",
      "==========================================================================================\n",
      "                             coef    std err          t      P>|t|      [0.025      0.975]\n",
      "------------------------------------------------------------------------------------------\n",
      "const                      2.5572      0.419      6.106      0.000       1.734       3.381\n",
      "WRF+DOMINO                 0.7204      0.037     19.514      0.000       0.648       0.793\n",
      "800m_Impervious_%          0.0943      0.009     10.134      0.000       0.076       0.113\n",
      "Elevation_truncated_km    10.6405      1.728      6.159      0.000       7.243      14.038\n",
      "800m_MajorRoads_km         0.3210      0.085      3.776      0.000       0.154       0.488\n",
      "100m_MinorRoads_km         2.4832      1.063      2.337      0.020       0.394       4.573\n",
      "Distance_to_coast_km      -0.0012      0.000     -3.055      0.002      -0.002      -0.000\n",
      "==============================================================================\n",
      "Omnibus:                       24.616   Durbin-Watson:                   1.351\n",
      "Prob(Omnibus):                  0.000   Jarque-Bera (JB):               31.898\n",
      "Skew:                           0.533   Prob(JB):                     1.18e-07\n",
      "Kurtosis:                       3.968   Cond. No.                     7.37e+03\n",
      "==============================================================================\n",
      "\n",
      "Warnings:\n",
      "[1] Standard Errors assume that the covariance matrix of the errors is correctly specified.\n",
      "[2] The condition number is large, 7.37e+03. This might indicate that there are\n",
      "strong multicollinearity or other numerical problems.\n"
     ]
    }
   ],
   "source": [
    "# Solution\n",
    "import statsmodels.api as sm\n",
    "\n",
    "# In order to have an intercept, we need to add a column of 1's to X\n",
    "X2 = sm.add_constant(X)\n",
    "\n",
    "sm_model = sm.OLS(Y, X2)\n",
    "results = sm_model.fit()\n",
    "print(results.summary())"
   ]
  },
  {
   "cell_type": "markdown",
   "metadata": {},
   "source": [
    "This output includes much more statistical information, including the p-values of the coefficients!"
   ]
  },
  {
   "cell_type": "markdown",
   "metadata": {},
   "source": [
    "**Sample answer for coefficient corresponding to Elevation_truncated_km: For every 10.6405 km, the observed NO2 goes up by 1 ppb, so the units of the coefficient is km/ppb. We are 95% confident that the coefficient of the true regression line lies in between 7.243 and 14.038 km/ppb.**"
   ]
  },
  {
   "cell_type": "markdown",
   "metadata": {},
   "source": [
    "## 3. p-Values and p-Hacking"
   ]
  },
  {
   "cell_type": "markdown",
   "metadata": {
    "collapsed": true
   },
   "source": [
    "In the previous problem, we created a multiple regression model by using the package StatsModels. We now use StatsModels to find the p-values of our independent and our dependent variables from the previous problem:"
   ]
  },
  {
   "cell_type": "code",
   "execution_count": 9,
   "metadata": {
    "scrolled": true
   },
   "outputs": [
    {
     "data": {
      "text/plain": [
       "const                     2.634006e-09\n",
       "WRF+DOMINO                1.840009e-58\n",
       "800m_Impervious_%         2.056259e-21\n",
       "Elevation_truncated_km    1.950387e-09\n",
       "800m_MajorRoads_km        1.865722e-04\n",
       "100m_MinorRoads_km        1.998295e-02\n",
       "Distance_to_coast_km      2.417248e-03\n",
       "dtype: float64"
      ]
     },
     "execution_count": 9,
     "metadata": {},
     "output_type": "execute_result"
    }
   ],
   "source": [
    "#Run this cell\n",
    "results.pvalues"
   ]
  },
  {
   "cell_type": "markdown",
   "metadata": {},
   "source": [
    "In StatsModels, the null hypothesis is defined as there being no statistically significant relationship between the term ($x$) and our prediction ($\\hat{y}$). Rejecting the null hypothesis is dependent on the $\\alpha$ level, the minimum percentage that you're willing to accept the null (in class, this was 0.05. The other popular $\\alpha$ level is 0.01, depending on how strict you would like to make your test)."
   ]
  },
  {
   "cell_type": "markdown",
   "metadata": {},
   "source": [
    "**Q3.1)** Interpret the p-values for each of the seven variables in results. Determine whether there is a statistically significant relationship between each variable and your predicted variable. You are free to choose your own $\\alpha$ value, whatever you feel is appropriate. Fill in the ellipses below."
   ]
  },
  {
   "cell_type": "markdown",
   "metadata": {},
   "source": [
    "There answers depend on the $\\alpha$ value.\n",
    "\n",
    "$\\alpha$ = (state chosen $\\alpha$ value here)\n",
    "\n",
    "If p-value is smaller than $\\alpha$, the variable is statistically significant.\n",
    "<br> const: ...\n",
    "<br> WRF+DOMINO: ...\n",
    "<br> 800m\\_Impervious_%: ...\n",
    "<br> Elevation_truncated_km: ...\n",
    "<br> 800m_MajorRoads_km: ...\n",
    "<br> 100m_MinorRoads_km: ...\n",
    "<br> Distance_to_coast_km: ..."
   ]
  },
  {
   "cell_type": "markdown",
   "metadata": {},
   "source": [
    "Depending on your $\\alpha$ level, some variables may be statistically significant. The bias associated with choosing an $\\alpha$ for a p-value to determine significance is an example *p-hacking*. In this case, choosing a higher or lower $\\alpha$ level as a result of seeing p-values is subject to this bias (in other words, unless you have a standard go-to $\\alpha$ level *before* analyzing the p-values, you were p-hacking). It's often best practice to pick an $\\alpha$ level *before* seeing your results, to avoid this bias.\n",
    "\n",
    "\n",
    "In creating `results`, we added an extra column of ones in order to fit our model properly. Let's dig a little deeper with the `const` column."
   ]
  },
  {
   "cell_type": "markdown",
   "metadata": {},
   "source": [
    "**Q3.2)** What does a column of ones represent in terms of the data? Are the ones truely in your data? What does it mean for a column of ones to be statistically significant with your prediction? \n",
    "\n",
    "Note: This question is suppose to make you think about the items you're testing for significance. Even though `const` has a very low p-value with your prediction, is there anything meaningful between a column of ones and your prediction?"
   ]
  },
  {
   "cell_type": "markdown",
   "metadata": {},
   "source": [
    "**answer**: \n",
    "- represents the intercept\n",
    "- ones are not 'truly' in the data\n",
    "- a statistically significant 'const' estimates a non-zero intercept when all other independent variables are (theoretically) set to zero.\n",
    "\n",
    "Helpful explanation [here](https://blog.minitab.com/blog/adventures-in-statistics-2/regression-analysis-how-to-interpret-the-constant-y-intercept) (Thanks, Yiyi!)"
   ]
  },
  {
   "cell_type": "markdown",
   "metadata": {},
   "source": [
    "## 4. The Akaike Information Criterion and Model Selection"
   ]
  },
  {
   "cell_type": "markdown",
   "metadata": {},
   "source": [
    "Model selection can be thought of the process of choosing a subset of variables, but in order to do so, we first need a benchmark to compare two models. And given the benchmark, we also need a search strategy. With a limited number a predictors, we are able to search all possible models. An easy way to assess a model is using the Aikake Information Criterion ($\\text{AIC}$).\n",
    "\n",
    "The $\\text{AIC}$ assess the ***quality*** of a model given a set of data. Depending on the data that we use in our model, in this case, the features we add, AIC may be used to tell us how our model performs with the data given. Sometimes adding more data (features) improves the quality, sometimes it doesn't. Other times adding the right features may improve the quality.\n",
    "\n",
    "$\\text{AIC}$ is important because we can use it as a form of model selection. **Our goal is to find a model that has the highest *quality* given a list of models.** The higher the quality, the better our model performs and the more desirable it is. Your job in this section is to add features to *final_model* from *allmodelbulidingdata* and assess whether adding specific features improves the model or not. This may seem daunting, but we'll guide you in this process."
   ]
  },
  {
   "cell_type": "markdown",
   "metadata": {},
   "source": [
    "Now that you have some information about what AIC is doing and why it's important, we define $\\text{AIC}$ as the following:\n",
    "\n",
    "$\\text{AIC} = 2 \\times (\\text{number of features}) - 2 \\times \\log(\\text{maximum value of likelihood function})$\n",
    "\n",
    "where $\\log$ is $\\ln$.  The smaller $\\text{AIC}$ is, the greater the model performs. A likelihood function is a statistical topic that we won't go into, but we'll provide the code on how to implement it.\n",
    "\n",
    "(*A side note about AIC given in lecture*: The function for AIC given in lecture (and the ISLR textbook) is $(\\text{RSS} + 2d\\hat{\\sigma}^2)/(n\\hat{\\sigma}^2)$.  This formula gives an intuitive sense for what makes AIC high or low, but it's not so easy to compute.  That's because $\\hat{\\sigma}^2$ is an estimate of the variance of the true model error, which as you can imagine is problematic to compute when the true model is unknown.  There are ways to estimate $\\hat{\\sigma}$, but using the log-likelihood formula above is easier, so we use it here.)"
   ]
  },
  {
   "cell_type": "code",
   "execution_count": 12,
   "metadata": {},
   "outputs": [],
   "source": [
    "df_all = pd.read_csv('BechleLUR_2006_allmodelbuildingdata.csv')"
   ]
  },
  {
   "cell_type": "markdown",
   "metadata": {},
   "source": [
    "**Q4.1)** Fill in the code below to complete the AIC formula using the log likelihood.  `statsmodels` returns log likelihood from the fitted model using the right syntax.  Note that `statsmodels` also returns AIC directly, but we'd like you to do at least *a little* work to compute AIC here!"
   ]
  },
  {
   "cell_type": "code",
   "execution_count": 13,
   "metadata": {},
   "outputs": [],
   "source": [
    "#Solution\n",
    "def computeAIC(fit_model, k):\n",
    "    \n",
    "    llf = fit_model.llf\n",
    "   \n",
    "    AIC = 2 * k  - 2 * llf \n",
    "    return AIC"
   ]
  },
  {
   "cell_type": "markdown",
   "metadata": {},
   "source": [
    "Now that we defined our AIC function, we can now test a new model to see if it's better than the final model. Let's start by assessing the AIC of the final model. This way, we will have a baseline to compare different models to the final one.\n",
    "\n",
    "**Q4.2)** Use the function that we defined in the previous question to compute the AIC of the final model in part 2 of the homework."
   ]
  },
  {
   "cell_type": "code",
   "execution_count": 16,
   "metadata": {},
   "outputs": [
    {
     "data": {
      "text/plain": [
       "1891.8609796174792"
      ]
     },
     "execution_count": 16,
     "metadata": {},
     "output_type": "execute_result"
    }
   ],
   "source": [
    "#SOLUTION\n",
    "computeAIC(results, 7)\n",
    "\n",
    "#check that this is equal to the AIC calculated via statsmodel above\n",
    "#note that k is the number of all estimated parameters, so that includes the intercept (column of ones)"
   ]
  },
  {
   "cell_type": "markdown",
   "metadata": {},
   "source": [
    "As stated earlier, the lower the AIC the better. Let's choose our own features and see if we can create a model that has a comparable AIC; we can start off choosing a few features and see what we get.\n",
    "\n",
    "\n",
    "**Q4.3)** Choose the features `Population_800`, `Major_1200`, `Impervious_2500`, `Major_400`, and choose two more of your choice! Then, fit this model and calculate the AIC."
   ]
  },
  {
   "cell_type": "code",
   "execution_count": 19,
   "metadata": {},
   "outputs": [
    {
     "data": {
      "text/plain": [
       "2091.7873775636544"
      ]
     },
     "execution_count": 19,
     "metadata": {},
     "output_type": "execute_result"
    }
   ],
   "source": [
    "#Example Solution\n",
    "X_2 = df_all[['Population_800', 'Major_1200', 'Impervious_2500', 'Major_400', 'total_13500', 'Resident_3500']]\n",
    "\n",
    "X_2const = sm.add_constant(X_2)\n",
    "\n",
    "sm_model_2 = sm.OLS(Y, X_2const)\n",
    "results_2 = sm_model_2.fit()\n",
    "\n",
    "computeAIC(results_2, X_2const.shape[1])"
   ]
  },
  {
   "cell_type": "markdown",
   "metadata": {},
   "source": [
    "This model isn't too bad compared to the AIC of our first model. Lets compute one with fewer features.\n",
    "\n",
    "**Q4.4)** From the previous model, keep only `Population_800`, `Major_400`, and `Major_1200` and calculate the AIC. "
   ]
  },
  {
   "cell_type": "code",
   "execution_count": 23,
   "metadata": {},
   "outputs": [
    {
     "data": {
      "text/plain": [
       "2227.064157496991"
      ]
     },
     "execution_count": 23,
     "metadata": {},
     "output_type": "execute_result"
    }
   ],
   "source": [
    "#SOLUTION\n",
    "X_3 = df_all[['Population_800', 'Major_400', 'Major_1200']]\n",
    "\n",
    "X_3const = sm.add_constant(X_3)\n",
    "Y = df_all[['Observed_NO2_ppb']]\n",
    "\n",
    "sm_model_3 = sm.OLS(Y, X_3const)\n",
    "results_3 = sm_model_3.fit()\n",
    "\n",
    "computeAIC(results_3, X_3const.shape[1])"
   ]
  },
  {
   "cell_type": "markdown",
   "metadata": {},
   "source": [
    "We've created two models and can compare the AIC with the model from the paper. The following question asks about certain drawbacks of deliberate feature selection.\n",
    "\n",
    "**Q4.5)** What would happen if we choose too few features? How about too many? What are some problems that can arise by deliberate choosing specific features to minimize the AIC, and in general when generating a model?"
   ]
  },
  {
   "cell_type": "markdown",
   "metadata": {},
   "source": [
    "- low k = high AIC value, penalized by llf\n",
    "- high k = also high-ish AIC value, penalized by k\n",
    "\n",
    "Some relevant stackexchange posts [here](https://stats.stackexchange.com/questions/81427/aic-guidelines-in-model-selection) and [here](https://stats.stackexchange.com/questions/78949/when-is-it-appropriate-to-select-models-by-minimising-the-aic) on the validity of using AIC for model selection."
   ]
  },
  {
   "cell_type": "markdown",
   "metadata": {},
   "source": [
    "**Q4.6)**: This one's open-ended.  Do what you need to in order to make a plot that shows how AIC varies with the number of independent variables you include in the model.  The plot should have number of variables, $k$, on the x-axis and AIC on the y-axis.  You can use any method you wish to select the variables for each $k$, but explain what you did.  "
   ]
  },
  {
   "cell_type": "code",
   "execution_count": 31,
   "metadata": {},
   "outputs": [],
   "source": [
    "### Possible solution.  \n",
    "num_features = []\n",
    "model_aic = []\n",
    "indx = np.random.randint(6,df_all.shape[1], size = 6)\n",
    "for i in range(6, df_all.shape[1]):\n",
    "    indx = np.append(indx, np.random.randint(6,df_all.shape[1]))\n",
    "    X = df_all.iloc[:, indx]\n",
    "    Xconst = sm.add_constant(X)\n",
    "    sm_model = sm.OLS(Y, Xconst)\n",
    "    results = sm_model.fit()\n",
    "    aic = results.aic\n",
    "#    aic = computeAIC(results, X.shape[1]+1)\n",
    "    num_features.append(i-5)\n",
    "    model_aic.append(aic)"
   ]
  },
  {
   "cell_type": "markdown",
   "metadata": {},
   "source": [
    "In the code above, we choose variables at random.  An alternative approach could be to just choose in order of appearance in the data frame.  For example, the first model would be built with variables 1."
   ]
  },
  {
   "cell_type": "code",
   "execution_count": 32,
   "metadata": {
    "scrolled": false
   },
   "outputs": [
    {
     "data": {
      "text/plain": [
       "[<matplotlib.lines.Line2D at 0x20b63bbf3c8>]"
      ]
     },
     "execution_count": 32,
     "metadata": {},
     "output_type": "execute_result"
    },
    {
     "data": {
      "image/png": "[encoded data removed]",
      "text/plain": [
       "<Figure size 432x288 with 1 Axes>"
      ]
     },
     "metadata": {},
     "output_type": "display_data"
    }
   ],
   "source": [
    "model_aic_vals = pd.DataFrame({'features':num_features, 'aic':model_aic})\n",
    "plt.plot(model_aic_vals['features'].values, model_aic_vals['aic'].values)"
   ]
  },
  {
   "cell_type": "markdown",
   "metadata": {},
   "source": [
    "---\n",
    "\n",
    "## Bibliography"
   ]
  },
  {
   "cell_type": "markdown",
   "metadata": {},
   "source": [
    "- Rowan Langford - \"Stats Models vs SKLearn for Linear Regression\". https://becominghuman.ai/stats-models-vs-sklearn-for-linear-regression-f19df95ad99b\n",
    "- Sean Boland - \"\n",
    "Scikit-learn vs. StatsModels: Which, why, and how?\" - https://blog.thedataincubator.com/2017/11/scikit-learn-vs-statsmodels/\n",
    "- Scikit-learn Documentation - \"Linear Regression\" - http://scikit-\n",
    "learn.org/stable/modules/generated/sklearn.linear_model.LinearRegression.html\n",
    "- StatsModels Documentation - \"OLS\" - https://www.statsmodels.org/dev/generated/statsmodels.regression.linear_model.OLS.html"
   ]
  },
  {
   "cell_type": "markdown",
   "metadata": {},
   "source": [
    "---\n",
    "Notebook developed by: Kevin Marroquin, Rebekah Tang, Alex McMurry, Joshua Asuncion\n",
    "\n",
    "Data Science Modules: http://data.berkeley.edu/education/modules\n"
   ]
  }
 ],
 "metadata": {
  "kernelspec": {
   "display_name": "Python 3",
   "language": "python",
   "name": "python3"
  },
  "language_info": {
   "codemirror_mode": {
    "name": "ipython",
    "version": 3
   },
   "file_extension": ".py",
   "mimetype": "text/x-python",
   "name": "python",
   "nbconvert_exporter": "python",
   "pygments_lexer": "ipython3",
   "version": "3.6.5"
  }
 },
 "nbformat": 4,
 "nbformat_minor": 2
}
