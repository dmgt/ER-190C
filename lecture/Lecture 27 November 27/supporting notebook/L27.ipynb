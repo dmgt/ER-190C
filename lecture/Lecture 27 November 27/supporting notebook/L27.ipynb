{
 "cells": [
  {
   "cell_type": "markdown",
   "metadata": {},
   "source": [
    "## Lecture 27 Notebook: SVM and Parameter Tuning\n",
    "Duncan Callaway\n",
    "November 27 2018"
   ]
  },
  {
   "cell_type": "code",
   "execution_count": 37,
   "metadata": {},
   "outputs": [],
   "source": [
    "import pandas as pd\n",
    "import numpy as np\n",
    "from matplotlib import pyplot as plt"
   ]
  },
  {
   "cell_type": "code",
   "execution_count": 2,
   "metadata": {},
   "outputs": [],
   "source": [
    "pd.options.display.max_columns = 100"
   ]
  },
  {
   "cell_type": "markdown",
   "metadata": {},
   "source": [
    "Let's import the environmental and demographic datasets from CES:"
   ]
  },
  {
   "cell_type": "code",
   "execution_count": 3,
   "metadata": {},
   "outputs": [
    {
     "name": "stdout",
     "output_type": "stream",
     "text": [
      "Enviro cols are  Index(['Census Tract', 'Total Population', 'California County', 'ZIP',\n",
      "       'Nearby City \\n(to help approximate location only)', 'Longitude',\n",
      "       'Latitude', 'CES 3.0 Score', ' CES 3.0 Percentile',\n",
      "       'CES 3.0 \\nPercentile Range', 'SB 535 Disadvantaged Community', 'Ozone',\n",
      "       'Ozone Pctl', 'PM2.5', 'PM2.5 Pctl', 'Diesel PM', 'Diesel PM Pctl',\n",
      "       'Drinking Water', 'Drinking Water Pctl', 'Pesticides',\n",
      "       'Pesticides Pctl', 'Tox. Release', 'Tox. Release Pctl', 'Traffic',\n",
      "       'Traffic Pctl', 'Cleanup Sites', 'Cleanup Sites Pctl',\n",
      "       'Groundwater Threats', 'Groundwater Threats Pctl', 'Haz. Waste',\n",
      "       'Haz. Waste Pctl', 'Imp. Water Bodies', 'Imp. Water Bodies Pctl',\n",
      "       'Solid Waste', 'Solid Waste Pctl', 'Pollution Burden',\n",
      "       'Pollution Burden Score', 'Pollution Burden Pctl', 'Asthma',\n",
      "       'Asthma Pctl', 'Low Birth Weight', 'Low Birth Weight Pctl',\n",
      "       'Cardiovascular Disease', 'Cardiovascular Disease Pctl', 'Education',\n",
      "       'Education Pctl', 'Linguistic Isolation', 'Linguistic Isolation Pctl',\n",
      "       'Poverty', 'Poverty Pctl', 'Unemployment', 'Unemployment Pctl',\n",
      "       'Housing Burden', 'Housing Burden Pctl', 'Pop. Char. ',\n",
      "       'Pop. Char. Score', 'Pop. Char. Pctl'],\n",
      "      dtype='object')\n",
      "Demographics cols are  Index(['Census Tract ', ' CES 3.0 Score', 'CES 3.0 Percentile',\n",
      "       ' CES 3.0 \\nPercentile Range', 'Total Population',\n",
      "       'California \\nCounty', 'Children < 10 (%)', 'Pop 11-64 years (%)',\n",
      "       'Elderly > 65 (%)', 'Hispanic (%)', 'White (%)', 'African American (%)',\n",
      "       'Native American (%)', 'Asian American (%)', 'Other (%)'],\n",
      "      dtype='object')\n"
     ]
    }
   ],
   "source": [
    "env = pd.read_csv('ces3results_environment.csv')\n",
    "demog = pd.read_csv('ces3results_demographics.csv')\n",
    "\n",
    "print('Enviro cols are ', env.columns)\n",
    "print('Demographics cols are ',demog.columns)"
   ]
  },
  {
   "cell_type": "markdown",
   "metadata": {},
   "source": [
    "Now merge them..."
   ]
  },
  {
   "cell_type": "code",
   "execution_count": 4,
   "metadata": {},
   "outputs": [],
   "source": [
    "all = env.merge(demog, left_on='Census Tract', right_on='Census Tract ')"
   ]
  },
  {
   "cell_type": "code",
   "execution_count": 5,
   "metadata": {},
   "outputs": [
    {
     "data": {
      "text/plain": [
       "(8035, 72)"
      ]
     },
     "execution_count": 5,
     "metadata": {},
     "output_type": "execute_result"
    }
   ],
   "source": [
    "all.head()\n",
    "all.shape"
   ]
  },
  {
   "cell_type": "code",
   "execution_count": 6,
   "metadata": {},
   "outputs": [
    {
     "data": {
      "text/plain": [
       "0.4370877411325451"
      ]
     },
     "execution_count": 6,
     "metadata": {},
     "output_type": "execute_result"
    }
   ],
   "source": [
    "np.mean(all.loc[:,'Imp. Water Bodies']==0)"
   ]
  },
  {
   "cell_type": "code",
   "execution_count": 7,
   "metadata": {
    "collapsed": true
   },
   "outputs": [],
   "source": [
    "all = all.dropna()"
   ]
  },
  {
   "cell_type": "code",
   "execution_count": 8,
   "metadata": {
    "collapsed": true
   },
   "outputs": [
    {
     "data": {
      "text/plain": [
       "Index(['Asthma', 'Asthma Pctl', 'Low Birth Weight', 'Low Birth Weight Pctl',\n",
       "       'Cardiovascular Disease', 'Cardiovascular Disease Pctl', 'Education',\n",
       "       'Education Pctl', 'Linguistic Isolation', 'Linguistic Isolation Pctl',\n",
       "       'Poverty', 'Poverty Pctl', 'Unemployment', 'Unemployment Pctl',\n",
       "       'Housing Burden', 'Housing Burden Pctl', 'Pop. Char. ',\n",
       "       'Pop. Char. Score', 'Pop. Char. Pctl', 'Total Population_y',\n",
       "       'Children < 10 (%)', 'Pop 11-64 years (%)', 'Elderly > 65 (%)',\n",
       "       'Hispanic (%)', 'White (%)', 'African American (%)',\n",
       "       'Native American (%)', 'Asian American (%)', 'Other (%)'],\n",
       "      dtype='object')"
      ]
     },
     "execution_count": 8,
     "metadata": {},
     "output_type": "execute_result"
    }
   ],
   "source": [
    "X = all.loc[:,'Asthma':]\n",
    "X = X.drop(['Census Tract ', ' CES 3.0 Score', 'CES 3.0 Percentile', ' CES 3.0 \\nPercentile Range', 'California \\nCounty'], axis = 1);\n",
    "X.columns"
   ]
  },
  {
   "cell_type": "code",
   "execution_count": 9,
   "metadata": {},
   "outputs": [],
   "source": [
    "y = all[['Solid Waste', 'Imp. Water Bodies']] \n",
    "y_waste = y[['Solid Waste']]\n",
    "y_water = y[['Imp. Water Bodies']]!=0 "
   ]
  },
  {
   "cell_type": "markdown",
   "metadata": {},
   "source": [
    "## Predicting whether water bodies are contaminated\n",
    "\n",
    "In this section we'll run an SVM -- checking different parameter options by cross validation -- to predict whether or not water bodies near each community are contaminated on the basis of their socio-economic metrics. "
   ]
  },
  {
   "cell_type": "code",
   "execution_count": 10,
   "metadata": {},
   "outputs": [],
   "source": [
    "from sklearn.model_selection import train_test_split"
   ]
  },
  {
   "cell_type": "code",
   "execution_count": 13,
   "metadata": {},
   "outputs": [],
   "source": [
    "X_train, X_test, y_train, y_test = train_test_split(X, y_water, test_size = 0.995)  "
   ]
  },
  {
   "cell_type": "code",
   "execution_count": 14,
   "metadata": {},
   "outputs": [],
   "source": [
    "from sklearn.svm import SVC\n",
    "from sklearn.model_selection import RandomizedSearchCV\n",
    "from scipy.stats import randint"
   ]
  },
  {
   "cell_type": "code",
   "execution_count": 15,
   "metadata": {},
   "outputs": [
    {
     "name": "stdout",
     "output_type": "stream",
     "text": [
      "0.6756756756756757\n",
      "{'C': 53, 'kernel': 'poly'}\n"
     ]
    }
   ],
   "source": [
    "SV_model = SVC()\n",
    "param_dist = {'C': randint(1, 100),\n",
    "                'kernel': ['linear', 'poly', 'rbf']\n",
    "             }\n",
    "rnd_search = RandomizedSearchCV(SV_model, param_distributions=param_dist, \n",
    "                                cv=3, n_iter=4, n_jobs=4)\n",
    "\n",
    "rnd_search.fit(X_train, y_train['Imp. Water Bodies'])\n",
    "\n",
    "print(rnd_search.best_score_)\n",
    "print(rnd_search.best_params_)"
   ]
  },
  {
   "cell_type": "code",
   "execution_count": 16,
   "metadata": {},
   "outputs": [
    {
     "name": "stdout",
     "output_type": "stream",
     "text": [
      "Train Score:  1.0\n",
      "Test Score:  0.5397606382978724\n"
     ]
    }
   ],
   "source": [
    "tuned_train_score = rnd_search.score(X_train, y_train)\n",
    "tuned_test_score = rnd_search.score(X_test, y_test)\n",
    "\n",
    "print('Train Score: ', tuned_train_score)\n",
    "print('Test Score: ', tuned_test_score)"
   ]
  },
  {
   "cell_type": "code",
   "execution_count": 17,
   "metadata": {},
   "outputs": [],
   "source": [
    "from sklearn.metrics import confusion_matrix"
   ]
  },
  {
   "cell_type": "code",
   "execution_count": 18,
   "metadata": {},
   "outputs": [
    {
     "data": {
      "text/plain": [
       "array([[1482, 1832],\n",
       "       [1629, 2577]])"
      ]
     },
     "execution_count": 18,
     "metadata": {},
     "output_type": "execute_result"
    }
   ],
   "source": [
    "y_pred = rnd_search.predict(X_test)\n",
    "confusion_matrix(y_test, y_pred)"
   ]
  },
  {
   "cell_type": "markdown",
   "metadata": {},
   "source": [
    "## Let's different classifiers"
   ]
  },
  {
   "cell_type": "markdown",
   "metadata": {},
   "source": [
    "### KNN"
   ]
  },
  {
   "cell_type": "code",
   "execution_count": 19,
   "metadata": {},
   "outputs": [],
   "source": [
    "from sklearn.neighbors import KNeighborsClassifier as KNC"
   ]
  },
  {
   "cell_type": "code",
   "execution_count": 30,
   "metadata": {},
   "outputs": [],
   "source": [
    "X_train, X_test, y_train, y_test = train_test_split(X, y_water, test_size = 0.9)  "
   ]
  },
  {
   "cell_type": "code",
   "execution_count": 31,
   "metadata": {},
   "outputs": [
    {
     "name": "stdout",
     "output_type": "stream",
     "text": [
      "Train Score:  0.7006622516556291\n",
      "Test Score:  0.562040576301088\n"
     ]
    },
    {
     "data": {
      "text/plain": [
       "array([[1120, 1887],\n",
       "       [1092, 2703]])"
      ]
     },
     "execution_count": 31,
     "metadata": {},
     "output_type": "execute_result"
    }
   ],
   "source": [
    "KNC_model = KNC()\n",
    "KNC_model.fit(X_train, y_train['Imp. Water Bodies'])\n",
    "KNC_train_score = KNC_model.score(X_train, y_train)\n",
    "KNC_test_score = KNC_model.score(X_test, y_test)\n",
    "\n",
    "print('Train Score: ', KNC_train_score)\n",
    "print('Test Score: ', KNC_test_score)\n",
    "\n",
    "y_pred = KNC_model.predict(X_test)\n",
    "confusion_matrix(y_test, y_pred)"
   ]
  },
  {
   "cell_type": "code",
   "execution_count": 32,
   "metadata": {},
   "outputs": [
    {
     "name": "stdout",
     "output_type": "stream",
     "text": [
      "0.5403973509933775\n",
      "{'n_neighbors': 17}\n"
     ]
    }
   ],
   "source": [
    "KNC_model = KNC()\n",
    "param_dist = {'n_neighbors': randint(1, 20)\n",
    "             }\n",
    "\n",
    "KNC_search = RandomizedSearchCV(KNC_model, param_distributions=param_dist, \n",
    "                                cv=3, n_iter=100, n_jobs=4)\n",
    "\n",
    "KNC_search.fit(X_train, y_train['Imp. Water Bodies'])\n",
    "\n",
    "print(KNC_search.best_score_)\n",
    "print(KNC_search.best_params_)"
   ]
  },
  {
   "cell_type": "code",
   "execution_count": 33,
   "metadata": {},
   "outputs": [
    {
     "name": "stdout",
     "output_type": "stream",
     "text": [
      "Train Score:  0.6384105960264901\n",
      "Test Score:  0.5549838282857983\n"
     ]
    },
    {
     "data": {
      "text/plain": [
       "array([[ 819, 2188],\n",
       "       [ 839, 2956]])"
      ]
     },
     "execution_count": 33,
     "metadata": {},
     "output_type": "execute_result"
    }
   ],
   "source": [
    "KNC_train_score = KNC_search.score(X_train, y_train)\n",
    "KNC_test_score = KNC_search.score(X_test, y_test)\n",
    "\n",
    "print('Train Score: ', KNC_train_score)\n",
    "print('Test Score: ', KNC_test_score)\n",
    "\n",
    "y_pred = KNC_search.predict(X_test)\n",
    "confusion_matrix(y_test, y_pred)"
   ]
  },
  {
   "cell_type": "markdown",
   "metadata": {},
   "source": [
    "### Random forest"
   ]
  },
  {
   "cell_type": "code",
   "execution_count": 34,
   "metadata": {},
   "outputs": [],
   "source": [
    "from sklearn.ensemble import RandomForestClassifier as RFC"
   ]
  },
  {
   "cell_type": "code",
   "execution_count": 35,
   "metadata": {},
   "outputs": [
    {
     "data": {
      "text/plain": [
       "RandomForestClassifier(bootstrap=True, class_weight=None, criterion='gini',\n",
       "            max_depth=None, max_features='auto', max_leaf_nodes=None,\n",
       "            min_impurity_decrease=0.0, min_impurity_split=None,\n",
       "            min_samples_leaf=1, min_samples_split=2,\n",
       "            min_weight_fraction_leaf=0.0, n_estimators=100, n_jobs=1,\n",
       "            oob_score=False, random_state=None, verbose=0,\n",
       "            warm_start=False)"
      ]
     },
     "execution_count": 35,
     "metadata": {},
     "output_type": "execute_result"
    }
   ],
   "source": [
    "RFC_model = RFC(n_estimators = 100, criterion = 'gini')\n",
    "\n",
    "RFC_model.fit(X_train, y_train['Imp. Water Bodies'])"
   ]
  },
  {
   "cell_type": "code",
   "execution_count": 36,
   "metadata": {},
   "outputs": [
    {
     "name": "stdout",
     "output_type": "stream",
     "text": [
      "Train Score:  1.0\n",
      "Test Score:  0.6240811526021758\n"
     ]
    },
    {
     "data": {
      "text/plain": [
       "array([[1383, 1624],\n",
       "       [ 933, 2862]])"
      ]
     },
     "execution_count": 36,
     "metadata": {},
     "output_type": "execute_result"
    }
   ],
   "source": [
    "RFC_train_score = RFC_model.score(X_train, y_train)\n",
    "RFC_test_score = RFC_model.score(X_test, y_test)\n",
    "\n",
    "print('Train Score: ', RFC_train_score)\n",
    "print('Test Score: ', RFC_test_score)\n",
    "\n",
    "y_pred = RFC_model.predict(X_test)\n",
    "confusion_matrix(y_test, y_pred)"
   ]
  },
  {
   "cell_type": "code",
   "execution_count": null,
   "metadata": {},
   "outputs": [],
   "source": []
  }
 ],
 "metadata": {
  "kernelspec": {
   "display_name": "Python 3",
   "language": "python",
   "name": "python3"
  },
  "language_info": {
   "codemirror_mode": {
    "name": "ipython",
    "version": 3
   },
   "file_extension": ".py",
   "mimetype": "text/x-python",
   "name": "python",
   "nbconvert_exporter": "python",
   "pygments_lexer": "ipython3",
   "version": "3.6.4"
  }
 },
 "nbformat": 4,
 "nbformat_minor": 2
}
