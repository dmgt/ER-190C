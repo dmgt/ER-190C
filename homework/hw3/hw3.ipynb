{
 "cells": [
  {
   "cell_type": "markdown",
   "metadata": {},
   "source": [
    "# [ERG-190C] Homework 3: EDA Energy Access \n",
    "<br>\n",
    "\n",
    "### Table of Contents\n",
    "[Introduction](#intro)<br>\n",
    "1 - [The Data](#data)<br>\n",
    "2 - [Classifying Countries](#classify)<br>\n",
    "3 - [Computing HDI](#compute)<br>\n",
    "4 - [Country Rankings](#rank)<br>\n",
    "\n",
    "### Introduction <a id='intro'></a>\n",
    "\n",
    "In this homework, you will investigate the Human Development Index (HDI) and its components. The main goal for this assignment is to understand how various factors such as GNI per capita, life expectancy, and education affect HDI. \n",
    "\n",
    "We will accomplish this by analyzing World Bank data and utilizing exploratory data analysis (EDA). To give you a sense of how we think about each discovery we make and what next steps it leads to we will provide comments and insights along the way.\n",
    "\n",
    "### Topics Covered \n",
    "\n",
    "* Work with different file types\n",
    "* Merge dataframes and perform operations to add new columns\n",
    "* View data through lens of structure, granularity, scope, temporality and faithfulness\n",
    "* Understand how HDI is constructed\n",
    "* Perform basic data cleaning operations with errors we deliberately introduce into the dataset.\n",
    "\n",
    "**Dependencies:**"
   ]
  },
  {
   "cell_type": "code",
   "execution_count": null,
   "metadata": {},
   "outputs": [],
   "source": [
    "# Run this cell to set up your notebook.  Make sure utils.py is in this assignment's folder\n",
    "import csv\n",
    "import numpy as np\n",
    "import pandas as pd\n",
    "import matplotlib.pyplot as plt\n",
    "from pathlib import Path\n",
    "import warnings\n",
    "warnings.filterwarnings('ignore')\n",
    "plt.style.use('fivethirtyeight')\n",
    "\n",
    "from IPython.display import display, Latex, Markdown"
   ]
  },
  {
   "cell_type": "markdown",
   "metadata": {},
   "source": [
    "----\n",
    "## Section 1: The Data<a id='data'></a>\n",
    "\n",
    "In this notebook, you'll be working with data from the World Bank on GNI per capita, life expectancy, and education for different countries and regions around the world. Feel free to visit the links below to play around with the visualizations on the World Bank website as well: <br>\n",
    "A. GNI per capita data: https://data.worldbank.org/indicator/NY.GNP.PCAP.PP.CD <br>\n",
    "B. Life expectancy data: https://data.worldbank.org/indicator/sp.dyn.le00.in. <br>\n",
    "C. Education data: expected years of schooling: http://hdr.undp.org/en/indicators/69706, mean years of schooling: http://hdr.undp.org/en/indicators/103006\n",
    "\n",
    "<br>**Question 1.1:** Look through the `data` folder and then load the csv or tsv files into the homework so we can easily work with the data. The first example has been done for you."
   ]
  },
  {
   "cell_type": "markdown",
   "metadata": {},
   "source": [
    "Load the GNI metadata .csv into a dataframe."
   ]
  },
  {
   "cell_type": "code",
   "execution_count": null,
   "metadata": {},
   "outputs": [],
   "source": [
    "#Due to World Bank's data layout we have to download an table on GNI info of different countries and GNI yearly data\n",
    "#GNI information and income groups\n",
    "gni_info = pd.read_csv(\"data/GNI_country_metadata.csv\")\n",
    "gni_info.head()"
   ]
  },
  {
   "cell_type": "markdown",
   "metadata": {},
   "source": [
    "Load the GNI per capita (PPP) .csv into a dataframe."
   ]
  },
  {
   "cell_type": "code",
   "execution_count": null,
   "metadata": {},
   "outputs": [],
   "source": [
    "#GNI per capita, PPP (current international $)\n",
    "gni_num = ...\n",
    "gni_num.head()"
   ]
  },
  {
   "cell_type": "markdown",
   "metadata": {},
   "source": [
    "Let's merge the GNI metadata dataframe with the GNI PPP dataframe."
   ]
  },
  {
   "cell_type": "code",
   "execution_count": null,
   "metadata": {},
   "outputs": [],
   "source": [
    "#Run this cell\n",
    "#Merging GNI description data with GNI PPP data\n",
    "#GNI per capita, PPP (current international $)\n",
    "gni_all = gni_num.merge(gni_info[['Country Code', 'Region', 'Income Group']], on='Country Code')\n",
    "gni_all.head()"
   ]
  },
  {
   "cell_type": "markdown",
   "metadata": {},
   "source": [
    "----------"
   ]
  },
  {
   "cell_type": "markdown",
   "metadata": {},
   "source": [
    "Next, load the .csv files containing information on life expectancy, expected years of schooling, and mean years of schooling. When drawing information from different datasets, it's good practice to have an understanding of how complete your datasets are. Print the number of unique country names included in each dataframe. "
   ]
  },
  {
   "cell_type": "code",
   "execution_count": null,
   "metadata": {},
   "outputs": [],
   "source": [
    "# Life expectancy at birth for both sexes combined (years)\n",
    "life = ...\n",
    "life.head()"
   ]
  },
  {
   "cell_type": "code",
   "execution_count": null,
   "metadata": {},
   "outputs": [],
   "source": [
    "# Expected years of schooling (years)\n",
    "expected_edu = ...\n",
    "expected_edu.head()"
   ]
  },
  {
   "cell_type": "code",
   "execution_count": null,
   "metadata": {},
   "outputs": [],
   "source": [
    "# Mean years of schooling (years)\n",
    "mean_edu = ...\n",
    "mean_edu.head()"
   ]
  },
  {
   "cell_type": "markdown",
   "metadata": {},
   "source": [
    "What do you notice?"
   ]
  },
  {
   "cell_type": "code",
   "execution_count": null,
   "metadata": {},
   "outputs": [],
   "source": [
    "# your answer here"
   ]
  },
  {
   "cell_type": "markdown",
   "metadata": {},
   "source": [
    "**Question 1.2:** \n",
    "Analyze the loaded tables and see what data types are within the table. \n",
    "<br>Then for each of the tables answer, what is the:\n",
    "1. structure of the data?<br>\n",
    "2. granularity of the data?<br>\n",
    "3. scope of the data?<br>\n",
    "4. temporality of the data?<br>\n",
    "5. faithfulness of the data?<br>\n",
    "\n",
    "Reminder:\n",
    "* Scope - Are all countries included? Within each country can you find information about whether data are derived from a census, random sample, or other? \n",
    "* Faithfulness - Where do the data come from? Is there any reason to question it? \n",
    "* Granularity - What level of detail is the data? Is the data high granularity or low granularity (e.g. hourly data vs. yearly data)?"
   ]
  },
  {
   "cell_type": "markdown",
   "metadata": {},
   "source": [
    "Answers:\n",
    "\n",
    "1) PPP\n",
    "\n",
    "[<i>fill out here</i>]\n",
    "\n",
    "2) Life expectancy at birth\n",
    "\n",
    "[<i>fill out here</i>]\n",
    "\n",
    "3) Expected years of schooling\n",
    "\n",
    "[<i>fill out here</i>]\n",
    "\n",
    "4) Mean years of schooling\n",
    "\n",
    "[<i>fill out here</i>]"
   ]
  },
  {
   "cell_type": "markdown",
   "metadata": {},
   "source": [
    "**Question 1.3:** How many regions are in the GNI info table?"
   ]
  },
  {
   "cell_type": "code",
   "execution_count": null,
   "metadata": {},
   "outputs": [],
   "source": [
    "count_regions = ..."
   ]
  },
  {
   "cell_type": "markdown",
   "metadata": {},
   "source": [
    "----\n",
    "## Section 2: Classifying Countries<a id='classify'></a>\n",
    "\n",
    "We can see that the GNI per capita data is higher granularity than the life expectancy and education data because it contains the country codes and regions. Let's try to merge these datasets.\n",
    "\n",
    "<br>**Question 2.1:** Merge the life expectancy table and the GNI info tables. Check that `life_info` has 1503 rows."
   ]
  },
  {
   "cell_type": "code",
   "execution_count": null,
   "metadata": {},
   "outputs": [],
   "source": [
    "# copy column and rename so it can be merged with gni table\n",
    "life['Country Name'] = life['Country or Area']\n",
    "\n",
    "# create merged table\n",
    "life_info = ...\n",
    "\n",
    "# drop unneeded columns\n",
    "life_info.drop(['Unnamed: 5', 'Value Footnotes'], axis=1, inplace=True)"
   ]
  },
  {
   "cell_type": "markdown",
   "metadata": {},
   "source": [
    "**Question 2.2:** The merged shape differs from the two original data frames.  Why?  Use the function `returnNotMatches` below to investigate country names."
   ]
  },
  {
   "cell_type": "markdown",
   "metadata": {},
   "source": [
    "Use the function returnNotMatch(a, b) to compare two lists (don't edit this - just run it.)"
   ]
  },
  {
   "cell_type": "code",
   "execution_count": null,
   "metadata": {},
   "outputs": [],
   "source": [
    "def returnNotMatches(a, b):\n",
    "    a = set(a)\n",
    "    b = set(b)\n",
    "    return [list(b - a), list(a - b)]"
   ]
  },
  {
   "cell_type": "code",
   "execution_count": null,
   "metadata": {},
   "outputs": [],
   "source": [
    "# your code here\n",
    "diffs = ...\n",
    "print('Countries and regions only in `life` are \\n ', ...,'\\n') \n",
    "\n",
    "print('Countries and regions only in `gni_info` are:\\n ', ...)"
   ]
  },
  {
   "cell_type": "markdown",
   "metadata": {},
   "source": [
    "**Question 2.3:** Merge the expected years of schooling table and the mean years of schooling table for the year 2012 to agglomerate a table of all the years of schooling. Take out unneeded columns. The final table should be called `education` and have 186 rows and contain:\n",
    "1. `HDI Rank_mean` (this is the HDI rank as saved in the mean education data)\n",
    "1. `HDI Rank_expected` (this is the HDI rank as saved in the expected education data)\n",
    "1.  `Country`\t\n",
    "1. `2012_mean` (this is the education years as saved in the mean education data)\n",
    "1. `2012_expected` (this is the education years as saved in the expected education data)\n",
    "\n",
    "*Hint: `loc` and `rename` are helpful to get the required data*"
   ]
  },
  {
   "cell_type": "code",
   "execution_count": null,
   "metadata": {},
   "outputs": [],
   "source": [
    "...\n",
    "education = ..."
   ]
  },
  {
   "cell_type": "markdown",
   "metadata": {},
   "source": [
    "**Question 2.4:** Create a bar plot of the expected vs. mean years of schooling in 2012 for the United States. Use the method `.plot` on the data frame."
   ]
  },
  {
   "cell_type": "code",
   "execution_count": null,
   "metadata": {},
   "outputs": [],
   "source": [
    "# your code here"
   ]
  },
  {
   "cell_type": "markdown",
   "metadata": {},
   "source": [
    "**Question 2.5:** Compare the mean years of schooling in 2012 with the expected years of schooling in 2012 for the United States. What factors (i.e. income, health, ect) do you think effect the mean vs. the expected schooling?"
   ]
  },
  {
   "cell_type": "markdown",
   "metadata": {},
   "source": [
    "Answer: YOUR ANSWER HERE"
   ]
  },
  {
   "cell_type": "markdown",
   "metadata": {},
   "source": [
    "**Question 2.6:** Create a dataframe called `life_info_2012both` from `merge` where the data is only from the year 2012 with both sexes. The final table should contain 167 rows."
   ]
  },
  {
   "cell_type": "code",
   "execution_count": null,
   "metadata": {},
   "outputs": [],
   "source": [
    "...\n",
    "life_info_2012both = ..."
   ]
  },
  {
   "cell_type": "markdown",
   "metadata": {},
   "source": [
    "**Question 2.7:** Merge your `life_info_2012both` table with your `education` table to create a table `life_ed_info` that aggregates almost all the tables we have worked with so far."
   ]
  },
  {
   "cell_type": "code",
   "execution_count": null,
   "metadata": {},
   "outputs": [],
   "source": [
    "#rename columns\n",
    "life_info_2012both = life_info_2012both.rename(columns={'Country or Area': 'Country'})\n",
    "\n",
    "#merge tables\n",
    "life_ed_info = ..."
   ]
  },
  {
   "cell_type": "markdown",
   "metadata": {},
   "source": [
    "**Question 2.8** Create and display a list of countries that were lost when you merged `life_info_2012both` with `education`.  "
   ]
  },
  {
   "cell_type": "code",
   "execution_count": null,
   "metadata": {},
   "outputs": [],
   "source": [
    "#FILL IN ELLIPSES BELOW\n",
    "diffs = ...\n",
    "\n",
    "print('Countries and regions only in `life_info_2012both` are \\n ', diffs[0],'\\n') \n",
    "print('Countries and regions only in `education` are:\\n ', diffs[1])"
   ]
  },
  {
   "cell_type": "markdown",
   "metadata": {},
   "source": [
    "**Question 2.9:** According to our aggregate dataframe `life_ed_info`, what is the \n",
    "1. structure of the data?\n",
    "1. granularity of the data?\n",
    "1. scope of the data?\n",
    "1. temporality of the data?\n",
    "1. faithfulness of the data?"
   ]
  },
  {
   "cell_type": "markdown",
   "metadata": {},
   "source": [
    "Answer: YOUR ANSWER HERE"
   ]
  },
  {
   "cell_type": "markdown",
   "metadata": {},
   "source": [
    "**Question 2.10:** Group the `'HDI Rank_mean'` data by `'Income Group'`.  Summarize the data in a way that allows you to describe the relationship between HDI and income.\n",
    "\n",
    "*Hint: the function `groupby` and `.aggregate` are useful*"
   ]
  },
  {
   "cell_type": "code",
   "execution_count": null,
   "metadata": {},
   "outputs": [],
   "source": [
    "# RUN THIS CELL (don't change anything)\n",
    "# The HDI rank data are strings, so we'll convert them to numbers before proceeding.  \n",
    "life_ed_info['HDI Rank_mean'] = pd.to_numeric(life_ed_info['HDI Rank_mean'])"
   ]
  },
  {
   "cell_type": "code",
   "execution_count": null,
   "metadata": {},
   "outputs": [],
   "source": [
    "#Your answer here.  Create (and display) a dataframe that summarizes your results"
   ]
  },
  {
   "cell_type": "markdown",
   "metadata": {},
   "source": [
    "<br>\n",
    "\n",
    "----\n",
    "\n",
    "## Section 3. Computing HDI<a id='compute'></a>\n",
    "\n",
    "<br>\n",
    "<img src=\"hdi.png\" width=800>\n",
    "\n",
    "In this section, we will normalize each individual metric (GNI, life expectancy, education) and compute HDI based on the United Nations guide [here](http://hdr.undp.org/sites/default/files/hdr2016_technical_notes_0.pdf \"UNDP HDI Notes\"). \"The Human Development Index (HDI) is a summary measure of average achievement in key dimensions of human development: a long and healthy life, being knowledgeable and have a decent standard of living. The HDI is the geometric mean of normalized indices for each of the three dimensions.\"\n",
    "\n",
    "<br>\n",
    "The formula for calculating HDI is here:  \n",
    "<img src=\"hdicalc.png\" width=300>\n",
    "\n",
    "<br>\n",
    "Before we proceed, we're going to load in a correctly merged version of the data from the last section (in case you ran into errors).  Note also we've massaged the data a little, so it's important to use this table."
   ]
  },
  {
   "cell_type": "code",
   "execution_count": null,
   "metadata": {},
   "outputs": [],
   "source": [
    "# RUN THIS CELL\n",
    "life_ed_gni = pd.read_csv('data/life_ed_gni.csv')\n",
    "life_ed_gni.head()"
   ]
  },
  {
   "cell_type": "markdown",
   "metadata": {},
   "source": [
    "**Question 3.1:** Define a function that normalizes GNI. Test this function by inputting Afghanistan's GPP in 2012 (use the `gni_all` table)."
   ]
  },
  {
   "cell_type": "code",
   "execution_count": null,
   "metadata": {},
   "outputs": [],
   "source": [
    "def normalize_GNI(gni):\n",
    "    \"\"\"\n",
    "    Normalize GNI to get the Income Index.\n",
    "\n",
    "    Args:\n",
    "        An integer corresponding to the GNI PPP\n",
    "        of a country and year\n",
    "\n",
    "    Returns:\n",
    "        The Income Index (int)\n",
    "    \"\"\"\n",
    "    numerator = (np.log(...)-np.log(...))\n",
    "    denominator = (np.log(...)-np.log(...))\n",
    "    return np.divide(numerator, denominator)"
   ]
  },
  {
   "cell_type": "markdown",
   "metadata": {},
   "source": [
    "Run the following cell -- if it raises an error, that means there's an error in the function."
   ]
  },
  {
   "cell_type": "code",
   "execution_count": null,
   "metadata": {},
   "outputs": [],
   "source": [
    "#RUN THIS CELL\n",
    "first_num = life_ed_gni.loc[0,'GNI']\n",
    "\n",
    "test_gni_ans = normalize_GNI(first_num)\n",
    "\n",
    "assert test_gni_ans == 0.4447743835010624"
   ]
  },
  {
   "cell_type": "markdown",
   "metadata": {},
   "source": [
    "**Question 3.2:** Define a function that normalizes life expectancy. Test this function by inputting Afghanistan's life expectancy for both sexes in 2012."
   ]
  },
  {
   "cell_type": "code",
   "execution_count": null,
   "metadata": {},
   "outputs": [],
   "source": [
    "def normalize_life(life):\n",
    "    \"\"\"\n",
    "    Normalize life expectancy to get the Life Expectancy Index.\n",
    "\n",
    "    Args:\n",
    "        An integer corresponding to the life\n",
    "        expectancy for both sexes\n",
    "\n",
    "    Returns:\n",
    "        The Life Expectancy Index (int)\n",
    "    \"\"\"\n",
    "    sub = life-20\n",
    "    constants = 85-20\n",
    "    return np.divide(..., ...)"
   ]
  },
  {
   "cell_type": "markdown",
   "metadata": {},
   "source": [
    "Test the function by running the cell below -- if it raises an error, that means there's an error with the function."
   ]
  },
  {
   "cell_type": "code",
   "execution_count": null,
   "metadata": {},
   "outputs": [],
   "source": [
    "#RUN THIS CELL\n",
    "life_num = life_ed_gni.loc[0,'Life']\n",
    "\n",
    "test_life_ans = normalize_life(life_num)\n",
    "assert test_life_ans == 0.6153846153846154"
   ]
  },
  {
   "cell_type": "markdown",
   "metadata": {},
   "source": [
    "**Question 3.3:** Define a function that calculates the Expected Index. Test this function by inputting Afghanistan's expected years of schooling for 2012 and mean years of schooling for 2012."
   ]
  },
  {
   "cell_type": "code",
   "execution_count": null,
   "metadata": {},
   "outputs": [],
   "source": [
    "def normalize_ed(mean_var, exp_var):\n",
    "    \"\"\"\n",
    "    Normalize years of schooling to get the Years of Schooling Index.\n",
    "\n",
    "    Args:\n",
    "        First variable is mean education, second is expected education.\n",
    "\n",
    "    Returns:\n",
    "        The Years of Schooling Index (int)\n",
    "    \"\"\" \n",
    "    mysi = np.divide(mean_var, ...)\n",
    "    eysi = np.divide(exp_var, ...)\n",
    "    add = mysi+eysi\n",
    "    return np.divide(add, 2)"
   ]
  },
  {
   "cell_type": "markdown",
   "metadata": {},
   "source": [
    "Test the function by running the cell below -- if it raises an error, that means there's an error with the function."
   ]
  },
  {
   "cell_type": "code",
   "execution_count": null,
   "metadata": {},
   "outputs": [],
   "source": [
    "#RUN THIS CELL\n",
    "ed_nums = life_ed_gni.loc[0,['Ed_mean', 'Ed_expected']]\n",
    "\n",
    "test_ed_ans = normalize_ed(ed_nums[0],ed_nums[1])\n",
    "assert  test_ed_ans == 0.38833333333333336"
   ]
  },
  {
   "cell_type": "markdown",
   "metadata": {},
   "source": [
    "**Question 3.4:** Define a function that calculates the HDI. Test this function by inputting Afghanistan's normalized GPP in 2012, normalized life expectancy for both sexes in 2012, and normalized expected years of schooling in 2012."
   ]
  },
  {
   "cell_type": "code",
   "execution_count": null,
   "metadata": {},
   "outputs": [],
   "source": [
    "def calc_hdi(gni_var, life_var, ed_var):\n",
    "    \"\"\"\n",
    "    Compute HDI from normalized gni, life and education variables.\n",
    "    \n",
    "    Args:\n",
    "        normalized gni (first entry), life (second entry) and education (third entry).\n",
    "    \n",
    "    Returns: \n",
    "        The HDI (float)\n",
    "    \"\"\" \n",
    "    var = ...\n",
    "    return var **(np.divide(1,3))"
   ]
  },
  {
   "cell_type": "code",
   "execution_count": null,
   "metadata": {},
   "outputs": [],
   "source": [
    "#these three values were calculated using the previous three functions\n",
    "assert calc_hdi(test_gni_ans, test_life_ans, test_ed_ans) == 0.4736930620781577"
   ]
  },
  {
   "cell_type": "markdown",
   "metadata": {},
   "source": [
    "**Question 3.5:** Why is it important to normalize each individual metric in the HDI?"
   ]
  },
  {
   "cell_type": "markdown",
   "metadata": {},
   "source": [
    "[<i>your answer here</i>]"
   ]
  },
  {
   "cell_type": "markdown",
   "metadata": {},
   "source": [
    "**Question 3.6:** Use .apply() to create three new columns in the life_ed_gni data frame.  \n",
    "\n",
    "* The first new column will be normalized GNI, called 'GNI_n'\n",
    "* The second new column will be normalized life, called 'Life_n'\n",
    "* The third new column will be normalized Education, called 'Ed_n'"
   ]
  },
  {
   "cell_type": "code",
   "execution_count": null,
   "metadata": {},
   "outputs": [],
   "source": [
    "#FILL IN THE ELLIPSES BELOW\n",
    "life_ed_gni['GNI_n']= life_ed_gni['GNI'].apply(...)\n",
    "life_ed_gni['Life_n']= life_ed_gni[...].apply(...)\n",
    "life_ed_gni['Ed_n']= life_ed_gni[...].apply(lambda x: normalize_ed(..., ..., axis=1)"
   ]
  },
  {
   "cell_type": "markdown",
   "metadata": {},
   "source": [
    "**Question 3.7:** Find a way to check that all your normalized variables are in the range you expected.  \n",
    "\n",
    "*Note, if you've done it right, you'll find a few values are just a little outside the range (a few percent), and that's ok*"
   ]
  },
  {
   "cell_type": "code",
   "execution_count": null,
   "metadata": {},
   "outputs": [],
   "source": [
    "# your code here"
   ]
  },
  {
   "cell_type": "markdown",
   "metadata": {},
   "source": [
    "**Question 3.8**: Add a column to the data frame called 'HDI' that contains HDI values computed with `calc_hdi`.  \n",
    "\n",
    "Hint: As in Question 3.7, to use `.apply` with a function that takes multiple arguments you'll need to use a lambda function.  You can follow the syntax from Question 3.7 here to make it work."
   ]
  },
  {
   "cell_type": "code",
   "execution_count": null,
   "metadata": {},
   "outputs": [],
   "source": [
    "#YOUR ANSWER HERE\n",
    "life_ed_gni['...'] = life_ed_gni.apply(...)\n",
    "life_ed_gni.head()"
   ]
  },
  {
   "cell_type": "markdown",
   "metadata": {},
   "source": [
    "**Question 3.9:** Some countries have NaN values for the HDI metrics you created.  Why are they there?  "
   ]
  },
  {
   "cell_type": "markdown",
   "metadata": {},
   "source": [
    "[<i>your answer here</i>]"
   ]
  },
  {
   "cell_type": "markdown",
   "metadata": {},
   "source": [
    "----\n",
    "\n",
    "## Section 4: Country Rankings<a id='rank'></a>\n",
    "\n",
    "<br>\n",
    "We will examine how country rankings for HDI compare to rankings for individual metrics (health, education, income). \n",
    "\n",
    "Hint: the NaNs we discussed in Question 3.10 might get in the way of you displaying sorted data.  The `.dropna()` method might help.  "
   ]
  },
  {
   "cell_type": "markdown",
   "metadata": {},
   "source": [
    "**Question 4.1:** Display all columns of the `life_ed_gni` data frame for the 10 countries with the lowest HDI."
   ]
  },
  {
   "cell_type": "code",
   "execution_count": null,
   "metadata": {},
   "outputs": [],
   "source": [
    "#Bottom 10"
   ]
  },
  {
   "cell_type": "markdown",
   "metadata": {},
   "source": [
    "**Question 4.2**: Display all columns of the `life_ed_gni` data frame for the 10 countries with the highest HDI."
   ]
  },
  {
   "cell_type": "code",
   "execution_count": null,
   "metadata": {},
   "outputs": [],
   "source": [
    "#Top 10"
   ]
  },
  {
   "cell_type": "markdown",
   "metadata": {},
   "source": [
    "**Question 4.3**: GNI, life expectancy and education indices are strongly correlated with each other and with HDI for the bottom and the top countries.  But the correlation is not perfect.  Describe at least two important differences between countries that you think one would miss if they simply compared them by HDI."
   ]
  },
  {
   "cell_type": "markdown",
   "metadata": {},
   "source": [
    "[<i>your answer here</i>]"
   ]
  },
  {
   "cell_type": "markdown",
   "metadata": {},
   "source": [
    "----\n",
    "\n",
    "## Submission\n",
    "\n",
    "Congrats, you're done with homework 3!\n",
    "\n",
    "Before you submit, click **Kernel** --> **Restart & Clear Output**. Then, click **Cell** --> **Run All**. Then, go to the toolbar and click **File** -> **Download as** -> **.html** and submit the file through bCourses.\n",
    "\n",
    "----\n",
    "\n",
    "## Bibliography\n",
    "\n",
    "- United Nations - HDI definition. http://hdr.undp.org/en/content/human-development-index-hdi"
   ]
  },
  {
   "cell_type": "markdown",
   "metadata": {},
   "source": [
    "---\n",
    "Notebook developed by: Melissa Ly\n",
    "\n",
    "Data Science Modules: http://data.berkeley.edu/education/modules"
   ]
  }
 ],
 "metadata": {
  "kernelspec": {
   "display_name": "Python 3",
   "language": "python",
   "name": "python3"
  },
  "language_info": {
   "codemirror_mode": {
    "name": "ipython",
    "version": 3
   },
   "file_extension": ".py",
   "mimetype": "text/x-python",
   "name": "python",
   "nbconvert_exporter": "python",
   "pygments_lexer": "ipython3",
   "version": "3.6.5"
  }
 },
 "nbformat": 4,
 "nbformat_minor": 2
}
